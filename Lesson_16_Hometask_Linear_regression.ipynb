{
  "nbformat": 4,
  "nbformat_minor": 0,
  "metadata": {
    "colab": {
      "provenance": [],
      "toc_visible": true
    },
    "kernelspec": {
      "name": "python3",
      "display_name": "Python 3"
    },
    "language_info": {
      "name": "python"
    }
  },
  "cells": [
    {
      "cell_type": "markdown",
      "source": [
        "## Пишем код"
      ],
      "metadata": {
        "id": "-b28UgIV-O_Y"
      }
    },
    {
      "cell_type": "code",
      "execution_count": 1,
      "metadata": {
        "id": "6D5apGhwrtbF"
      },
      "outputs": [],
      "source": [
        "import numpy as np\n",
        "from random import randint, uniform\n",
        "import math\n",
        "from sklearn.metrics import mean_squared_error, mean_absolute_error, accuracy_score, precision_score, recall_score, f1_score, log_loss\n",
        "from collections import Counter\n",
        "import matplotlib.pyplot as plt\n",
        "from sklearn.datasets import make_regression\n",
        "from sklearn.linear_model import LinearRegression"
      ]
    },
    {
      "cell_type": "code",
      "source": [
        "def gen_list(x_min, x_max, lenght):\n",
        "    lst = []\n",
        "    for i in range(lenght):\n",
        "        lst.append(randint(x_min, x_max))\n",
        "    return lst\n",
        "\n",
        "def gen_bool_list(lenght):\n",
        "    lst = []\n",
        "    for i in range(lenght):\n",
        "        lst.append(randint(0, 1))\n",
        "    return lst\n",
        "\n",
        "def gen_true_valid_list(lenght, sublenght):\n",
        "    lst = []\n",
        "    for i in range(lenght):\n",
        "        sublst = []\n",
        "        for k in range(sublenght):\n",
        "            sublst.append(0)\n",
        "        sublst[randint(0, sublenght-1)] += 1\n",
        "        lst.append(sublst)\n",
        "    return lst\n",
        "\n",
        "def gen_pred_valid_list(lenght, sublenght):\n",
        "    lst = []\n",
        "    for i in range(lenght):\n",
        "        sublst = []\n",
        "        for k in range(sublenght):\n",
        "            sublst.append(randint(0, 100))\n",
        "        fin_sublst = []\n",
        "        for k in range(sublenght):\n",
        "            fin_sublst.append(sublst[k] / sum(sublst))\n",
        "        lst.append(fin_sublst)\n",
        "    return lst\n",
        "\n",
        "def std_devi(lst):\n",
        "    av_lst = sum(lst) / len(lst)\n",
        "    sum1 = 0\n",
        "    for i in range(len(lst)):\n",
        "        sum1 += math.fabs(lst[i] - av_lst)\n",
        "    std_devi = sum1 / len(lst)\n",
        "    return float(round(std_devi, 2))\n",
        "\n",
        "def dispers(lst):\n",
        "    av_lst = sum(lst) / len(lst)\n",
        "    sum1 = 0\n",
        "    for i in range(len(lst)):\n",
        "        sum1 += (lst[i] - av_lst)**2\n",
        "    dispers = sum1 / len(lst)\n",
        "    return float(round(dispers, 2))\n",
        "\n",
        "def mae(lst_pred, lst_true):\n",
        "    if len(lst_pred) != len(lst_true):\n",
        "        print('Разные размеры списков. Проверьте значения')\n",
        "    else:\n",
        "        sum1 = 0\n",
        "        for i in range(len(lst_pred)):\n",
        "            sum1 += math.fabs(lst_true[i] - lst_pred[i])\n",
        "        mae = sum1 / len(lst_true)\n",
        "        return float(round(mae, 2))\n",
        "\n",
        "def mse(lst_pred, lst_true):\n",
        "    if len(lst_pred) != len(lst_true):\n",
        "        print('Разные размеры списков. Проверьте значения')\n",
        "    else:\n",
        "        sum1 = 0\n",
        "        for i in range(len(lst_pred)):\n",
        "            sum1 += (lst_true[i] - lst_pred[i])**2\n",
        "        mse = sum1 / len(lst_true)\n",
        "        return float(round(mse, 2))\n",
        "\n",
        "def accur(lst_pred, lst_true):\n",
        "    if len(lst_pred) != len(lst_true):\n",
        "        raise Exception('Разные размеры списков. Проверьте значения')\n",
        "    else:\n",
        "        for i in range(len(lst_pred)):\n",
        "            if lst_pred[i] != bool(lst_pred[i]):\n",
        "                raise Exception(f'Ошибка {[i]} элемента 1 списка. Принимаются только значения 1 и 0 (нынешнее: {lst_pred[i]})')\n",
        "            else:\n",
        "                if lst_true[i] != bool(lst_true[i]):\n",
        "                    raise Exception(f'Ошибка {[i]} элемента 2 списка. Принимаются только значения 1 и 0 (нынешнее: {lst_true[i]})')\n",
        "    sum1 = 0\n",
        "    for i in range(len(lst_pred)):\n",
        "        if lst_pred[i] == lst_true[i]:\n",
        "            sum1 += 1\n",
        "        else:\n",
        "            sum1 += 0\n",
        "    accur = sum1 / len(lst_pred)\n",
        "    return accur\n",
        "\n",
        "def counter(lst_pred, lst_true):\n",
        "    if len(lst_pred) != len(lst_true):\n",
        "        raise Exception('Разные размеры списков. Проверьте значения')\n",
        "    else:\n",
        "        for i in range(len(lst_pred)):\n",
        "            if lst_pred[i] != bool(lst_pred[i]):\n",
        "                raise Exception(f'Ошибка {[i]} элемента 1 списка. Принимаются только значения 1 и 0 (нынешнее: {lst_pred[i]})')\n",
        "            else:\n",
        "                if lst_true[i] != bool(lst_true[i]):\n",
        "                    raise Exception(f'Ошибка {[i]} элемента 2 списка. Принимаются только значения 1 и 0 (нынешнее: {lst_true[i]})')\n",
        "    pairs = []\n",
        "    for i in range(len(lst_pred)):\n",
        "        pairs.append((lst_pred[i], lst_true[i]))\n",
        "    pair_counts = Counter(pairs)\n",
        "    return pair_counts\n",
        "\n",
        "def precision(lst_pred, lst_true):\n",
        "    counters = counter(lst_pred, lst_true)\n",
        "    TP = counters.get((1, 1), 0)\n",
        "    FP = counters.get((0, 1), 0)\n",
        "    FN = counters.get((1, 0), 0)\n",
        "    precision = TP / (TP + FP)\n",
        "    print(round(precision, 2))\n",
        "\n",
        "def recall(lst_pred, lst_true):\n",
        "    counters = counter(lst_pred, lst_true)\n",
        "    TP = counters.get((1, 1), 0)\n",
        "    FP = counters.get((0, 1), 0)\n",
        "    FN = counters.get((1, 0), 0)\n",
        "    recall = TP / (TP + FN)\n",
        "    print(round(recall, 2))\n",
        "\n",
        "def f1(lst_pred, lst_true):\n",
        "    counters = counter(lst_pred, lst_true)\n",
        "    TP = counters.get((1, 1), 0)\n",
        "    FP = counters.get((0, 1), 0)\n",
        "    FN = counters.get((1, 0), 0)\n",
        "    precision = TP / (TP + FP)\n",
        "    recall = TP / (TP + FN)\n",
        "    f1 = 2 * (precision * recall) / (precision + recall)\n",
        "    print(round(f1, 2))\n",
        "\n",
        "def cross_enthropy_loss(lst_pred, lst_true):\n",
        "    a = 0.000000000001\n",
        "    sum1 = 0\n",
        "    for yp, yt in zip(lst_pred, lst_true):\n",
        "        sum1 += yt * math.log(yp + a)\n",
        "    return -sum1\n",
        "\n",
        "def array_cross_enthropy_loss(lst_pred, lst_true):\n",
        "    sum1 = 0\n",
        "    for y_pred, y_true in zip(lst_pred, lst_true):\n",
        "        sum1 += cross_enthropy_loss(y_pred, y_true)\n",
        "        cel = sum1 / len(lst_pred)\n",
        "    return cel\n",
        "\n",
        "def log_cosh_loss(lst_pred, lst_true):\n",
        "    return np.mean(np.log(np.cosh(lst_pred - lst_true)))"
      ],
      "metadata": {
        "id": "gg0RTKT7v87N"
      },
      "execution_count": 2,
      "outputs": []
    },
    {
      "cell_type": "markdown",
      "source": [
        "## Проверяем функции ошибок"
      ],
      "metadata": {
        "id": "Pewd8ksW-Yog"
      }
    },
    {
      "cell_type": "code",
      "source": [
        "lst1_pred = gen_list(0, 10, 10)\n",
        "lst1_true = gen_list(0, 10, 10)\n",
        "print(lst1_pred)\n",
        "print(lst1_true)"
      ],
      "metadata": {
        "colab": {
          "base_uri": "https://localhost:8080/"
        },
        "id": "yiPS0Rjo1tA8",
        "outputId": "81294422-58a2-4de4-ae58-6129b4983bf4"
      },
      "execution_count": 3,
      "outputs": [
        {
          "output_type": "stream",
          "name": "stdout",
          "text": [
            "[1, 0, 3, 10, 9, 4, 0, 0, 4, 8]\n",
            "[7, 8, 8, 5, 7, 3, 7, 8, 1, 8]\n"
          ]
        }
      ]
    },
    {
      "cell_type": "code",
      "source": [
        "std_devi(lst1_pred)"
      ],
      "metadata": {
        "colab": {
          "base_uri": "https://localhost:8080/"
        },
        "id": "_A6Y8Jd68-Ez",
        "outputId": "095d673f-c8f5-4312-b94a-ab137269f42f"
      },
      "execution_count": 4,
      "outputs": [
        {
          "output_type": "execute_result",
          "data": {
            "text/plain": [
              "3.1"
            ]
          },
          "metadata": {},
          "execution_count": 4
        }
      ]
    },
    {
      "cell_type": "code",
      "source": [
        "dispers(lst1_pred)"
      ],
      "metadata": {
        "colab": {
          "base_uri": "https://localhost:8080/"
        },
        "id": "9xC-ctPCBQmj",
        "outputId": "843c3d34-fdc0-4fab-d5d7-380bda4176e6"
      },
      "execution_count": 5,
      "outputs": [
        {
          "output_type": "execute_result",
          "data": {
            "text/plain": [
              "13.49"
            ]
          },
          "metadata": {},
          "execution_count": 5
        }
      ]
    },
    {
      "cell_type": "code",
      "source": [
        "mae(lst1_pred, lst1_true)"
      ],
      "metadata": {
        "colab": {
          "base_uri": "https://localhost:8080/"
        },
        "id": "-0gU_VdgSMk0",
        "outputId": "c6273612-3bb4-4d49-87d6-5de58be1b4a6"
      },
      "execution_count": 6,
      "outputs": [
        {
          "output_type": "execute_result",
          "data": {
            "text/plain": [
              "4.5"
            ]
          },
          "metadata": {},
          "execution_count": 6
        }
      ]
    },
    {
      "cell_type": "code",
      "source": [
        "mean_absolute_error(lst1_pred, lst1_true)"
      ],
      "metadata": {
        "colab": {
          "base_uri": "https://localhost:8080/"
        },
        "id": "1-ICyTY-bk6F",
        "outputId": "62e94cce-dbbf-46a7-e8c7-fd65dea99b72"
      },
      "execution_count": 7,
      "outputs": [
        {
          "output_type": "execute_result",
          "data": {
            "text/plain": [
              "4.5"
            ]
          },
          "metadata": {},
          "execution_count": 7
        }
      ]
    },
    {
      "cell_type": "code",
      "source": [
        "mse(lst1_pred, lst1_true)"
      ],
      "metadata": {
        "colab": {
          "base_uri": "https://localhost:8080/"
        },
        "id": "8qs3n9JUStAI",
        "outputId": "499eca10-5e78-4e26-9f64-af3cc5e05643"
      },
      "execution_count": 8,
      "outputs": [
        {
          "output_type": "execute_result",
          "data": {
            "text/plain": [
              "27.7"
            ]
          },
          "metadata": {},
          "execution_count": 8
        }
      ]
    },
    {
      "cell_type": "code",
      "source": [
        "mean_squared_error(lst1_pred, lst1_true)"
      ],
      "metadata": {
        "colab": {
          "base_uri": "https://localhost:8080/"
        },
        "id": "Q7ccZ_NebTWo",
        "outputId": "7df7467b-1750-4cae-d462-1baa2d9be442"
      },
      "execution_count": 9,
      "outputs": [
        {
          "output_type": "execute_result",
          "data": {
            "text/plain": [
              "27.7"
            ]
          },
          "metadata": {},
          "execution_count": 9
        }
      ]
    },
    {
      "cell_type": "code",
      "source": [
        "lst1_pred = np.array(lst1_pred)\n",
        "lst1_true = np.array(lst1_true)"
      ],
      "metadata": {
        "id": "BUbG6lzRGvFr"
      },
      "execution_count": 10,
      "outputs": []
    },
    {
      "cell_type": "code",
      "source": [
        "log_cosh_loss(lst1_pred, lst1_true)"
      ],
      "metadata": {
        "colab": {
          "base_uri": "https://localhost:8080/"
        },
        "id": "EkLdRemQGhYQ",
        "outputId": "64d82996-036d-4066-d4b9-41c9734b2768"
      },
      "execution_count": 11,
      "outputs": [
        {
          "output_type": "execute_result",
          "data": {
            "text/plain": [
              "3.8909326997649627"
            ]
          },
          "metadata": {},
          "execution_count": 11
        }
      ]
    },
    {
      "cell_type": "code",
      "source": [
        "lst2_pred = gen_bool_list(20)\n",
        "lst2_true = gen_bool_list(20)\n",
        "print(lst2_pred)\n",
        "print(lst2_true)"
      ],
      "metadata": {
        "colab": {
          "base_uri": "https://localhost:8080/"
        },
        "id": "xx1zgTUZXwa1",
        "outputId": "95417155-5de3-4603-ab38-6365134b2b91"
      },
      "execution_count": 12,
      "outputs": [
        {
          "output_type": "stream",
          "name": "stdout",
          "text": [
            "[0, 0, 1, 1, 1, 1, 0, 0, 1, 0, 1, 0, 0, 1, 0, 1, 1, 1, 0, 1]\n",
            "[0, 0, 0, 1, 0, 1, 1, 1, 0, 1, 1, 0, 0, 1, 0, 1, 1, 1, 1, 1]\n"
          ]
        }
      ]
    },
    {
      "cell_type": "code",
      "source": [
        "accur(lst2_pred, lst2_true)"
      ],
      "metadata": {
        "colab": {
          "base_uri": "https://localhost:8080/"
        },
        "id": "-0x5CHCDU5Yi",
        "outputId": "01f6d945-2e0b-4774-acbd-5dece453478f"
      },
      "execution_count": 13,
      "outputs": [
        {
          "output_type": "execute_result",
          "data": {
            "text/plain": [
              "0.65"
            ]
          },
          "metadata": {},
          "execution_count": 13
        }
      ]
    },
    {
      "cell_type": "code",
      "source": [
        "accuracy_score(lst2_pred, lst2_true)"
      ],
      "metadata": {
        "colab": {
          "base_uri": "https://localhost:8080/"
        },
        "id": "U2tq5etYbuXU",
        "outputId": "562cbdf9-8c1b-4005-e43d-91be1d2168ab"
      },
      "execution_count": 14,
      "outputs": [
        {
          "output_type": "execute_result",
          "data": {
            "text/plain": [
              "0.65"
            ]
          },
          "metadata": {},
          "execution_count": 14
        }
      ]
    },
    {
      "cell_type": "code",
      "source": [
        "precision(lst2_pred, lst2_true)"
      ],
      "metadata": {
        "colab": {
          "base_uri": "https://localhost:8080/"
        },
        "id": "zd7mJX72gElI",
        "outputId": "7ebdac93-508b-4a41-a590-ef69a7da0b2e"
      },
      "execution_count": 15,
      "outputs": [
        {
          "output_type": "stream",
          "name": "stdout",
          "text": [
            "0.67\n"
          ]
        }
      ]
    },
    {
      "cell_type": "code",
      "source": [
        "round(precision_score(lst2_pred, lst2_true), 2)"
      ],
      "metadata": {
        "colab": {
          "base_uri": "https://localhost:8080/"
        },
        "id": "5ffYVyTGj71i",
        "outputId": "a019dab3-b724-4d7f-b5ab-c5c694c496bc"
      },
      "execution_count": 16,
      "outputs": [
        {
          "output_type": "execute_result",
          "data": {
            "text/plain": [
              "0.67"
            ]
          },
          "metadata": {},
          "execution_count": 16
        }
      ]
    },
    {
      "cell_type": "code",
      "source": [
        "recall(lst2_pred, lst2_true)"
      ],
      "metadata": {
        "colab": {
          "base_uri": "https://localhost:8080/"
        },
        "id": "nf6Rz-PBj__l",
        "outputId": "830a2ac2-3cad-46e4-c769-fd7f6bbf4520"
      },
      "execution_count": 17,
      "outputs": [
        {
          "output_type": "stream",
          "name": "stdout",
          "text": [
            "0.73\n"
          ]
        }
      ]
    },
    {
      "cell_type": "code",
      "source": [
        "round(recall_score(lst2_pred, lst2_true), 2)"
      ],
      "metadata": {
        "colab": {
          "base_uri": "https://localhost:8080/"
        },
        "id": "bKeC12CskCDI",
        "outputId": "d6811f9e-d509-421c-8ebd-daf190266e06"
      },
      "execution_count": 18,
      "outputs": [
        {
          "output_type": "execute_result",
          "data": {
            "text/plain": [
              "0.73"
            ]
          },
          "metadata": {},
          "execution_count": 18
        }
      ]
    },
    {
      "cell_type": "code",
      "source": [
        "f1(lst2_pred, lst2_true)"
      ],
      "metadata": {
        "colab": {
          "base_uri": "https://localhost:8080/"
        },
        "id": "uiIyG7oikER2",
        "outputId": "cedf5fa4-bba4-41b0-df3a-71e94fb08f6f"
      },
      "execution_count": 19,
      "outputs": [
        {
          "output_type": "stream",
          "name": "stdout",
          "text": [
            "0.7\n"
          ]
        }
      ]
    },
    {
      "cell_type": "code",
      "source": [
        "round(f1_score(lst2_pred, lst2_true), 2)"
      ],
      "metadata": {
        "colab": {
          "base_uri": "https://localhost:8080/"
        },
        "id": "4mTlS3oMkQNw",
        "outputId": "31e31545-ab14-495e-859b-c51a54d6e00b"
      },
      "execution_count": 20,
      "outputs": [
        {
          "output_type": "execute_result",
          "data": {
            "text/plain": [
              "0.7"
            ]
          },
          "metadata": {},
          "execution_count": 20
        }
      ]
    },
    {
      "cell_type": "code",
      "source": [
        "lst3_pred = gen_pred_valid_list(10, 4)\n",
        "lst3_true = gen_true_valid_list(10, 4)\n",
        "print(lst3_pred)\n",
        "print(lst3_true)"
      ],
      "metadata": {
        "colab": {
          "base_uri": "https://localhost:8080/"
        },
        "id": "DOwsptyPJ80_",
        "outputId": "c8f4edab-50eb-40e3-e98a-f82662615112"
      },
      "execution_count": 21,
      "outputs": [
        {
          "output_type": "stream",
          "name": "stdout",
          "text": [
            "[[0.06334841628959276, 0.27601809954751133, 0.2579185520361991, 0.40271493212669685], [0.29213483146067415, 0.299625468164794, 0.2808988764044944, 0.12734082397003746], [0.34275618374558303, 0.24028268551236748, 0.27208480565371024, 0.14487632508833923], [0.1762295081967213, 0.4098360655737705, 0.09836065573770492, 0.3155737704918033], [0.14601769911504425, 0.3938053097345133, 0.28761061946902655, 0.17256637168141592], [0.2922374429223744, 0.4063926940639269, 0.0, 0.3013698630136986], [0.3671875, 0.15234375, 0.33984375, 0.140625], [0.12631578947368421, 0.48947368421052634, 0.22631578947368422, 0.15789473684210525], [0.46190476190476193, 0.2523809523809524, 0.22857142857142856, 0.05714285714285714], [0.0196078431372549, 0.4117647058823529, 0.5392156862745098, 0.029411764705882353]]\n",
            "[[0, 0, 0, 1], [0, 0, 1, 0], [1, 0, 0, 0], [0, 0, 0, 1], [0, 1, 0, 0], [0, 0, 0, 1], [1, 0, 0, 0], [0, 0, 0, 1], [0, 0, 0, 1], [1, 0, 0, 0]]\n"
          ]
        }
      ]
    },
    {
      "cell_type": "code",
      "source": [
        "round(array_cross_enthropy_loss(lst3_pred, lst3_true), 2)"
      ],
      "metadata": {
        "colab": {
          "base_uri": "https://localhost:8080/"
        },
        "id": "JvWt7RhRYGZ1",
        "outputId": "7ea83063-ccb3-4e66-a63b-302bde84e938"
      },
      "execution_count": 22,
      "outputs": [
        {
          "output_type": "execute_result",
          "data": {
            "text/plain": [
              "1.62"
            ]
          },
          "metadata": {},
          "execution_count": 22
        }
      ]
    },
    {
      "cell_type": "code",
      "source": [
        "round(log_loss(lst3_true, lst3_pred), 2)"
      ],
      "metadata": {
        "colab": {
          "base_uri": "https://localhost:8080/"
        },
        "id": "SqIj3PvbdWcz",
        "outputId": "80943dc6-b8ca-404f-c6ef-4fb757c4f0fd"
      },
      "execution_count": 23,
      "outputs": [
        {
          "output_type": "execute_result",
          "data": {
            "text/plain": [
              "1.62"
            ]
          },
          "metadata": {},
          "execution_count": 23
        }
      ]
    },
    {
      "cell_type": "markdown",
      "source": [
        "## Линейная регрессия"
      ],
      "metadata": {
        "id": "hxzMISeKatJn"
      }
    },
    {
      "cell_type": "markdown",
      "source": [
        "### Одномерная линейная регрессия"
      ],
      "metadata": {
        "id": "WNSKMVN4-G88"
      }
    },
    {
      "cell_type": "code",
      "source": [
        "def func(x):\n",
        "    return x ** 2\n",
        "\n",
        "def gr_func(x):\n",
        "    return 2 * x"
      ],
      "metadata": {
        "id": "MI4tQdu9_QiH"
      },
      "execution_count": 24,
      "outputs": []
    },
    {
      "cell_type": "code",
      "source": [
        "eps = 0.0001\n",
        "start_point = 5\n",
        "learning_rate = 0.1\n",
        "next_point = start_point\n",
        "\n",
        "x = []\n",
        "x.append(next_point)\n",
        "\n",
        "D = 10\n",
        "\n",
        "X = np.linspace(-D, +D, 20)\n",
        "Y = func(X)\n",
        "\n",
        "plt.figure(figsize=(16, 6))\n",
        "plt.plot(X, Y, 'r', label='Y(X)')\n",
        "\n",
        "n = 100\n",
        "for i in range(n):\n",
        "    current_point = next_point\n",
        "\n",
        "    next_point = current_point - learning_rate * gr_func(current_point)\n",
        "    x.append(next_point)\n",
        "\n",
        "    print(f\"Итерация: {i}\")\n",
        "    print(f\"Текущая точка {current_point}| Следующая точка {next_point}\")\n",
        "    print(\"--------------------------------------------------------\")\n",
        "\n",
        "    if(abs(current_point - next_point) <= eps):\n",
        "        break\n",
        "\n",
        "print(f\"минимум {next_point}, количество затраченных итераций: {i}\")\n",
        "X_grad = np.array(x)\n",
        "plt.plot(X_grad, func(X_grad), '-*g', label = 'GD')\n",
        "plt.legend()\n",
        "plt.xlabel('X')\n",
        "plt.ylabel('Y')\n",
        "plt.show()"
      ],
      "metadata": {
        "colab": {
          "base_uri": "https://localhost:8080/",
          "height": 1000
        },
        "id": "Zm1NDq7e_0Ma",
        "outputId": "84efa171-e70c-4636-8e03-059afdcf7027"
      },
      "execution_count": 25,
      "outputs": [
        {
          "output_type": "stream",
          "name": "stdout",
          "text": [
            "Итерация: 0\n",
            "Текущая точка 5| Следующая точка 4.0\n",
            "--------------------------------------------------------\n",
            "Итерация: 1\n",
            "Текущая точка 4.0| Следующая точка 3.2\n",
            "--------------------------------------------------------\n",
            "Итерация: 2\n",
            "Текущая точка 3.2| Следующая точка 2.56\n",
            "--------------------------------------------------------\n",
            "Итерация: 3\n",
            "Текущая точка 2.56| Следующая точка 2.048\n",
            "--------------------------------------------------------\n",
            "Итерация: 4\n",
            "Текущая точка 2.048| Следующая точка 1.6384\n",
            "--------------------------------------------------------\n",
            "Итерация: 5\n",
            "Текущая точка 1.6384| Следующая точка 1.31072\n",
            "--------------------------------------------------------\n",
            "Итерация: 6\n",
            "Текущая точка 1.31072| Следующая точка 1.0485760000000002\n",
            "--------------------------------------------------------\n",
            "Итерация: 7\n",
            "Текущая точка 1.0485760000000002| Следующая точка 0.8388608000000002\n",
            "--------------------------------------------------------\n",
            "Итерация: 8\n",
            "Текущая точка 0.8388608000000002| Следующая точка 0.6710886400000001\n",
            "--------------------------------------------------------\n",
            "Итерация: 9\n",
            "Текущая точка 0.6710886400000001| Следующая точка 0.5368709120000001\n",
            "--------------------------------------------------------\n",
            "Итерация: 10\n",
            "Текущая точка 0.5368709120000001| Следующая точка 0.4294967296000001\n",
            "--------------------------------------------------------\n",
            "Итерация: 11\n",
            "Текущая точка 0.4294967296000001| Следующая точка 0.3435973836800001\n",
            "--------------------------------------------------------\n",
            "Итерация: 12\n",
            "Текущая точка 0.3435973836800001| Следующая точка 0.27487790694400005\n",
            "--------------------------------------------------------\n",
            "Итерация: 13\n",
            "Текущая точка 0.27487790694400005| Следующая точка 0.21990232555520003\n",
            "--------------------------------------------------------\n",
            "Итерация: 14\n",
            "Текущая точка 0.21990232555520003| Следующая точка 0.17592186044416003\n",
            "--------------------------------------------------------\n",
            "Итерация: 15\n",
            "Текущая точка 0.17592186044416003| Следующая точка 0.140737488355328\n",
            "--------------------------------------------------------\n",
            "Итерация: 16\n",
            "Текущая точка 0.140737488355328| Следующая точка 0.11258999068426241\n",
            "--------------------------------------------------------\n",
            "Итерация: 17\n",
            "Текущая точка 0.11258999068426241| Следующая точка 0.09007199254740993\n",
            "--------------------------------------------------------\n",
            "Итерация: 18\n",
            "Текущая точка 0.09007199254740993| Следующая точка 0.07205759403792794\n",
            "--------------------------------------------------------\n",
            "Итерация: 19\n",
            "Текущая точка 0.07205759403792794| Следующая точка 0.057646075230342354\n",
            "--------------------------------------------------------\n",
            "Итерация: 20\n",
            "Текущая точка 0.057646075230342354| Следующая точка 0.04611686018427388\n",
            "--------------------------------------------------------\n",
            "Итерация: 21\n",
            "Текущая точка 0.04611686018427388| Следующая точка 0.03689348814741911\n",
            "--------------------------------------------------------\n",
            "Итерация: 22\n",
            "Текущая точка 0.03689348814741911| Следующая точка 0.029514790517935284\n",
            "--------------------------------------------------------\n",
            "Итерация: 23\n",
            "Текущая точка 0.029514790517935284| Следующая точка 0.02361183241434823\n",
            "--------------------------------------------------------\n",
            "Итерация: 24\n",
            "Текущая точка 0.02361183241434823| Следующая точка 0.018889465931478583\n",
            "--------------------------------------------------------\n",
            "Итерация: 25\n",
            "Текущая точка 0.018889465931478583| Следующая точка 0.015111572745182867\n",
            "--------------------------------------------------------\n",
            "Итерация: 26\n",
            "Текущая точка 0.015111572745182867| Следующая точка 0.012089258196146294\n",
            "--------------------------------------------------------\n",
            "Итерация: 27\n",
            "Текущая точка 0.012089258196146294| Следующая точка 0.009671406556917036\n",
            "--------------------------------------------------------\n",
            "Итерация: 28\n",
            "Текущая точка 0.009671406556917036| Следующая точка 0.007737125245533628\n",
            "--------------------------------------------------------\n",
            "Итерация: 29\n",
            "Текущая точка 0.007737125245533628| Следующая точка 0.006189700196426903\n",
            "--------------------------------------------------------\n",
            "Итерация: 30\n",
            "Текущая точка 0.006189700196426903| Следующая точка 0.004951760157141522\n",
            "--------------------------------------------------------\n",
            "Итерация: 31\n",
            "Текущая точка 0.004951760157141522| Следующая точка 0.003961408125713218\n",
            "--------------------------------------------------------\n",
            "Итерация: 32\n",
            "Текущая точка 0.003961408125713218| Следующая точка 0.0031691265005705745\n",
            "--------------------------------------------------------\n",
            "Итерация: 33\n",
            "Текущая точка 0.0031691265005705745| Следующая точка 0.00253530120045646\n",
            "--------------------------------------------------------\n",
            "Итерация: 34\n",
            "Текущая точка 0.00253530120045646| Следующая точка 0.0020282409603651678\n",
            "--------------------------------------------------------\n",
            "Итерация: 35\n",
            "Текущая точка 0.0020282409603651678| Следующая точка 0.0016225927682921343\n",
            "--------------------------------------------------------\n",
            "Итерация: 36\n",
            "Текущая точка 0.0016225927682921343| Следующая точка 0.0012980742146337075\n",
            "--------------------------------------------------------\n",
            "Итерация: 37\n",
            "Текущая точка 0.0012980742146337075| Следующая точка 0.001038459371706966\n",
            "--------------------------------------------------------\n",
            "Итерация: 38\n",
            "Текущая точка 0.001038459371706966| Следующая точка 0.0008307674973655728\n",
            "--------------------------------------------------------\n",
            "Итерация: 39\n",
            "Текущая точка 0.0008307674973655728| Следующая точка 0.0006646139978924582\n",
            "--------------------------------------------------------\n",
            "Итерация: 40\n",
            "Текущая точка 0.0006646139978924582| Следующая точка 0.0005316911983139665\n",
            "--------------------------------------------------------\n",
            "Итерация: 41\n",
            "Текущая точка 0.0005316911983139665| Следующая точка 0.00042535295865117324\n",
            "--------------------------------------------------------\n",
            "Итерация: 42\n",
            "Текущая точка 0.00042535295865117324| Следующая точка 0.0003402823669209386\n",
            "--------------------------------------------------------\n",
            "минимум 0.0003402823669209386, количество затраченных итераций: 42\n"
          ]
        },
        {
          "output_type": "display_data",
          "data": {
            "text/plain": [
              "<Figure size 1600x600 with 1 Axes>"
            ],
            "image/png": "[encoded data removed]"
          },
          "metadata": {}
        }
      ]
    },
    {
      "cell_type": "code",
      "source": [
        "X, y, coeffs = make_regression(n_samples=50, n_features=1, n_informative=1,\n",
        "                       noise=10, coef=True, random_state=5)\n",
        "\n",
        "display(X, y)"
      ],
      "metadata": {
        "colab": {
          "base_uri": "https://localhost:8080/",
          "height": 1000
        },
        "id": "7R3wC3PW13Y2",
        "outputId": "affd2649-b4b3-4397-ee89-2f33e3eb77e5"
      },
      "execution_count": 84,
      "outputs": [
        {
          "output_type": "display_data",
          "data": {
            "text/plain": [
              "array([[-0.00619491],\n",
              "       [ 0.10960984],\n",
              "       [ 0.10073819],\n",
              "       [ 0.26961241],\n",
              "       [-0.05230815],\n",
              "       [-0.10593044],\n",
              "       [ 0.19766009],\n",
              "       [-0.10061435],\n",
              "       [ 0.35543847],\n",
              "       [ 0.6034716 ],\n",
              "       [-0.98060789],\n",
              "       [-0.33087015],\n",
              "       [-0.10106761],\n",
              "       [-0.47773142],\n",
              "       [-0.35882895],\n",
              "       [-0.87187918],\n",
              "       [ 0.24921766],\n",
              "       [-0.59163666],\n",
              "       [ 0.4944404 ],\n",
              "       [-1.51117956],\n",
              "       [-0.9092324 ],\n",
              "       [ 2.43077119],\n",
              "       [ 0.99643983],\n",
              "       [-0.36331088],\n",
              "       [-0.42250793],\n",
              "       [-0.30585302],\n",
              "       [ 1.15139101],\n",
              "       [-0.25209213],\n",
              "       [-0.20487651],\n",
              "       [-0.08687561],\n",
              "       [ 1.13934298],\n",
              "       [-0.32986996],\n",
              "       [ 1.29196338],\n",
              "       [-0.33633626],\n",
              "       [-0.63157163],\n",
              "       [ 1.56153229],\n",
              "       [-1.66478853],\n",
              "       [ 0.18760323],\n",
              "       [ 0.00328884],\n",
              "       [ 0.44122749],\n",
              "       [ 0.79305332],\n",
              "       [ 1.85733101],\n",
              "       [ 1.33484857],\n",
              "       [ 0.71242127],\n",
              "       [-0.85685315],\n",
              "       [ 0.05914424],\n",
              "       [ 0.64484751],\n",
              "       [-0.70017904],\n",
              "       [ 1.58248112],\n",
              "       [-1.19276461]])"
            ]
          },
          "metadata": {}
        },
        {
          "output_type": "display_data",
          "data": {
            "text/plain": [
              "array([ -3.30585732,  18.99042238,   4.80550251,  13.34829038,\n",
              "        -2.31742667,  -7.95827838,  18.28139971,  -7.63508795,\n",
              "        22.04303243,  36.99387264, -53.05511043, -29.5157668 ,\n",
              "         1.4456274 , -18.47603558, -20.72585265, -45.32741565,\n",
              "         5.17538347, -34.42627095,  14.60063393, -68.72859275,\n",
              "       -23.02618092, 140.32310385,  52.36268843,  -7.51543715,\n",
              "       -23.5057377 ,  -6.59675821,  63.40917088, -20.28618665,\n",
              "       -35.19897123,   3.26711791,  56.16958964, -20.8643009 ,\n",
              "        68.37399875,  -5.05355054, -29.06686129,  95.20058249,\n",
              "       -91.51298284,   2.88304865,   6.713746  ,  19.16446264,\n",
              "        42.2221697 , 113.3968336 ,  75.99290211,  25.40192279,\n",
              "       -50.25727627,  -6.97633483,  32.77324587, -48.23468985,\n",
              "        72.61323181, -63.03569989])"
            ]
          },
          "metadata": {}
        }
      ]
    },
    {
      "cell_type": "code",
      "source": [
        "fig = plt.figure(figsize=(10, 6))\n",
        "plt.scatter(X, y)\n",
        "\n",
        "plt.xlabel('feature')\n",
        "plt.ylabel('target')\n",
        "plt.show()"
      ],
      "metadata": {
        "colab": {
          "base_uri": "https://localhost:8080/",
          "height": 544
        },
        "id": "gR5jSTkF2HKV",
        "outputId": "888a858b-2ee8-4c38-c0e2-35280e4fff33"
      },
      "execution_count": 85,
      "outputs": [
        {
          "output_type": "display_data",
          "data": {
            "text/plain": [
              "<Figure size 1000x600 with 1 Axes>"
            ],
            "image/png": "[encoded data removed]"
          },
          "metadata": {}
        }
      ]
    },
    {
      "cell_type": "code",
      "source": [
        "model = LinearRegression()\n",
        "model.fit(X, y)\n",
        "model_a = model.coef_[0]\n",
        "model_b = model.intercept_\n",
        "print(model_a, model_b)"
      ],
      "metadata": {
        "colab": {
          "base_uri": "https://localhost:8080/"
        },
        "id": "wxsGXUTJ3PDG",
        "outputId": "ee660a79-41dc-450a-aa74-969e2386f2f7"
      },
      "execution_count": 86,
      "outputs": [
        {
          "output_type": "stream",
          "name": "stdout",
          "text": [
            "53.515420115303996 0.5060501738990792\n"
          ]
        }
      ]
    },
    {
      "cell_type": "code",
      "source": [
        "fig = plt.figure(figsize=(10, 6))\n",
        "\n",
        "x = np.arange(-3, 3)\n",
        "model_y_sk = model_a * x + model_b\n",
        "\n",
        "plt.plot(x, model_y_sk, linewidth=2, c='r', label=f'linear_model = {model_a:.2f}x + {model_b:.2f}')\n",
        "plt.scatter(X, y)\n",
        "plt.plot([0, 1], [model_b, model_b], 'y', linewidth=3)\n",
        "plt.plot([1, 1], [model_b, model_b+model_a], 'y', linewidth=3)\n",
        "plt.grid()\n",
        "plt.xlabel('feature')\n",
        "plt.ylabel('target')\n",
        "plt.legend(prop={'size': 16})\n",
        "plt.show()"
      ],
      "metadata": {
        "colab": {
          "base_uri": "https://localhost:8080/",
          "height": 542
        },
        "id": "ueZj5Doy3vvY",
        "outputId": "00671f6e-5368-4b20-9d6f-041e3887d9ab"
      },
      "execution_count": 87,
      "outputs": [
        {
          "output_type": "display_data",
          "data": {
            "text/plain": [
              "<Figure size 1000x600 with 1 Axes>"
            ],
            "image/png": "[encoded data removed]"
          },
          "metadata": {}
        }
      ]
    },
    {
      "cell_type": "code",
      "source": [
        "def mserror(X, w1, w0, y):\n",
        "    y_pred = w1 * X[:, 0] + w0\n",
        "    return np.sum((y - y_pred) ** 2) / len(y_pred)\n",
        "\n",
        "def gr_mserror(X, w1, w0, y):\n",
        "    y_pred = w1 * X[:, 0] + w0\n",
        "    return np.array([2/len(X)*np.sum((y - y_pred)) * (-1),\n",
        "                     2/len(X)*np.sum((y - y_pred) * (-X[:, 0]))])"
      ],
      "metadata": {
        "id": "FbP5dhcNBR2O"
      },
      "execution_count": 88,
      "outputs": []
    },
    {
      "cell_type": "code",
      "source": [
        "eps = 0.001\n",
        "\n",
        "w1 = 0\n",
        "w0 = 0\n",
        "\n",
        "learning_rate = 0.1\n",
        "\n",
        "next_w1 = w1\n",
        "next_w0 = w0\n",
        "\n",
        "for i in range(100):      # или while (abs(cur_w1 - next_w1) <= eps) and (abs(cur_w0 - next_w0) <= eps):\n",
        "\n",
        "    cur_w1 = next_w1\n",
        "    cur_w0 = next_w0\n",
        "\n",
        "    next_w0 = cur_w0 - learning_rate * gr_mserror(X, cur_w1, cur_w0, y)[0]\n",
        "    next_w1 = cur_w1 - learning_rate * gr_mserror(X, cur_w1, cur_w0, y)[1]\n",
        "\n",
        "    if (abs(cur_w1 - next_w1) <= eps) and (abs(cur_w0 - next_w0) <= eps):\n",
        "        break\n",
        "\n",
        "    print(f\"Итераций: {i}\")\n",
        "    print(f\"Текущая точка {cur_w1, cur_w0}\")\n",
        "    print(f\"MSE {mserror(X, cur_w1, cur_w0, y)}\")\n",
        "    print(\"----------------------------------------------------------\")"
      ],
      "metadata": {
        "colab": {
          "base_uri": "https://localhost:8080/"
        },
        "id": "-yiqLdc0T69K",
        "outputId": "6906535a-634b-43b2-ab8e-5e12ab892539"
      },
      "execution_count": 89,
      "outputs": [
        {
          "output_type": "stream",
          "name": "stdout",
          "text": [
            "Итераций: 0\n",
            "Текущая точка (0, 0)\n",
            "MSE 2162.5029259321414\n",
            "----------------------------------------------------------\n",
            "Итераций: 1\n",
            "Текущая точка (7.785532686722551, 1.1333972662006413)\n",
            "MSE 1590.5347363193764\n",
            "----------------------------------------------------------\n",
            "Итераций: 2\n",
            "Текущая точка (14.417969566800423, 1.8899503712745322)\n",
            "MSE 1178.4170996864514\n",
            "----------------------------------------------------------\n",
            "Итераций: 3\n",
            "Текущая точка (20.072123506988003, 2.3672686673879872)\n",
            "MSE 880.4183339148502\n",
            "----------------------------------------------------------\n",
            "Итераций: 4\n",
            "Текущая точка (24.895524468535633, 2.6400679051251084)\n",
            "MSE 664.2525071976429\n",
            "----------------------------------------------------------\n",
            "Итераций: 5\n",
            "Текущая точка (29.012825267994078, 2.7652751772111746)\n",
            "MSE 507.0049070864867\n",
            "----------------------------------------------------------\n",
            "Итераций: 6\n",
            "Текущая точка (32.529468720068046, 2.7860278966746295)\n",
            "MSE 392.33174071853813\n",
            "----------------------------------------------------------\n",
            "Итераций: 7\n",
            "Текущая точка (35.534744814941206, 2.734802248771905)\n",
            "MSE 308.52309044751854\n",
            "----------------------------------------------------------\n",
            "Итераций: 8\n",
            "Текущая точка (38.10434334826856, 2.6358569867302752)\n",
            "MSE 247.154523407783\n",
            "----------------------------------------------------------\n",
            "Итераций: 9\n",
            "Текущая точка (40.30248851980608, 2.507139234082574)\n",
            "MSE 202.14273961047368\n",
            "----------------------------------------------------------\n",
            "Итераций: 10\n",
            "Текущая точка (42.18372661712505, 2.361767955122228)\n",
            "MSE 169.0803477113803\n",
            "----------------------------------------------------------\n",
            "Итераций: 11\n",
            "Текущая точка (43.79442533682274, 2.209186251031494)\n",
            "MSE 144.76470259074225\n",
            "----------------------------------------------------------\n",
            "Итераций: 12\n",
            "Текущая точка (45.17403302978017, 2.0560542783862115)\n",
            "MSE 126.8624934239012\n",
            "----------------------------------------------------------\n",
            "Итераций: 13\n",
            "Текущая точка (46.35613775620778, 1.9069392960651332)\n",
            "MSE 113.66984986937878\n",
            "----------------------------------------------------------\n",
            "Итераций: 14\n",
            "Текущая точка (47.36935915096651, 1.764847276083679)\n",
            "MSE 103.94002998747659\n",
            "----------------------------------------------------------\n",
            "Итераций: 15\n",
            "Текущая точка (48.238100447634956, 1.631630990265802)\n",
            "MSE 96.75917123508408\n",
            "----------------------------------------------------------\n",
            "Итераций: 16\n",
            "Текущая точка (48.98318336270087, 1.5083019747969126)\n",
            "MSE 91.45638628896421\n",
            "----------------------------------------------------------\n",
            "Итераций: 17\n",
            "Текущая точка (49.62238471423142, 1.3952678564357544)\n",
            "MSE 87.53850805081395\n",
            "----------------------------------------------------------\n",
            "Итераций: 18\n",
            "Текущая точка (50.17089049256768, 1.292511863365404)\n",
            "MSE 84.64259530295679\n",
            "----------------------------------------------------------\n",
            "Итераций: 19\n",
            "Текущая точка (50.641680492358844, 1.1997276759128734)\n",
            "MSE 82.50128112637226\n",
            "----------------------------------------------------------\n",
            "Итераций: 20\n",
            "Текущая точка (51.04585445673921, 1.1164198884728653)\n",
            "MSE 80.91743747224038\n",
            "----------------------------------------------------------\n",
            "Итераций: 21\n",
            "Текущая точка (51.39290889519273, 1.0419780884887582)\n",
            "MSE 79.74561675081664\n",
            "----------------------------------------------------------\n",
            "Итераций: 22\n",
            "Текущая точка (51.69097225106682, 0.9757307804685234)\n",
            "MSE 78.87843562526096\n",
            "----------------------------------------------------------\n",
            "Итераций: 23\n",
            "Текущая точка (51.94700485925896, 0.9169839893663965)\n",
            "MSE 78.2365708377984\n",
            "----------------------------------------------------------\n",
            "Итераций: 24\n",
            "Текущая точка (52.166969105551345, 0.8650482865723241)\n",
            "MSE 77.76139995327112\n",
            "----------------------------------------------------------\n",
            "Итераций: 25\n",
            "Текущая точка (52.355974340584446, 0.81925712872812)\n",
            "MSE 77.40958207380808\n",
            "----------------------------------------------------------\n",
            "Итераций: 26\n",
            "Текущая точка (52.51840038416718, 0.7789787337289286)\n",
            "MSE 77.14906352385952\n",
            "----------------------------------------------------------\n",
            "Итераций: 27\n",
            "Текущая точка (52.658002855392944, 0.7436231994152454)\n",
            "MSE 76.95613153102657\n",
            "----------------------------------------------------------\n",
            "Итераций: 28\n",
            "Текущая точка (52.77800306102305, 0.7126461669550592)\n",
            "MSE 76.81323948918399\n",
            "----------------------------------------------------------\n",
            "Итераций: 29\n",
            "Текущая точка (52.88116475246084, 0.6855500178129841)\n",
            "MSE 76.70740082450608\n",
            "----------------------------------------------------------\n",
            "Итераций: 30\n",
            "Текущая точка (52.96985970687711, 0.661883350863139)\n",
            "MSE 76.62900221804802\n",
            "----------------------------------------------------------\n",
            "Итераций: 31\n",
            "Текущая точка (53.0461237895058, 0.6412392991729995)\n",
            "MSE 76.57092632516368\n",
            "----------------------------------------------------------\n",
            "Итераций: 32\n",
            "Текущая точка (53.11170490257265, 0.6232531021199749)\n",
            "MSE 76.52790304683997\n",
            "----------------------------------------------------------\n",
            "Итераций: 33\n",
            "Текущая точка (53.1681040140892, 0.607599238262036)\n",
            "MSE 76.49602966331628\n",
            "----------------------------------------------------------\n",
            "Итераций: 34\n",
            "Текущая точка (53.216610280477354, 0.5939883402847843)\n",
            "MSE 76.47241578304023\n",
            "----------------------------------------------------------\n",
            "Итераций: 35\n",
            "Текущая точка (53.258331125392054, 0.5821640495258651)\n",
            "MSE 76.45492058350668\n",
            "----------------------------------------------------------\n",
            "Итераций: 36\n",
            "Текущая точка (53.29421800877025, 0.5718999194443892)\n",
            "MSE 76.4419583167632\n",
            "----------------------------------------------------------\n",
            "Итераций: 37\n",
            "Текущая точка (53.325088511370744, 0.5629964413718167)\n",
            "MSE 76.43235432118645\n",
            "----------------------------------------------------------\n",
            "Итераций: 38\n",
            "Текущая точка (53.35164526780426, 0.5552782391535641)\n",
            "MSE 76.42523840938956\n",
            "----------------------------------------------------------\n",
            "Итераций: 39\n",
            "Текущая точка (53.37449220270955, 0.5485914596884428)\n",
            "MSE 76.41996592098558\n",
            "----------------------------------------------------------\n",
            "Итераций: 40\n",
            "Текущая точка (53.39414845814908, 0.5428013722023649)\n",
            "MSE 76.41605925558832\n",
            "----------------------------------------------------------\n",
            "Итераций: 41\n",
            "Текущая точка (53.41106034366333, 0.5377901790404336)\n",
            "MSE 76.41316456944732\n",
            "----------------------------------------------------------\n",
            "Итераций: 42\n",
            "Текущая точка (53.42561159221094, 0.5334550338120311)\n",
            "MSE 76.41101970064804\n",
            "----------------------------------------------------------\n",
            "Итераций: 43\n",
            "Текущая точка (53.43813216414968, 0.5297062580938009)\n",
            "MSE 76.4094304098444\n",
            "----------------------------------------------------------\n",
            "Итераций: 44\n",
            "Текущая точка (53.44890580639759, 0.526465744983843)\n",
            "MSE 76.40825277976086\n",
            "----------------------------------------------------------\n",
            "Итераций: 45\n",
            "Текущая точка (53.458176544042374, 0.5236655361465368)\n",
            "MSE 76.40738017643368\n",
            "----------------------------------------------------------\n",
            "Итераций: 46\n",
            "Текущая точка (53.46615425616755, 0.5212465582404472)\n",
            "MSE 76.40673358950134\n",
            "----------------------------------------------------------\n",
            "Итераций: 47\n",
            "Текущая точка (53.47301946588442, 0.5191575045160085)\n",
            "MSE 76.40625447561798\n",
            "----------------------------------------------------------\n",
            "Итераций: 48\n",
            "Текущая точка (53.47892745594537, 0.5173538477051636)\n",
            "MSE 76.40589945620874\n",
            "----------------------------------------------------------\n",
            "Итераций: 49\n",
            "Текущая точка (53.484011805398985, 0.5157969709525244)\n",
            "MSE 76.40563638899701\n",
            "----------------------------------------------------------\n",
            "Итераций: 50\n",
            "Текущая точка (53.48838742913277, 0.5144534043465002)\n",
            "MSE 76.40544145731151\n",
            "----------------------------------------------------------\n",
            "Итераций: 51\n",
            "Текущая точка (53.49215319049681, 0.5132941555185312)\n",
            "MSE 76.40529701345251\n",
            "----------------------------------------------------------\n",
            "Итераций: 52\n",
            "Текущая точка (53.49539414722532, 0.5122941237310801)\n",
            "MSE 76.40518998074361\n",
            "----------------------------------------------------------\n",
            "Итераций: 53\n",
            "Текущая точка (53.49818348232745, 0.5114315878294543)\n",
            "MSE 76.40511066952492\n",
            "----------------------------------------------------------\n",
            "Итераций: 54\n",
            "Текущая точка (53.5005841642965, 0.5106877593608965)\n",
            "MSE 76.40505189984835\n",
            "----------------------------------------------------------\n",
            "Итераций: 55\n",
            "Текущая точка (53.5026503747106, 0.5100463930483069)\n",
            "MSE 76.40500835142221\n",
            "----------------------------------------------------------\n",
            "Итераций: 56\n",
            "Текущая точка (53.50442873591658, 0.5094934476341452)\n",
            "MSE 76.40497608193674\n",
            "----------------------------------------------------------\n",
            "Итераций: 57\n",
            "Текущая точка (53.50595936687329, 0.5090167908764021)\n",
            "MSE 76.40495217015331\n",
            "----------------------------------------------------------\n",
            "Итераций: 58\n",
            "Текущая точка (53.507276791271195, 0.5086059431806296)\n",
            "MSE 76.40493445143939\n",
            "----------------------------------------------------------\n"
          ]
        }
      ]
    },
    {
      "cell_type": "code",
      "source": [
        "print('Коэффициенты наклона', end=' ')\n",
        "print(f'True {coeffs}, trained {next_w1}')\n",
        "\n",
        "print('Коэффициенты сдвига', end=' ')\n",
        "print(f'True 0, trained {next_w0}')"
      ],
      "metadata": {
        "colab": {
          "base_uri": "https://localhost:8080/"
        },
        "id": "YKjHYAXbQIwS",
        "outputId": "14397ed9-f1d2-4e65-b574-ffa0d16fdece"
      },
      "execution_count": 90,
      "outputs": [
        {
          "output_type": "stream",
          "name": "stdout",
          "text": [
            "Коэффициенты наклона True 54.63583485408069, trained 53.509386716297655\n",
            "Коэффициенты сдвига True 0, trained 0.5079467136318428\n"
          ]
        }
      ]
    },
    {
      "cell_type": "code",
      "source": [
        "fig = plt.figure(figsize=(10, 6))\n",
        "\n",
        "x = np.arange(-3, 3)\n",
        "our_model_y = next_w1 * x + next_w0\n",
        "\n",
        "plt.plot(x, model_y_sk, linewidth=4, alpha=0.5, c='r', label=f'sklearn linear_model = {model_a:.2f}x + {model_b:.2f}')\n",
        "plt.plot(x, our_model_y, '--g', linewidth=2, label=f'our linear_model = {next_w1:.2f}x + {next_w0:.2f}')\n",
        "plt.scatter(X, y)\n",
        "plt.grid()\n",
        "plt.xlabel('feature')\n",
        "plt.ylabel('target')\n",
        "plt.legend(prop={'size': 16})\n",
        "plt.show()"
      ],
      "metadata": {
        "colab": {
          "base_uri": "https://localhost:8080/",
          "height": 542
        },
        "id": "JGhNSBzqRWc7",
        "outputId": "2575dcec-7b68-456b-ef86-e5dcc2dd620e"
      },
      "execution_count": 43,
      "outputs": [
        {
          "output_type": "display_data",
          "data": {
            "text/plain": [
              "<Figure size 1000x600 with 1 Axes>"
            ],
            "image/png": "[encoded data removed]"
          },
          "metadata": {}
        }
      ]
    },
    {
      "cell_type": "markdown",
      "source": [
        "### Многомерная линейная регрессия"
      ],
      "metadata": {
        "id": "ud4xi8gsa11Q"
      }
    },
    {
      "cell_type": "code",
      "source": [
        "X, y = make_regression(n_samples=50, n_features=4, n_informative=4,\n",
        "                       noise=10, random_state=5)\n",
        "\n",
        "display(X, y)"
      ],
      "metadata": {
        "colab": {
          "base_uri": "https://localhost:8080/",
          "height": 1000
        },
        "id": "eVwtdbyabORG",
        "outputId": "d62cbf34-28f6-4388-e869-2c7b524ac2ef"
      },
      "execution_count": 77,
      "outputs": [
        {
          "output_type": "display_data",
          "data": {
            "text/plain": [
              "array([[ 2.52080763,  1.01813761,  0.49832921, -0.84646862],\n",
              "       [ 0.52184949,  0.39042061, -1.06503262,  0.30560017],\n",
              "       [ 0.51725935,  0.41367881, -0.56705117, -0.51025606],\n",
              "       [ 0.24921766, -0.10106761, -0.00619491, -0.05230815],\n",
              "       [-0.01694532,  2.23796561,  0.45765807, -1.4812592 ],\n",
              "       [ 1.14720208, -0.57321556, -1.26408334,  0.24981732],\n",
              "       [ 0.34650175,  0.54856784, -0.64635659,  0.21054246],\n",
              "       [-2.24911813, -0.74790579, -1.7811513 , -0.36840953],\n",
              "       [-0.20487651, -0.32986996,  0.18760323, -1.19276461],\n",
              "       [ 0.12480683,  2.26010677, -0.10716398,  0.65661947],\n",
              "       [-0.48713265,  0.72695326, -1.23238611,  0.04595522],\n",
              "       [-0.41417827, -0.17170905, -1.03849524,  0.47634618],\n",
              "       [-1.16727845, -0.28143012,  0.81613236, -2.33562182],\n",
              "       [ 0.03654264, -0.0347021 ,  2.23327081, -1.27962318],\n",
              "       [ 0.61784475, -0.23998173,  0.02421074,  0.91011056],\n",
              "       [-0.6346525 ,  1.46520488,  1.73844881,  1.21228341],\n",
              "       [-0.36331088,  0.71242127,  0.99643983,  0.05914424],\n",
              "       [-0.05567103,  0.87715281, -1.5996985 , -0.09383245],\n",
              "       [ 0.77690759,  0.34691933,  2.08851469,  0.74572695],\n",
              "       [ 1.53875615,  0.7893664 , -2.85968797, -1.87774088],\n",
              "       [-0.25209213, -0.33087015,  0.44122749,  2.43077119],\n",
              "       [ 0.78823794, -0.69282634, -0.07915136, -0.59340277],\n",
              "       [ 0.64484751,  1.85733101,  1.15139101, -1.51117956],\n",
              "       [ 0.63029648,  0.17076445,  0.79242262, -1.75374086],\n",
              "       [-0.2434197 , -0.20211818,  0.87265462, -0.59835993],\n",
              "       [-0.82412345,  0.97217931, -0.43570392, -0.24071114],\n",
              "       [-0.75483059,  0.30364847, -1.69367504, -0.40899234],\n",
              "       [-0.63157163, -0.10593044,  0.00328884,  0.79305332],\n",
              "       [ 0.22125412, -0.10061435, -0.33633626,  1.41339802],\n",
              "       [ 0.50048733, -0.48212019, -0.44542999,  0.49355766],\n",
              "       [-0.81391201, -2.38669774, -0.05935198,  1.22217056],\n",
              "       [ 0.46510099, -1.30095145, -0.88942073,  1.40216662],\n",
              "       [ 1.46309548,  0.70979786,  2.07361553,  0.74715259],\n",
              "       [-1.39707402, -0.42703139,  1.82136474, -1.16470191],\n",
              "       [-0.70609387, -1.11840643, -0.30100513,  0.49852362],\n",
              "       [ 0.35543847, -0.47773142, -0.30585302,  0.10073819],\n",
              "       [-0.2151878 ,  1.06135144,  1.01842113, -0.71046645],\n",
              "       [-0.42250793, -0.85685315, -0.98060789, -0.87187918],\n",
              "       [-1.42192455,  0.60687032,  1.45073354, -0.37562084],\n",
              "       [ 0.10134479,  0.44295626,  1.4438811 ,  0.46770521],\n",
              "       [-0.22418983, -0.63851056,  0.95626186, -0.14312642],\n",
              "       [ 1.56153229,  1.33484857,  0.19766009, -0.08687561],\n",
              "       [ 1.63995407, -0.81262476, -0.40751917,  0.92751621],\n",
              "       [-0.59163666,  1.58248112,  0.10960984, -0.9092324 ],\n",
              "       [ 0.4944404 ,  1.29196338,  0.26961241,  1.13934298],\n",
              "       [ 0.90688947,  0.28740365,  0.83594396, -0.9955963 ],\n",
              "       [ 1.15220477, -0.68956523, -1.31077313, -0.57751323],\n",
              "       [-0.70017904,  0.6034716 , -0.35882895, -1.66478853],\n",
              "       [-0.07359332,  0.01275832,  0.56813272,  1.18906073],\n",
              "       [-0.50175555, -0.71116323, -0.76076031,  1.14150774]])"
            ]
          },
          "metadata": {}
        },
        {
          "output_type": "display_data",
          "data": {
            "text/plain": [
              "array([ 6.79077625e+01,  4.28540739e+01, -2.67478576e+01, -1.52986333e+01,\n",
              "        1.88998824e+00, -3.19684771e+00,  5.16252666e+01, -1.65712447e+02,\n",
              "       -1.32636581e+02,  1.94932728e+02,  1.96605683e+01, -3.61350474e+00,\n",
              "       -2.55052782e+02, -7.84316234e+01,  9.62502262e+01,  2.33403054e+02,\n",
              "        5.66718929e+01, -2.42925875e-02,  1.49544530e+02, -1.51773371e+02,\n",
              "        2.02954928e+02, -8.12897541e+01,  2.38890719e+01, -1.24303697e+02,\n",
              "       -6.67023536e+01,  2.42087155e+01, -7.10814950e+01,  7.25852605e+01,\n",
              "        1.22080715e+02,  1.64902972e+01, -7.69017972e+01,  3.13223912e+01,\n",
              "        1.74371380e+02, -1.38966757e+02, -5.12424724e+01, -2.36036140e+01,\n",
              "        2.78438779e+01, -1.63657384e+02, -7.16059434e+00,  9.60647255e+01,\n",
              "       -4.40401385e+01,  1.07226616e+02,  6.88096712e+01, -1.51973885e+01,\n",
              "        2.12024584e+02, -3.73139829e+01, -9.75856317e+01, -1.42612743e+02,\n",
              "        1.15106802e+02,  3.01099669e+01])"
            ]
          },
          "metadata": {}
        }
      ]
    },
    {
      "cell_type": "code",
      "source": [
        "model = LinearRegression()\n",
        "model.fit(X, y)\n",
        "model.coef_, model.intercept_"
      ],
      "metadata": {
        "colab": {
          "base_uri": "https://localhost:8080/"
        },
        "id": "mTwoT504bUjh",
        "outputId": "c6e1551a-174d-4562-fb64-0b6340399b32"
      },
      "execution_count": 80,
      "outputs": [
        {
          "output_type": "execute_result",
          "data": {
            "text/plain": [
              "(array([24.19920747, 64.24424263, 19.3631286 , 93.43390167]),\n",
              " -2.298104054925936)"
            ]
          },
          "metadata": {},
          "execution_count": 80
        }
      ]
    }
  ]
}