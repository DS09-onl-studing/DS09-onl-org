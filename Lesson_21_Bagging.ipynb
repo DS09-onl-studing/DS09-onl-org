{
  "nbformat": 4,
  "nbformat_minor": 0,
  "metadata": {
    "colab": {
      "provenance": []
    },
    "kernelspec": {
      "name": "python3",
      "display_name": "Python 3"
    },
    "language_info": {
      "name": "python"
    }
  },
  "cells": [
    {
      "cell_type": "code",
      "execution_count": 17,
      "metadata": {
        "id": "vsRWhBIULVOs"
      },
      "outputs": [],
      "source": [
        "import pandas as pd\n",
        "import numpy as np\n",
        "import seaborn as sns\n",
        "import matplotlib.pyplot as plt\n",
        "from sklearn.model_selection import train_test_split\n",
        "from sklearn.preprocessing import StandardScaler\n",
        "from google.colab import drive\n",
        "from keras.utils import to_categorical\n",
        "from sklearn.metrics import f1_score, mean_squared_error\n",
        "import xgboost as xgb\n",
        "from sklearn.ensemble import RandomForestClassifier\n",
        "from sklearn.ensemble import GradientBoostingClassifier\n",
        "from sklearn.ensemble import RandomForestRegressor\n",
        "from sklearn.tree import DecisionTreeRegressor\n",
        "from sklearn.tree import DecisionTreeClassifier\n",
        "from sklearn.model_selection import StratifiedKFold\n",
        "from collections import Counter"
      ]
    },
    {
      "cell_type": "code",
      "source": [
        "drive.mount('/content/drive')"
      ],
      "metadata": {
        "colab": {
          "base_uri": "https://localhost:8080/"
        },
        "id": "BwdFXPmcMsSH",
        "outputId": "6727c5f8-8ac9-48c7-a9f0-acf1a3c9148d"
      },
      "execution_count": 2,
      "outputs": [
        {
          "output_type": "stream",
          "name": "stdout",
          "text": [
            "Mounted at /content/drive\n"
          ]
        }
      ]
    },
    {
      "cell_type": "code",
      "source": [
        "df_titanic = pd.read_csv('/content/drive/MyDrive/train.csv')\n",
        "df_boston = pd.read_csv('/content/drive/MyDrive/BostonHousing.csv')"
      ],
      "metadata": {
        "id": "UZmx1huTMtSs"
      },
      "execution_count": 3,
      "outputs": []
    },
    {
      "cell_type": "code",
      "source": [
        "df_titanic.head()"
      ],
      "metadata": {
        "colab": {
          "base_uri": "https://localhost:8080/",
          "height": 206
        },
        "id": "P9dkcPQyNf-N",
        "outputId": "b6a8f5e3-0783-4cdd-9a04-50e3cafd0d3d"
      },
      "execution_count": null,
      "outputs": [
        {
          "output_type": "execute_result",
          "data": {
            "text/plain": [
              "   PassengerId  Survived  Pclass  \\\n",
              "0            1         0       3   \n",
              "1            2         1       1   \n",
              "2            3         1       3   \n",
              "3            4         1       1   \n",
              "4            5         0       3   \n",
              "\n",
              "                                                Name     Sex   Age  SibSp  \\\n",
              "0                            Braund, Mr. Owen Harris    male  22.0      1   \n",
              "1  Cumings, Mrs. John Bradley (Florence Briggs Th...  female  38.0      1   \n",
              "2                             Heikkinen, Miss. Laina  female  26.0      0   \n",
              "3       Futrelle, Mrs. Jacques Heath (Lily May Peel)  female  35.0      1   \n",
              "4                           Allen, Mr. William Henry    male  35.0      0   \n",
              "\n",
              "   Parch            Ticket     Fare Cabin Embarked  \n",
              "0      0         A/5 21171   7.2500   NaN        S  \n",
              "1      0          PC 17599  71.2833   C85        C  \n",
              "2      0  STON/O2. 3101282   7.9250   NaN        S  \n",
              "3      0            113803  53.1000  C123        S  \n",
              "4      0            373450   8.0500   NaN        S  "
            ],
            "text/html": [
              "\n",
              "  <div id=\"df-7c288d31-037c-4ca8-a680-b93008e3ee32\" class=\"colab-df-container\">\n",
              "    <div>\n",
              "<style scoped>\n",
              "    .dataframe tbody tr th:only-of-type {\n",
              "        vertical-align: middle;\n",
              "    }\n",
              "\n",
              "    .dataframe tbody tr th {\n",
              "        vertical-align: top;\n",
              "    }\n",
              "\n",
              "    .dataframe thead th {\n",
              "        text-align: right;\n",
              "    }\n",
              "</style>\n",
              "<table border=\"1\" class=\"dataframe\">\n",
              "  <thead>\n",
              "    <tr style=\"text-align: right;\">\n",
              "      <th></th>\n",
              "      <th>PassengerId</th>\n",
              "      <th>Survived</th>\n",
              "      <th>Pclass</th>\n",
              "      <th>Name</th>\n",
              "      <th>Sex</th>\n",
              "      <th>Age</th>\n",
              "      <th>SibSp</th>\n",
              "      <th>Parch</th>\n",
              "      <th>Ticket</th>\n",
              "      <th>Fare</th>\n",
              "      <th>Cabin</th>\n",
              "      <th>Embarked</th>\n",
              "    </tr>\n",
              "  </thead>\n",
              "  <tbody>\n",
              "    <tr>\n",
              "      <th>0</th>\n",
              "      <td>1</td>\n",
              "      <td>0</td>\n",
              "      <td>3</td>\n",
              "      <td>Braund, Mr. Owen Harris</td>\n",
              "      <td>male</td>\n",
              "      <td>22.0</td>\n",
              "      <td>1</td>\n",
              "      <td>0</td>\n",
              "      <td>A/5 21171</td>\n",
              "      <td>7.2500</td>\n",
              "      <td>NaN</td>\n",
              "      <td>S</td>\n",
              "    </tr>\n",
              "    <tr>\n",
              "      <th>1</th>\n",
              "      <td>2</td>\n",
              "      <td>1</td>\n",
              "      <td>1</td>\n",
              "      <td>Cumings, Mrs. John Bradley (Florence Briggs Th...</td>\n",
              "      <td>female</td>\n",
              "      <td>38.0</td>\n",
              "      <td>1</td>\n",
              "      <td>0</td>\n",
              "      <td>PC 17599</td>\n",
              "      <td>71.2833</td>\n",
              "      <td>C85</td>\n",
              "      <td>C</td>\n",
              "    </tr>\n",
              "    <tr>\n",
              "      <th>2</th>\n",
              "      <td>3</td>\n",
              "      <td>1</td>\n",
              "      <td>3</td>\n",
              "      <td>Heikkinen, Miss. Laina</td>\n",
              "      <td>female</td>\n",
              "      <td>26.0</td>\n",
              "      <td>0</td>\n",
              "      <td>0</td>\n",
              "      <td>STON/O2. 3101282</td>\n",
              "      <td>7.9250</td>\n",
              "      <td>NaN</td>\n",
              "      <td>S</td>\n",
              "    </tr>\n",
              "    <tr>\n",
              "      <th>3</th>\n",
              "      <td>4</td>\n",
              "      <td>1</td>\n",
              "      <td>1</td>\n",
              "      <td>Futrelle, Mrs. Jacques Heath (Lily May Peel)</td>\n",
              "      <td>female</td>\n",
              "      <td>35.0</td>\n",
              "      <td>1</td>\n",
              "      <td>0</td>\n",
              "      <td>113803</td>\n",
              "      <td>53.1000</td>\n",
              "      <td>C123</td>\n",
              "      <td>S</td>\n",
              "    </tr>\n",
              "    <tr>\n",
              "      <th>4</th>\n",
              "      <td>5</td>\n",
              "      <td>0</td>\n",
              "      <td>3</td>\n",
              "      <td>Allen, Mr. William Henry</td>\n",
              "      <td>male</td>\n",
              "      <td>35.0</td>\n",
              "      <td>0</td>\n",
              "      <td>0</td>\n",
              "      <td>373450</td>\n",
              "      <td>8.0500</td>\n",
              "      <td>NaN</td>\n",
              "      <td>S</td>\n",
              "    </tr>\n",
              "  </tbody>\n",
              "</table>\n",
              "</div>\n",
              "    <div class=\"colab-df-buttons\">\n",
              "\n",
              "  <div class=\"colab-df-container\">\n",
              "    <button class=\"colab-df-convert\" onclick=\"convertToInteractive('df-7c288d31-037c-4ca8-a680-b93008e3ee32')\"\n",
              "            title=\"Convert this dataframe to an interactive table.\"\n",
              "            style=\"display:none;\">\n",
              "\n",
              "  <svg xmlns=\"http://www.w3.org/2000/svg\" height=\"24px\" viewBox=\"0 -960 960 960\">\n",
              "    <path d=\"M120-120v-720h720v720H120Zm60-500h600v-160H180v160Zm220 220h160v-160H400v160Zm0 220h160v-160H400v160ZM180-400h160v-160H180v160Zm440 0h160v-160H620v160ZM180-180h160v-160H180v160Zm440 0h160v-160H620v160Z\"/>\n",
              "  </svg>\n",
              "    </button>\n",
              "\n",
              "  <style>\n",
              "    .colab-df-container {\n",
              "      display:flex;\n",
              "      gap: 12px;\n",
              "    }\n",
              "\n",
              "    .colab-df-convert {\n",
              "      background-color: #E8F0FE;\n",
              "      border: none;\n",
              "      border-radius: 50%;\n",
              "      cursor: pointer;\n",
              "      display: none;\n",
              "      fill: #1967D2;\n",
              "      height: 32px;\n",
              "      padding: 0 0 0 0;\n",
              "      width: 32px;\n",
              "    }\n",
              "\n",
              "    .colab-df-convert:hover {\n",
              "      background-color: #E2EBFA;\n",
              "      box-shadow: 0px 1px 2px rgba(60, 64, 67, 0.3), 0px 1px 3px 1px rgba(60, 64, 67, 0.15);\n",
              "      fill: #174EA6;\n",
              "    }\n",
              "\n",
              "    .colab-df-buttons div {\n",
              "      margin-bottom: 4px;\n",
              "    }\n",
              "\n",
              "    [theme=dark] .colab-df-convert {\n",
              "      background-color: #3B4455;\n",
              "      fill: #D2E3FC;\n",
              "    }\n",
              "\n",
              "    [theme=dark] .colab-df-convert:hover {\n",
              "      background-color: #434B5C;\n",
              "      box-shadow: 0px 1px 3px 1px rgba(0, 0, 0, 0.15);\n",
              "      filter: drop-shadow(0px 1px 2px rgba(0, 0, 0, 0.3));\n",
              "      fill: #FFFFFF;\n",
              "    }\n",
              "  </style>\n",
              "\n",
              "    <script>\n",
              "      const buttonEl =\n",
              "        document.querySelector('#df-7c288d31-037c-4ca8-a680-b93008e3ee32 button.colab-df-convert');\n",
              "      buttonEl.style.display =\n",
              "        google.colab.kernel.accessAllowed ? 'block' : 'none';\n",
              "\n",
              "      async function convertToInteractive(key) {\n",
              "        const element = document.querySelector('#df-7c288d31-037c-4ca8-a680-b93008e3ee32');\n",
              "        const dataTable =\n",
              "          await google.colab.kernel.invokeFunction('convertToInteractive',\n",
              "                                                    [key], {});\n",
              "        if (!dataTable) return;\n",
              "\n",
              "        const docLinkHtml = 'Like what you see? Visit the ' +\n",
              "          '<a target=\"_blank\" href=https://colab.research.google.com/notebooks/data_table.ipynb>data table notebook</a>'\n",
              "          + ' to learn more about interactive tables.';\n",
              "        element.innerHTML = '';\n",
              "        dataTable['output_type'] = 'display_data';\n",
              "        await google.colab.output.renderOutput(dataTable, element);\n",
              "        const docLink = document.createElement('div');\n",
              "        docLink.innerHTML = docLinkHtml;\n",
              "        element.appendChild(docLink);\n",
              "      }\n",
              "    </script>\n",
              "  </div>\n",
              "\n",
              "\n",
              "<div id=\"df-e04acf2c-f263-4008-92ce-0932ef8e3178\">\n",
              "  <button class=\"colab-df-quickchart\" onclick=\"quickchart('df-e04acf2c-f263-4008-92ce-0932ef8e3178')\"\n",
              "            title=\"Suggest charts\"\n",
              "            style=\"display:none;\">\n",
              "\n",
              "<svg xmlns=\"http://www.w3.org/2000/svg\" height=\"24px\"viewBox=\"0 0 24 24\"\n",
              "     width=\"24px\">\n",
              "    <g>\n",
              "        <path d=\"M19 3H5c-1.1 0-2 .9-2 2v14c0 1.1.9 2 2 2h14c1.1 0 2-.9 2-2V5c0-1.1-.9-2-2-2zM9 17H7v-7h2v7zm4 0h-2V7h2v10zm4 0h-2v-4h2v4z\"/>\n",
              "    </g>\n",
              "</svg>\n",
              "  </button>\n",
              "\n",
              "<style>\n",
              "  .colab-df-quickchart {\n",
              "      --bg-color: #E8F0FE;\n",
              "      --fill-color: #1967D2;\n",
              "      --hover-bg-color: #E2EBFA;\n",
              "      --hover-fill-color: #174EA6;\n",
              "      --disabled-fill-color: #AAA;\n",
              "      --disabled-bg-color: #DDD;\n",
              "  }\n",
              "\n",
              "  [theme=dark] .colab-df-quickchart {\n",
              "      --bg-color: #3B4455;\n",
              "      --fill-color: #D2E3FC;\n",
              "      --hover-bg-color: #434B5C;\n",
              "      --hover-fill-color: #FFFFFF;\n",
              "      --disabled-bg-color: #3B4455;\n",
              "      --disabled-fill-color: #666;\n",
              "  }\n",
              "\n",
              "  .colab-df-quickchart {\n",
              "    background-color: var(--bg-color);\n",
              "    border: none;\n",
              "    border-radius: 50%;\n",
              "    cursor: pointer;\n",
              "    display: none;\n",
              "    fill: var(--fill-color);\n",
              "    height: 32px;\n",
              "    padding: 0;\n",
              "    width: 32px;\n",
              "  }\n",
              "\n",
              "  .colab-df-quickchart:hover {\n",
              "    background-color: var(--hover-bg-color);\n",
              "    box-shadow: 0 1px 2px rgba(60, 64, 67, 0.3), 0 1px 3px 1px rgba(60, 64, 67, 0.15);\n",
              "    fill: var(--button-hover-fill-color);\n",
              "  }\n",
              "\n",
              "  .colab-df-quickchart-complete:disabled,\n",
              "  .colab-df-quickchart-complete:disabled:hover {\n",
              "    background-color: var(--disabled-bg-color);\n",
              "    fill: var(--disabled-fill-color);\n",
              "    box-shadow: none;\n",
              "  }\n",
              "\n",
              "  .colab-df-spinner {\n",
              "    border: 2px solid var(--fill-color);\n",
              "    border-color: transparent;\n",
              "    border-bottom-color: var(--fill-color);\n",
              "    animation:\n",
              "      spin 1s steps(1) infinite;\n",
              "  }\n",
              "\n",
              "  @keyframes spin {\n",
              "    0% {\n",
              "      border-color: transparent;\n",
              "      border-bottom-color: var(--fill-color);\n",
              "      border-left-color: var(--fill-color);\n",
              "    }\n",
              "    20% {\n",
              "      border-color: transparent;\n",
              "      border-left-color: var(--fill-color);\n",
              "      border-top-color: var(--fill-color);\n",
              "    }\n",
              "    30% {\n",
              "      border-color: transparent;\n",
              "      border-left-color: var(--fill-color);\n",
              "      border-top-color: var(--fill-color);\n",
              "      border-right-color: var(--fill-color);\n",
              "    }\n",
              "    40% {\n",
              "      border-color: transparent;\n",
              "      border-right-color: var(--fill-color);\n",
              "      border-top-color: var(--fill-color);\n",
              "    }\n",
              "    60% {\n",
              "      border-color: transparent;\n",
              "      border-right-color: var(--fill-color);\n",
              "    }\n",
              "    80% {\n",
              "      border-color: transparent;\n",
              "      border-right-color: var(--fill-color);\n",
              "      border-bottom-color: var(--fill-color);\n",
              "    }\n",
              "    90% {\n",
              "      border-color: transparent;\n",
              "      border-bottom-color: var(--fill-color);\n",
              "    }\n",
              "  }\n",
              "</style>\n",
              "\n",
              "  <script>\n",
              "    async function quickchart(key) {\n",
              "      const quickchartButtonEl =\n",
              "        document.querySelector('#' + key + ' button');\n",
              "      quickchartButtonEl.disabled = true;  // To prevent multiple clicks.\n",
              "      quickchartButtonEl.classList.add('colab-df-spinner');\n",
              "      try {\n",
              "        const charts = await google.colab.kernel.invokeFunction(\n",
              "            'suggestCharts', [key], {});\n",
              "      } catch (error) {\n",
              "        console.error('Error during call to suggestCharts:', error);\n",
              "      }\n",
              "      quickchartButtonEl.classList.remove('colab-df-spinner');\n",
              "      quickchartButtonEl.classList.add('colab-df-quickchart-complete');\n",
              "    }\n",
              "    (() => {\n",
              "      let quickchartButtonEl =\n",
              "        document.querySelector('#df-e04acf2c-f263-4008-92ce-0932ef8e3178 button');\n",
              "      quickchartButtonEl.style.display =\n",
              "        google.colab.kernel.accessAllowed ? 'block' : 'none';\n",
              "    })();\n",
              "  </script>\n",
              "</div>\n",
              "    </div>\n",
              "  </div>\n"
            ],
            "application/vnd.google.colaboratory.intrinsic+json": {
              "type": "dataframe",
              "variable_name": "df_titanic",
              "summary": "{\n  \"name\": \"df_titanic\",\n  \"rows\": 891,\n  \"fields\": [\n    {\n      \"column\": \"PassengerId\",\n      \"properties\": {\n        \"dtype\": \"number\",\n        \"std\": 257,\n        \"min\": 1,\n        \"max\": 891,\n        \"num_unique_values\": 891,\n        \"samples\": [\n          710,\n          440,\n          841\n        ],\n        \"semantic_type\": \"\",\n        \"description\": \"\"\n      }\n    },\n    {\n      \"column\": \"Survived\",\n      \"properties\": {\n        \"dtype\": \"number\",\n        \"std\": 0,\n        \"min\": 0,\n        \"max\": 1,\n        \"num_unique_values\": 2,\n        \"samples\": [\n          1,\n          0\n        ],\n        \"semantic_type\": \"\",\n        \"description\": \"\"\n      }\n    },\n    {\n      \"column\": \"Pclass\",\n      \"properties\": {\n        \"dtype\": \"number\",\n        \"std\": 0,\n        \"min\": 1,\n        \"max\": 3,\n        \"num_unique_values\": 3,\n        \"samples\": [\n          3,\n          1\n        ],\n        \"semantic_type\": \"\",\n        \"description\": \"\"\n      }\n    },\n    {\n      \"column\": \"Name\",\n      \"properties\": {\n        \"dtype\": \"string\",\n        \"num_unique_values\": 891,\n        \"samples\": [\n          \"Moubarek, Master. Halim Gonios (\\\"William George\\\")\",\n          \"Kvillner, Mr. Johan Henrik Johannesson\"\n        ],\n        \"semantic_type\": \"\",\n        \"description\": \"\"\n      }\n    },\n    {\n      \"column\": \"Sex\",\n      \"properties\": {\n        \"dtype\": \"category\",\n        \"num_unique_values\": 2,\n        \"samples\": [\n          \"female\",\n          \"male\"\n        ],\n        \"semantic_type\": \"\",\n        \"description\": \"\"\n      }\n    },\n    {\n      \"column\": \"Age\",\n      \"properties\": {\n        \"dtype\": \"number\",\n        \"std\": 14.526497332334044,\n        \"min\": 0.42,\n        \"max\": 80.0,\n        \"num_unique_values\": 88,\n        \"samples\": [\n          0.75,\n          22.0\n        ],\n        \"semantic_type\": \"\",\n        \"description\": \"\"\n      }\n    },\n    {\n      \"column\": \"SibSp\",\n      \"properties\": {\n        \"dtype\": \"number\",\n        \"std\": 1,\n        \"min\": 0,\n        \"max\": 8,\n        \"num_unique_values\": 7,\n        \"samples\": [\n          1,\n          0\n        ],\n        \"semantic_type\": \"\",\n        \"description\": \"\"\n      }\n    },\n    {\n      \"column\": \"Parch\",\n      \"properties\": {\n        \"dtype\": \"number\",\n        \"std\": 0,\n        \"min\": 0,\n        \"max\": 6,\n        \"num_unique_values\": 7,\n        \"samples\": [\n          0,\n          1\n        ],\n        \"semantic_type\": \"\",\n        \"description\": \"\"\n      }\n    },\n    {\n      \"column\": \"Ticket\",\n      \"properties\": {\n        \"dtype\": \"string\",\n        \"num_unique_values\": 681,\n        \"samples\": [\n          \"11774\",\n          \"248740\"\n        ],\n        \"semantic_type\": \"\",\n        \"description\": \"\"\n      }\n    },\n    {\n      \"column\": \"Fare\",\n      \"properties\": {\n        \"dtype\": \"number\",\n        \"std\": 49.693428597180905,\n        \"min\": 0.0,\n        \"max\": 512.3292,\n        \"num_unique_values\": 248,\n        \"samples\": [\n          11.2417,\n          51.8625\n        ],\n        \"semantic_type\": \"\",\n        \"description\": \"\"\n      }\n    },\n    {\n      \"column\": \"Cabin\",\n      \"properties\": {\n        \"dtype\": \"category\",\n        \"num_unique_values\": 147,\n        \"samples\": [\n          \"D45\",\n          \"B49\"\n        ],\n        \"semantic_type\": \"\",\n        \"description\": \"\"\n      }\n    },\n    {\n      \"column\": \"Embarked\",\n      \"properties\": {\n        \"dtype\": \"category\",\n        \"num_unique_values\": 3,\n        \"samples\": [\n          \"S\",\n          \"C\"\n        ],\n        \"semantic_type\": \"\",\n        \"description\": \"\"\n      }\n    }\n  ]\n}"
            }
          },
          "metadata": {},
          "execution_count": 4
        }
      ]
    },
    {
      "cell_type": "code",
      "source": [
        "df_titanic_factorized = pd.DataFrame(df_titanic)\n",
        "df_titanic = df_titanic_factorized\n",
        "for column in df_titanic_factorized.select_dtypes(include=['object']).columns:\n",
        "    df_titanic_factorized[column], unique = pd.factorize(df_titanic_factorized[column])"
      ],
      "metadata": {
        "id": "ON0N0QZoQivv"
      },
      "execution_count": 4,
      "outputs": []
    },
    {
      "cell_type": "code",
      "source": [
        "df_titanic_factorized.info()"
      ],
      "metadata": {
        "colab": {
          "base_uri": "https://localhost:8080/"
        },
        "id": "eIHbZB-MQLNN",
        "outputId": "65267a95-842b-4d1f-e374-92e6ec502174"
      },
      "execution_count": 5,
      "outputs": [
        {
          "output_type": "stream",
          "name": "stdout",
          "text": [
            "<class 'pandas.core.frame.DataFrame'>\n",
            "RangeIndex: 891 entries, 0 to 890\n",
            "Data columns (total 12 columns):\n",
            " #   Column       Non-Null Count  Dtype  \n",
            "---  ------       --------------  -----  \n",
            " 0   PassengerId  891 non-null    int64  \n",
            " 1   Survived     891 non-null    int64  \n",
            " 2   Pclass       891 non-null    int64  \n",
            " 3   Name         891 non-null    int64  \n",
            " 4   Sex          891 non-null    int64  \n",
            " 5   Age          714 non-null    float64\n",
            " 6   SibSp        891 non-null    int64  \n",
            " 7   Parch        891 non-null    int64  \n",
            " 8   Ticket       891 non-null    int64  \n",
            " 9   Fare         891 non-null    float64\n",
            " 10  Cabin        891 non-null    int64  \n",
            " 11  Embarked     891 non-null    int64  \n",
            "dtypes: float64(2), int64(10)\n",
            "memory usage: 83.7 KB\n"
          ]
        }
      ]
    },
    {
      "cell_type": "markdown",
      "source": [
        "# Titanic"
      ],
      "metadata": {
        "id": "_eDmqxzSP2G6"
      }
    },
    {
      "cell_type": "code",
      "source": [
        "X = df_titanic_factorized.iloc[:, [2, 4, 5, 6, 7, 9, 11]]\n",
        "y = df_titanic_factorized.iloc[:, 1]\n",
        "\n",
        "X_train, X_test, y_train, y_test = train_test_split(X, y, train_size = 0.8, random_state=3, stratify=y)"
      ],
      "metadata": {
        "id": "du7I4NJXQEJL"
      },
      "execution_count": null,
      "outputs": []
    },
    {
      "cell_type": "code",
      "source": [
        "for k in range(1, 100):\n",
        "    for i in range(1, 30):\n",
        "        model = DecisionTreeClassifier(criterion='entropy', min_samples_leaf=6, max_features=6, max_depth=5, random_state=5)\n",
        "        model.fit(X_train, y_train)\n",
        "\n",
        "        y_pred_train = model.predict(X_train)\n",
        "        y_pred_test = model.predict(X_test)\n",
        "\n",
        "        f1_train = f1_score(y_pred_train, y_train)\n",
        "        f1_test = f1_score(y_pred_test, y_test)\n",
        "        if f1_test > 0.78 and f1_train - f1_test > 0:\n",
        "            print(f'{k} {i}: {f1_test}, {f1_train - f1_test}')"
      ],
      "metadata": {
        "colab": {
          "base_uri": "https://localhost:8080/"
        },
        "collapsed": true,
        "id": "LcZa5k22P5Jo",
        "outputId": "c398897a-24e1-462d-b389-44c197671371"
      },
      "execution_count": null,
      "outputs": [
        {
          "output_type": "stream",
          "name": "stdout",
          "text": [
            "1 7: 0.7887323943661971, 0.006139400505597692\n",
            "1 8: 0.7887323943661971, 0.006139400505597692\n",
            "1 9: 0.7887323943661971, 0.006139400505597692\n",
            "1 10: 0.7887323943661971, 0.006139400505597692\n",
            "1 11: 0.7887323943661971, 0.006139400505597692\n",
            "1 12: 0.7887323943661971, 0.006139400505597692\n",
            "1 13: 0.7887323943661971, 0.006139400505597692\n",
            "1 14: 0.7887323943661971, 0.006139400505597692\n",
            "1 15: 0.7887323943661971, 0.006139400505597692\n",
            "1 16: 0.7887323943661971, 0.006139400505597692\n",
            "1 17: 0.7887323943661971, 0.006139400505597692\n",
            "1 18: 0.7887323943661971, 0.006139400505597692\n",
            "1 19: 0.7887323943661971, 0.006139400505597692\n",
            "1 20: 0.7887323943661971, 0.006139400505597692\n",
            "1 21: 0.7887323943661971, 0.006139400505597692\n",
            "1 22: 0.7887323943661971, 0.006139400505597692\n",
            "1 23: 0.7887323943661971, 0.006139400505597692\n",
            "1 24: 0.7887323943661971, 0.006139400505597692\n",
            "1 25: 0.7887323943661971, 0.006139400505597692\n",
            "1 26: 0.7887323943661971, 0.006139400505597692\n",
            "1 27: 0.7887323943661971, 0.006139400505597692\n",
            "1 28: 0.7887323943661971, 0.006139400505597692\n",
            "1 29: 0.7887323943661971, 0.006139400505597692\n",
            "5 6: 0.782608695652174, 0.002547554347826053\n",
            "5 7: 0.782608695652174, 0.0003370407819345278\n",
            "5 8: 0.782608695652174, 0.0003370407819345278\n",
            "5 9: 0.782608695652174, 0.0003370407819345278\n",
            "5 10: 0.782608695652174, 0.0003370407819345278\n",
            "5 11: 0.782608695652174, 0.0003370407819345278\n",
            "5 12: 0.782608695652174, 0.0003370407819345278\n",
            "5 13: 0.782608695652174, 0.0003370407819345278\n",
            "5 14: 0.782608695652174, 0.0003370407819345278\n",
            "5 15: 0.782608695652174, 0.0003370407819345278\n",
            "5 16: 0.782608695652174, 0.0003370407819345278\n",
            "5 17: 0.782608695652174, 0.0003370407819345278\n",
            "5 18: 0.782608695652174, 0.0003370407819345278\n",
            "5 19: 0.782608695652174, 0.0003370407819345278\n",
            "5 20: 0.782608695652174, 0.0003370407819345278\n",
            "5 21: 0.782608695652174, 0.0003370407819345278\n",
            "5 22: 0.782608695652174, 0.0003370407819345278\n",
            "5 23: 0.782608695652174, 0.0003370407819345278\n",
            "5 24: 0.782608695652174, 0.0003370407819345278\n",
            "5 25: 0.782608695652174, 0.0003370407819345278\n",
            "5 26: 0.782608695652174, 0.0003370407819345278\n",
            "5 27: 0.782608695652174, 0.0003370407819345278\n",
            "5 28: 0.782608695652174, 0.0003370407819345278\n",
            "5 29: 0.782608695652174, 0.0003370407819345278\n",
            "6 6: 0.782608695652174, 0.0003370407819345278\n",
            "6 7: 0.782608695652174, 0.0003370407819345278\n",
            "6 8: 0.782608695652174, 0.0003370407819345278\n",
            "6 9: 0.782608695652174, 0.0003370407819345278\n",
            "6 10: 0.782608695652174, 0.0003370407819345278\n",
            "6 11: 0.782608695652174, 0.0003370407819345278\n",
            "6 12: 0.782608695652174, 0.0003370407819345278\n",
            "6 13: 0.782608695652174, 0.0003370407819345278\n",
            "6 14: 0.782608695652174, 0.0003370407819345278\n",
            "6 15: 0.782608695652174, 0.0003370407819345278\n",
            "6 16: 0.782608695652174, 0.0003370407819345278\n",
            "6 17: 0.782608695652174, 0.0003370407819345278\n",
            "6 18: 0.782608695652174, 0.0003370407819345278\n",
            "6 19: 0.782608695652174, 0.0003370407819345278\n",
            "6 20: 0.782608695652174, 0.0003370407819345278\n",
            "6 21: 0.782608695652174, 0.0003370407819345278\n",
            "6 22: 0.782608695652174, 0.0003370407819345278\n",
            "6 23: 0.782608695652174, 0.0003370407819345278\n",
            "6 24: 0.782608695652174, 0.0003370407819345278\n",
            "6 25: 0.782608695652174, 0.0003370407819345278\n",
            "6 26: 0.782608695652174, 0.0003370407819345278\n",
            "6 27: 0.782608695652174, 0.0003370407819345278\n",
            "6 28: 0.782608695652174, 0.0003370407819345278\n",
            "6 29: 0.782608695652174, 0.0003370407819345278\n"
          ]
        }
      ]
    },
    {
      "cell_type": "code",
      "source": [
        "f1_train = 0\n",
        "f1_test = 0\n",
        "\n",
        "for i in range(10,30):\n",
        "    for k in range(100,200):\n",
        "                model = RandomForestClassifier(max_depth=i, n_estimators=k, random_state=5) #best: max_depth = 10, n_estimators = 197\n",
        "                model.fit(X_train, y_train)\n",
        "\n",
        "                y_pred_train = model.predict(X_train)\n",
        "                y_pred_test = model.predict(X_test)\n",
        "\n",
        "                new_f1_train = f1_score(y_pred_train, y_train)\n",
        "                new_f1_test = f1_score(y_pred_test, y_test)\n",
        "\n",
        "                if new_f1_test > f1_test:\n",
        "                    print(f'{i}, {k}: {new_f1_train}, {new_f1_test}')\n",
        "                    f1_train = new_f1_train\n",
        "                    f1_test = new_f1_test"
      ],
      "metadata": {
        "colab": {
          "base_uri": "https://localhost:8080/",
          "height": 468
        },
        "collapsed": true,
        "id": "2st5sKdYqe_m",
        "outputId": "035d2653-4ce5-4df5-cac2-e150fe8e5646"
      },
      "execution_count": null,
      "outputs": [
        {
          "output_type": "stream",
          "name": "stdout",
          "text": [
            "10, 100: 0.9239766081871345, 0.8201438848920863\n",
            "10, 101: 0.9239766081871345, 0.8260869565217391\n",
            "10, 122: 0.9278752436647173, 0.8345323741007195\n",
            "10, 177: 0.923679060665362, 0.8405797101449275\n",
            "10, 196: 0.92578125, 0.8467153284671532\n",
            "10, 197: 0.923679060665362, 0.8529411764705882\n"
          ]
        },
        {
          "output_type": "error",
          "ename": "KeyboardInterrupt",
          "evalue": "",
          "traceback": [
            "\u001b[0;31m---------------------------------------------------------------------------\u001b[0m",
            "\u001b[0;31mKeyboardInterrupt\u001b[0m                         Traceback (most recent call last)",
            "\u001b[0;32m<ipython-input-52-f487fc209683>\u001b[0m in \u001b[0;36m<cell line: 0>\u001b[0;34m()\u001b[0m\n\u001b[1;32m      5\u001b[0m     \u001b[0;32mfor\u001b[0m \u001b[0mk\u001b[0m \u001b[0;32min\u001b[0m \u001b[0mrange\u001b[0m\u001b[0;34m(\u001b[0m\u001b[0;36m100\u001b[0m\u001b[0;34m,\u001b[0m\u001b[0;36m200\u001b[0m\u001b[0;34m)\u001b[0m\u001b[0;34m:\u001b[0m\u001b[0;34m\u001b[0m\u001b[0;34m\u001b[0m\u001b[0m\n\u001b[1;32m      6\u001b[0m                 \u001b[0mmodel\u001b[0m \u001b[0;34m=\u001b[0m \u001b[0mRandomForestClassifier\u001b[0m\u001b[0;34m(\u001b[0m\u001b[0mmax_depth\u001b[0m\u001b[0;34m=\u001b[0m\u001b[0mi\u001b[0m\u001b[0;34m,\u001b[0m \u001b[0mn_estimators\u001b[0m\u001b[0;34m=\u001b[0m\u001b[0mk\u001b[0m\u001b[0;34m,\u001b[0m \u001b[0mrandom_state\u001b[0m\u001b[0;34m=\u001b[0m\u001b[0;36m5\u001b[0m\u001b[0;34m)\u001b[0m\u001b[0;34m\u001b[0m\u001b[0;34m\u001b[0m\u001b[0m\n\u001b[0;32m----> 7\u001b[0;31m                 \u001b[0mmodel\u001b[0m\u001b[0;34m.\u001b[0m\u001b[0mfit\u001b[0m\u001b[0;34m(\u001b[0m\u001b[0mX_train\u001b[0m\u001b[0;34m,\u001b[0m \u001b[0my_train\u001b[0m\u001b[0;34m)\u001b[0m\u001b[0;34m\u001b[0m\u001b[0;34m\u001b[0m\u001b[0m\n\u001b[0m\u001b[1;32m      8\u001b[0m \u001b[0;34m\u001b[0m\u001b[0m\n\u001b[1;32m      9\u001b[0m                 \u001b[0my_pred_train\u001b[0m \u001b[0;34m=\u001b[0m \u001b[0mmodel\u001b[0m\u001b[0;34m.\u001b[0m\u001b[0mpredict\u001b[0m\u001b[0;34m(\u001b[0m\u001b[0mX_train\u001b[0m\u001b[0;34m)\u001b[0m\u001b[0;34m\u001b[0m\u001b[0;34m\u001b[0m\u001b[0m\n",
            "\u001b[0;32m/usr/local/lib/python3.11/dist-packages/sklearn/base.py\u001b[0m in \u001b[0;36mwrapper\u001b[0;34m(estimator, *args, **kwargs)\u001b[0m\n\u001b[1;32m   1387\u001b[0m                 )\n\u001b[1;32m   1388\u001b[0m             ):\n\u001b[0;32m-> 1389\u001b[0;31m                 \u001b[0;32mreturn\u001b[0m \u001b[0mfit_method\u001b[0m\u001b[0;34m(\u001b[0m\u001b[0mestimator\u001b[0m\u001b[0;34m,\u001b[0m \u001b[0;34m*\u001b[0m\u001b[0margs\u001b[0m\u001b[0;34m,\u001b[0m \u001b[0;34m**\u001b[0m\u001b[0mkwargs\u001b[0m\u001b[0;34m)\u001b[0m\u001b[0;34m\u001b[0m\u001b[0;34m\u001b[0m\u001b[0m\n\u001b[0m\u001b[1;32m   1390\u001b[0m \u001b[0;34m\u001b[0m\u001b[0m\n\u001b[1;32m   1391\u001b[0m         \u001b[0;32mreturn\u001b[0m \u001b[0mwrapper\u001b[0m\u001b[0;34m\u001b[0m\u001b[0;34m\u001b[0m\u001b[0m\n",
            "\u001b[0;32m/usr/local/lib/python3.11/dist-packages/sklearn/ensemble/_forest.py\u001b[0m in \u001b[0;36mfit\u001b[0;34m(self, X, y, sample_weight)\u001b[0m\n\u001b[1;32m    485\u001b[0m             \u001b[0;31m# parallel_backend contexts set at a higher level,\u001b[0m\u001b[0;34m\u001b[0m\u001b[0;34m\u001b[0m\u001b[0m\n\u001b[1;32m    486\u001b[0m             \u001b[0;31m# since correctness does not rely on using threads.\u001b[0m\u001b[0;34m\u001b[0m\u001b[0;34m\u001b[0m\u001b[0m\n\u001b[0;32m--> 487\u001b[0;31m             trees = Parallel(\n\u001b[0m\u001b[1;32m    488\u001b[0m                 \u001b[0mn_jobs\u001b[0m\u001b[0;34m=\u001b[0m\u001b[0mself\u001b[0m\u001b[0;34m.\u001b[0m\u001b[0mn_jobs\u001b[0m\u001b[0;34m,\u001b[0m\u001b[0;34m\u001b[0m\u001b[0;34m\u001b[0m\u001b[0m\n\u001b[1;32m    489\u001b[0m                 \u001b[0mverbose\u001b[0m\u001b[0;34m=\u001b[0m\u001b[0mself\u001b[0m\u001b[0;34m.\u001b[0m\u001b[0mverbose\u001b[0m\u001b[0;34m,\u001b[0m\u001b[0;34m\u001b[0m\u001b[0;34m\u001b[0m\u001b[0m\n",
            "\u001b[0;32m/usr/local/lib/python3.11/dist-packages/sklearn/utils/parallel.py\u001b[0m in \u001b[0;36m__call__\u001b[0;34m(self, iterable)\u001b[0m\n\u001b[1;32m     75\u001b[0m             \u001b[0;32mfor\u001b[0m \u001b[0mdelayed_func\u001b[0m\u001b[0;34m,\u001b[0m \u001b[0margs\u001b[0m\u001b[0;34m,\u001b[0m \u001b[0mkwargs\u001b[0m \u001b[0;32min\u001b[0m \u001b[0miterable\u001b[0m\u001b[0;34m\u001b[0m\u001b[0;34m\u001b[0m\u001b[0m\n\u001b[1;32m     76\u001b[0m         )\n\u001b[0;32m---> 77\u001b[0;31m         \u001b[0;32mreturn\u001b[0m \u001b[0msuper\u001b[0m\u001b[0;34m(\u001b[0m\u001b[0;34m)\u001b[0m\u001b[0;34m.\u001b[0m\u001b[0m__call__\u001b[0m\u001b[0;34m(\u001b[0m\u001b[0miterable_with_config\u001b[0m\u001b[0;34m)\u001b[0m\u001b[0;34m\u001b[0m\u001b[0;34m\u001b[0m\u001b[0m\n\u001b[0m\u001b[1;32m     78\u001b[0m \u001b[0;34m\u001b[0m\u001b[0m\n\u001b[1;32m     79\u001b[0m \u001b[0;34m\u001b[0m\u001b[0m\n",
            "\u001b[0;32m/usr/local/lib/python3.11/dist-packages/joblib/parallel.py\u001b[0m in \u001b[0;36m__call__\u001b[0;34m(self, iterable)\u001b[0m\n\u001b[1;32m   1916\u001b[0m             \u001b[0moutput\u001b[0m \u001b[0;34m=\u001b[0m \u001b[0mself\u001b[0m\u001b[0;34m.\u001b[0m\u001b[0m_get_sequential_output\u001b[0m\u001b[0;34m(\u001b[0m\u001b[0miterable\u001b[0m\u001b[0;34m)\u001b[0m\u001b[0;34m\u001b[0m\u001b[0;34m\u001b[0m\u001b[0m\n\u001b[1;32m   1917\u001b[0m             \u001b[0mnext\u001b[0m\u001b[0;34m(\u001b[0m\u001b[0moutput\u001b[0m\u001b[0;34m)\u001b[0m\u001b[0;34m\u001b[0m\u001b[0;34m\u001b[0m\u001b[0m\n\u001b[0;32m-> 1918\u001b[0;31m             \u001b[0;32mreturn\u001b[0m \u001b[0moutput\u001b[0m \u001b[0;32mif\u001b[0m \u001b[0mself\u001b[0m\u001b[0;34m.\u001b[0m\u001b[0mreturn_generator\u001b[0m \u001b[0;32melse\u001b[0m \u001b[0mlist\u001b[0m\u001b[0;34m(\u001b[0m\u001b[0moutput\u001b[0m\u001b[0;34m)\u001b[0m\u001b[0;34m\u001b[0m\u001b[0;34m\u001b[0m\u001b[0m\n\u001b[0m\u001b[1;32m   1919\u001b[0m \u001b[0;34m\u001b[0m\u001b[0m\n\u001b[1;32m   1920\u001b[0m         \u001b[0;31m# Let's create an ID that uniquely identifies the current call. If the\u001b[0m\u001b[0;34m\u001b[0m\u001b[0;34m\u001b[0m\u001b[0m\n",
            "\u001b[0;32m/usr/local/lib/python3.11/dist-packages/joblib/parallel.py\u001b[0m in \u001b[0;36m_get_sequential_output\u001b[0;34m(self, iterable)\u001b[0m\n\u001b[1;32m   1845\u001b[0m                 \u001b[0mself\u001b[0m\u001b[0;34m.\u001b[0m\u001b[0mn_dispatched_batches\u001b[0m \u001b[0;34m+=\u001b[0m \u001b[0;36m1\u001b[0m\u001b[0;34m\u001b[0m\u001b[0;34m\u001b[0m\u001b[0m\n\u001b[1;32m   1846\u001b[0m                 \u001b[0mself\u001b[0m\u001b[0;34m.\u001b[0m\u001b[0mn_dispatched_tasks\u001b[0m \u001b[0;34m+=\u001b[0m \u001b[0;36m1\u001b[0m\u001b[0;34m\u001b[0m\u001b[0;34m\u001b[0m\u001b[0m\n\u001b[0;32m-> 1847\u001b[0;31m                 \u001b[0mres\u001b[0m \u001b[0;34m=\u001b[0m \u001b[0mfunc\u001b[0m\u001b[0;34m(\u001b[0m\u001b[0;34m*\u001b[0m\u001b[0margs\u001b[0m\u001b[0;34m,\u001b[0m \u001b[0;34m**\u001b[0m\u001b[0mkwargs\u001b[0m\u001b[0;34m)\u001b[0m\u001b[0;34m\u001b[0m\u001b[0;34m\u001b[0m\u001b[0m\n\u001b[0m\u001b[1;32m   1848\u001b[0m                 \u001b[0mself\u001b[0m\u001b[0;34m.\u001b[0m\u001b[0mn_completed_tasks\u001b[0m \u001b[0;34m+=\u001b[0m \u001b[0;36m1\u001b[0m\u001b[0;34m\u001b[0m\u001b[0;34m\u001b[0m\u001b[0m\n\u001b[1;32m   1849\u001b[0m                 \u001b[0mself\u001b[0m\u001b[0;34m.\u001b[0m\u001b[0mprint_progress\u001b[0m\u001b[0;34m(\u001b[0m\u001b[0;34m)\u001b[0m\u001b[0;34m\u001b[0m\u001b[0;34m\u001b[0m\u001b[0m\n",
            "\u001b[0;32m/usr/local/lib/python3.11/dist-packages/sklearn/utils/parallel.py\u001b[0m in \u001b[0;36m__call__\u001b[0;34m(self, *args, **kwargs)\u001b[0m\n\u001b[1;32m    137\u001b[0m             \u001b[0mconfig\u001b[0m \u001b[0;34m=\u001b[0m \u001b[0;34m{\u001b[0m\u001b[0;34m}\u001b[0m\u001b[0;34m\u001b[0m\u001b[0;34m\u001b[0m\u001b[0m\n\u001b[1;32m    138\u001b[0m         \u001b[0;32mwith\u001b[0m \u001b[0mconfig_context\u001b[0m\u001b[0;34m(\u001b[0m\u001b[0;34m**\u001b[0m\u001b[0mconfig\u001b[0m\u001b[0;34m)\u001b[0m\u001b[0;34m:\u001b[0m\u001b[0;34m\u001b[0m\u001b[0;34m\u001b[0m\u001b[0m\n\u001b[0;32m--> 139\u001b[0;31m             \u001b[0;32mreturn\u001b[0m \u001b[0mself\u001b[0m\u001b[0;34m.\u001b[0m\u001b[0mfunction\u001b[0m\u001b[0;34m(\u001b[0m\u001b[0;34m*\u001b[0m\u001b[0margs\u001b[0m\u001b[0;34m,\u001b[0m \u001b[0;34m**\u001b[0m\u001b[0mkwargs\u001b[0m\u001b[0;34m)\u001b[0m\u001b[0;34m\u001b[0m\u001b[0;34m\u001b[0m\u001b[0m\n\u001b[0m\u001b[1;32m    140\u001b[0m \u001b[0;34m\u001b[0m\u001b[0m\n\u001b[1;32m    141\u001b[0m \u001b[0;34m\u001b[0m\u001b[0m\n",
            "\u001b[0;32m/usr/local/lib/python3.11/dist-packages/sklearn/ensemble/_forest.py\u001b[0m in \u001b[0;36m_parallel_build_trees\u001b[0;34m(tree, bootstrap, X, y, sample_weight, tree_idx, n_trees, verbose, class_weight, n_samples_bootstrap, missing_values_in_feature_mask)\u001b[0m\n\u001b[1;32m    174\u001b[0m             \u001b[0mcurr_sample_weight\u001b[0m \u001b[0;34m=\u001b[0m \u001b[0msample_weight\u001b[0m\u001b[0;34m.\u001b[0m\u001b[0mcopy\u001b[0m\u001b[0;34m(\u001b[0m\u001b[0;34m)\u001b[0m\u001b[0;34m\u001b[0m\u001b[0;34m\u001b[0m\u001b[0m\n\u001b[1;32m    175\u001b[0m \u001b[0;34m\u001b[0m\u001b[0m\n\u001b[0;32m--> 176\u001b[0;31m         indices = _generate_sample_indices(\n\u001b[0m\u001b[1;32m    177\u001b[0m             \u001b[0mtree\u001b[0m\u001b[0;34m.\u001b[0m\u001b[0mrandom_state\u001b[0m\u001b[0;34m,\u001b[0m \u001b[0mn_samples\u001b[0m\u001b[0;34m,\u001b[0m \u001b[0mn_samples_bootstrap\u001b[0m\u001b[0;34m\u001b[0m\u001b[0;34m\u001b[0m\u001b[0m\n\u001b[1;32m    178\u001b[0m         )\n",
            "\u001b[0;32m/usr/local/lib/python3.11/dist-packages/sklearn/ensemble/_forest.py\u001b[0m in \u001b[0;36m_generate_sample_indices\u001b[0;34m(random_state, n_samples, n_samples_bootstrap)\u001b[0m\n\u001b[1;32m    127\u001b[0m     Private function used to _parallel_build_trees function.\"\"\"\n\u001b[1;32m    128\u001b[0m \u001b[0;34m\u001b[0m\u001b[0m\n\u001b[0;32m--> 129\u001b[0;31m     \u001b[0mrandom_instance\u001b[0m \u001b[0;34m=\u001b[0m \u001b[0mcheck_random_state\u001b[0m\u001b[0;34m(\u001b[0m\u001b[0mrandom_state\u001b[0m\u001b[0;34m)\u001b[0m\u001b[0;34m\u001b[0m\u001b[0;34m\u001b[0m\u001b[0m\n\u001b[0m\u001b[1;32m    130\u001b[0m     sample_indices = random_instance.randint(\n\u001b[1;32m    131\u001b[0m         \u001b[0;36m0\u001b[0m\u001b[0;34m,\u001b[0m \u001b[0mn_samples\u001b[0m\u001b[0;34m,\u001b[0m \u001b[0mn_samples_bootstrap\u001b[0m\u001b[0;34m,\u001b[0m \u001b[0mdtype\u001b[0m\u001b[0;34m=\u001b[0m\u001b[0mnp\u001b[0m\u001b[0;34m.\u001b[0m\u001b[0mint32\u001b[0m\u001b[0;34m\u001b[0m\u001b[0;34m\u001b[0m\u001b[0m\n",
            "\u001b[0;32m/usr/local/lib/python3.11/dist-packages/sklearn/utils/validation.py\u001b[0m in \u001b[0;36mcheck_random_state\u001b[0;34m(seed)\u001b[0m\n\u001b[1;32m   1513\u001b[0m         \u001b[0;32mreturn\u001b[0m \u001b[0mnp\u001b[0m\u001b[0;34m.\u001b[0m\u001b[0mrandom\u001b[0m\u001b[0;34m.\u001b[0m\u001b[0mmtrand\u001b[0m\u001b[0;34m.\u001b[0m\u001b[0m_rand\u001b[0m\u001b[0;34m\u001b[0m\u001b[0;34m\u001b[0m\u001b[0m\n\u001b[1;32m   1514\u001b[0m     \u001b[0;32mif\u001b[0m \u001b[0misinstance\u001b[0m\u001b[0;34m(\u001b[0m\u001b[0mseed\u001b[0m\u001b[0;34m,\u001b[0m \u001b[0mnumbers\u001b[0m\u001b[0;34m.\u001b[0m\u001b[0mIntegral\u001b[0m\u001b[0;34m)\u001b[0m\u001b[0;34m:\u001b[0m\u001b[0;34m\u001b[0m\u001b[0;34m\u001b[0m\u001b[0m\n\u001b[0;32m-> 1515\u001b[0;31m         \u001b[0;32mreturn\u001b[0m \u001b[0mnp\u001b[0m\u001b[0;34m.\u001b[0m\u001b[0mrandom\u001b[0m\u001b[0;34m.\u001b[0m\u001b[0mRandomState\u001b[0m\u001b[0;34m(\u001b[0m\u001b[0mseed\u001b[0m\u001b[0;34m)\u001b[0m\u001b[0;34m\u001b[0m\u001b[0;34m\u001b[0m\u001b[0m\n\u001b[0m\u001b[1;32m   1516\u001b[0m     \u001b[0;32mif\u001b[0m \u001b[0misinstance\u001b[0m\u001b[0;34m(\u001b[0m\u001b[0mseed\u001b[0m\u001b[0;34m,\u001b[0m \u001b[0mnp\u001b[0m\u001b[0;34m.\u001b[0m\u001b[0mrandom\u001b[0m\u001b[0;34m.\u001b[0m\u001b[0mRandomState\u001b[0m\u001b[0;34m)\u001b[0m\u001b[0;34m:\u001b[0m\u001b[0;34m\u001b[0m\u001b[0;34m\u001b[0m\u001b[0m\n\u001b[1;32m   1517\u001b[0m         \u001b[0;32mreturn\u001b[0m \u001b[0mseed\u001b[0m\u001b[0;34m\u001b[0m\u001b[0;34m\u001b[0m\u001b[0m\n",
            "\u001b[0;31mKeyboardInterrupt\u001b[0m: "
          ]
        }
      ]
    },
    {
      "cell_type": "markdown",
      "source": [
        "# Boston"
      ],
      "metadata": {
        "id": "RfWogoxcXXfC"
      }
    },
    {
      "cell_type": "code",
      "source": [
        "X = df_boston.drop('medv', axis=1)\n",
        "y = df_boston['medv']\n",
        "\n",
        "X_train, X_test, y_train, y_test = train_test_split(X, y, train_size = 0.8, random_state=3)"
      ],
      "metadata": {
        "id": "CTn9s5KnXIlT"
      },
      "execution_count": null,
      "outputs": []
    },
    {
      "cell_type": "code",
      "source": [
        "mse_train = 100\n",
        "mse_test = 100\n",
        "\n",
        "for i in range(1,20):\n",
        "    for k in range(1,20):\n",
        "        for l in range(1,20):\n",
        "            model = DecisionTreeRegressor(min_samples_leaf=i, max_features=k, max_depth=l, random_state=5)\n",
        "            model.fit(X_train, y_train)\n",
        "\n",
        "            y_pred_train = model.predict(X_train)\n",
        "            y_pred_test = model.predict(X_test)\n",
        "\n",
        "            new_mse_train = mean_squared_error(y_pred_train, y_train)\n",
        "            new_mse_test = mean_squared_error(y_pred_test, y_test)\n",
        "\n",
        "            if new_mse_test < mse_test:\n",
        "                print(f'{i}, {k}, {l}: {new_mse_train}, {new_mse_test}')\n",
        "                mse_train = new_mse_train\n",
        "                mse_test = new_mse_test"
      ],
      "metadata": {
        "colab": {
          "base_uri": "https://localhost:8080/"
        },
        "id": "DbuN9We4XtrT",
        "outputId": "8c36f91f-cea3-409e-f5c1-bf45479801c4",
        "collapsed": true
      },
      "execution_count": null,
      "outputs": [
        {
          "output_type": "stream",
          "name": "stdout",
          "text": [
            "1, 1, 1: 74.58372145567922, 75.22351942233728\n",
            "1, 1, 3: 58.3516708875364, 60.68037518111523\n",
            "1, 1, 4: 36.33845570997264, 28.128932758269674\n",
            "1, 1, 12: 0.9022716878830739, 26.281656815503975\n",
            "1, 2, 10: 1.366816330740217, 16.77180317210217\n",
            "1, 3, 7: 4.347777409726267, 14.127521069546077\n",
            "1, 3, 8: 4.529527573394808, 10.417512003556784\n",
            "1, 6, 7: 3.4400425061453563, 10.334337002861965\n",
            "1, 9, 5: 7.208348044925767, 10.073198887047923\n",
            "1, 13, 5: 6.879787791470963, 9.808548465232468\n",
            "2, 11, 9: 3.549059796769151, 9.736516135073986\n",
            "3, 10, 8: 6.037270471807451, 8.815639543118921\n",
            "5, 9, 8: 6.574273723996964, 8.762433013318434\n",
            "7, 9, 8: 11.485698991327705, 8.277200293209185\n"
          ]
        }
      ]
    },
    {
      "cell_type": "code",
      "source": [
        "mse_train = 100\n",
        "mse_test = 100\n",
        "\n",
        "for i in range(1,20):\n",
        "    for k in range(15,50):\n",
        "            model = RandomForestRegressor(max_depth=i, n_estimators=k, random_state=5) # best: max_depth=9, n_estimators=30\n",
        "            model.fit(X_train, y_train)\n",
        "\n",
        "            y_pred_train = model.predict(X_train)\n",
        "            y_pred_test = model.predict(X_test)\n",
        "\n",
        "            new_mse_train = mean_squared_error(y_pred_train, y_train)\n",
        "            new_mse_test = mean_squared_error(y_pred_test, y_test)\n",
        "\n",
        "            if new_mse_test < mse_test:\n",
        "                print(f'{i}, {k}, {l}: {new_mse_train}, {new_mse_test}')\n",
        "                mse_train = new_mse_train\n",
        "                mse_test = new_mse_test"
      ],
      "metadata": {
        "colab": {
          "base_uri": "https://localhost:8080/"
        },
        "collapsed": true,
        "id": "o-4k9ut963AK",
        "outputId": "23c11f2f-8f39-4c19-d279-d42f2ba69388"
      },
      "execution_count": null,
      "outputs": [
        {
          "output_type": "stream",
          "name": "stdout",
          "text": [
            "1, 29, 12: 1.8993040596270807, 7.700075388310268\n",
            "2, 29, 12: 2.0520329743692556, 7.282895374738282\n",
            "3, 29, 12: 1.6929958703415504, 7.749224011133106\n",
            "4, 29, 12: 2.5695807370009383, 9.084475229485829\n",
            "5, 29, 12: 2.568319733886851, 7.038050911388788\n",
            "6, 29, 12: 2.0070623084117116, 7.42427347210836\n",
            "7, 29, 12: 2.0357980308261894, 7.801569171802009\n",
            "8, 29, 12: 2.145980577222285, 7.969454321676185\n",
            "9, 29, 12: 2.299946575290105, 8.257121242930038\n",
            "10, 29, 12: 2.0947510720268006, 7.685303113242383\n",
            "11, 29, 12: 2.2407369358549243, 7.56851134977313\n",
            "12, 29, 12: 1.9537112196773339, 7.467636164312275\n",
            "13, 29, 12: 2.262554097819539, 7.393735805858085\n",
            "14, 29, 12: 1.8247093560548433, 7.467475382992663\n",
            "15, 29, 12: 1.9396781065115076, 7.732268239141473\n",
            "16, 29, 12: 1.9703924002203559, 7.559115559302268\n",
            "17, 29, 12: 2.054780306906274, 8.857397427111351\n",
            "18, 29, 12: 2.169078527855856, 8.576409393466376\n",
            "19, 29, 12: 2.06798892889908, 7.185042250770871\n",
            "20, 29, 12: 2.269334988868654, 7.284423853566605\n",
            "21, 29, 12: 2.0120778566618434, 7.978029653746482\n",
            "22, 29, 12: 2.11110891111736, 8.064088141146796\n",
            "23, 29, 12: 1.8869185486820228, 7.7508776722945605\n",
            "24, 29, 12: 2.593001471752968, 7.273509110428424\n",
            "25, 29, 12: 1.8127800475179892, 7.217026311003861\n",
            "26, 29, 12: 2.2243911319821663, 7.473371200705821\n",
            "27, 29, 12: 1.7447857896402796, 7.677171700790833\n",
            "28, 29, 12: 1.928206005329454, 8.227757336519096\n",
            "29, 29, 12: 2.4649083874871467, 7.740717505160991\n",
            "30, 29, 12: 1.977893213155729, 7.214203919236366\n",
            "31, 29, 12: 2.047594076562129, 7.424884654036577\n",
            "32, 29, 12: 2.196831648817373, 7.785088043126145\n",
            "33, 29, 12: 2.14010607465663, 8.494447231790913\n",
            "34, 29, 12: 2.4031525418132476, 7.491603577817333\n",
            "35, 29, 12: 2.241142907351528, 6.752018159215939\n",
            "36, 29, 12: 2.0452750500355585, 7.063374477897912\n",
            "37, 29, 12: 2.0380275862864456, 7.446793753054343\n",
            "38, 29, 12: 2.0846158766095044, 7.746297668676559\n",
            "39, 29, 12: 2.3919536159109054, 7.78211906660345\n",
            "40, 29, 12: 2.0795008412278135, 7.139824661233341\n",
            "41, 29, 12: 2.179007573217207, 8.296675959380574\n",
            "42, 29, 12: 2.1460469039665435, 8.015573659506549\n",
            "43, 29, 12: 2.1300410252224835, 7.729559951881075\n",
            "44, 29, 12: 2.044682077956801, 7.190320621864073\n",
            "45, 29, 12: 2.458363150753267, 7.791408194484889\n",
            "46, 29, 12: 2.603646256969605, 7.82823633380222\n",
            "47, 29, 12: 2.088843773684958, 6.7432920516948585\n",
            "48, 29, 12: 1.976026440381108, 7.753504711958347\n",
            "49, 29, 12: 1.7893665778232983, 8.324760963816805\n"
          ]
        }
      ]
    },
    {
      "cell_type": "code",
      "source": [
        "class MyDecisionTree:\n",
        "\n",
        "    def __init__(self, X: list, y: list):\n",
        "        self.X = X\n",
        "        self.y = y\n",
        "\n",
        "    def counter(self) -> list:\n",
        "        counter = []\n",
        "        for i in range(len(X)):\n",
        "            counter.append([X[i], y[i]])\n",
        "        return counter\n",
        "\n",
        "    def decision(self) -> None:\n",
        "        counter = self.counter()\n",
        "        counter_sum_value = 100\n",
        "        for i in range(counter[0][0]+1, counter[-1][0]+2):\n",
        "            counter_1 = []\n",
        "            counter_2 = []\n",
        "            counter_sum = []\n",
        "            for k in range(len(counter)):\n",
        "                if counter[k][0] < i:\n",
        "                    counter_1.append(counter[k])\n",
        "                    counter_1_y = []\n",
        "                    counter_1_y_fin = []\n",
        "                    for l in range(len(counter_1)):\n",
        "                        counter_1_y.append(counter_1[l][1])\n",
        "                        counter_1_y_fin.append(np.mean(counter_1_y)%1)\n",
        "                    counter_sum.append(np.sum(counter_1_y_fin))\n",
        "                else:\n",
        "                    counter_2.append(counter[k])\n",
        "                    counter_2_y = []\n",
        "                    counter_2_y_fin = []\n",
        "                    for l in range(len(counter_2)):\n",
        "                        counter_2_y.append(counter_2[l][1])\n",
        "                        counter_2_y_fin.append(np.mean(counter_2_y)%1)\n",
        "                    counter_sum.append(np.sum(counter_2_y_fin))\n",
        "            new_counter_sum_value = np.sum(counter_sum)\n",
        "            if new_counter_sum_value < counter_sum_value:\n",
        "                best = i\n",
        "                counter_sum_value = new_counter_sum_value\n",
        "\n",
        "        print(f'Значение Х для лучшего разбиения: {best}')"
      ],
      "metadata": {
        "id": "uuA6tANpAP3H"
      },
      "execution_count": 254,
      "outputs": []
    },
    {
      "cell_type": "code",
      "source": [
        "X = [1, 3, 5, 7]\n",
        "y = [0, 1, 1, 1]\n",
        "\n",
        "lst = MyDecisionTree(X, y)\n",
        "\n",
        "lst.decision()"
      ],
      "metadata": {
        "colab": {
          "base_uri": "https://localhost:8080/"
        },
        "id": "bCZ44I9ZhXUf",
        "outputId": "a9cbd126-34eb-4d9a-cd30-a8c10b13ec24"
      },
      "execution_count": 259,
      "outputs": [
        {
          "output_type": "stream",
          "name": "stdout",
          "text": [
            "Значение Х для лучшего разбиения: 2\n"
          ]
        }
      ]
    },
    {
      "cell_type": "code",
      "source": [
        "X = [3, 5, 6, 7]\n",
        "y = [0, 0, 0, 1]\n",
        "\n",
        "lst = MyDecisionTree(X, y)\n",
        "\n",
        "lst.decision()"
      ],
      "metadata": {
        "colab": {
          "base_uri": "https://localhost:8080/"
        },
        "id": "v0iLcYY0A-4u",
        "outputId": "02c44486-1882-44a5-bbd3-c91a33d146f7"
      },
      "execution_count": 260,
      "outputs": [
        {
          "output_type": "stream",
          "name": "stdout",
          "text": [
            "Значение Х для лучшего разбиения: 7\n"
          ]
        }
      ]
    }
  ]
}