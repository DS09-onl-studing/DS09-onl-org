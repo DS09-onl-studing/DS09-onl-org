{
  "nbformat": 4,
  "nbformat_minor": 0,
  "metadata": {
    "colab": {
      "provenance": []
    },
    "kernelspec": {
      "name": "python3",
      "display_name": "Python 3"
    },
    "language_info": {
      "name": "python"
    }
  },
  "cells": [
    {
      "cell_type": "code",
      "execution_count": 62,
      "metadata": {
        "id": "bsVh4laEZp-s"
      },
      "outputs": [],
      "source": [
        "import numpy as np\n",
        "import pandas as pd\n",
        "from google.colab import drive"
      ]
    },
    {
      "cell_type": "code",
      "source": [
        "drive.mount('/content/drive')"
      ],
      "metadata": {
        "colab": {
          "base_uri": "https://localhost:8080/"
        },
        "id": "PSn16ILiZ8gW",
        "outputId": "76954eea-010b-4865-d4bb-8be4b442ab5d"
      },
      "execution_count": 63,
      "outputs": [
        {
          "output_type": "stream",
          "name": "stdout",
          "text": [
            "Drive already mounted at /content/drive; to attempt to forcibly remount, call drive.mount(\"/content/drive\", force_remount=True).\n"
          ]
        }
      ]
    },
    {
      "cell_type": "code",
      "source": [
        "movies = pd.read_csv('/content/drive/MyDrive/movies_metadata.csv', low_memory=False)"
      ],
      "metadata": {
        "id": "z31GDYxNaETK"
      },
      "execution_count": 64,
      "outputs": []
    },
    {
      "cell_type": "code",
      "source": [
        "movies.head(2)"
      ],
      "metadata": {
        "colab": {
          "base_uri": "https://localhost:8080/",
          "height": 352
        },
        "id": "CJq5e_4PLNa5",
        "outputId": "ad06b301-4c05-430b-aae1-0d81e7237388"
      },
      "execution_count": 65,
      "outputs": [
        {
          "output_type": "execute_result",
          "data": {
            "text/plain": [
              "   adult                              belongs_to_collection    budget  \\\n",
              "0  False  {'id': 10194, 'name': 'Toy Story Collection', ...  30000000   \n",
              "1  False                                                NaN  65000000   \n",
              "\n",
              "                                              genres  \\\n",
              "0  [{'id': 16, 'name': 'Animation'}, {'id': 35, '...   \n",
              "1  [{'id': 12, 'name': 'Adventure'}, {'id': 14, '...   \n",
              "\n",
              "                               homepage    id    imdb_id original_language  \\\n",
              "0  http://toystory.disney.com/toy-story   862  tt0114709                en   \n",
              "1                                   NaN  8844  tt0113497                en   \n",
              "\n",
              "  original_title                                           overview  ...  \\\n",
              "0      Toy Story  Led by Woody, Andy's toys live happily in his ...  ...   \n",
              "1        Jumanji  When siblings Judy and Peter discover an encha...  ...   \n",
              "\n",
              "  release_date      revenue runtime  \\\n",
              "0   1995-10-30  373554033.0    81.0   \n",
              "1   1995-12-15  262797249.0   104.0   \n",
              "\n",
              "                                    spoken_languages    status  \\\n",
              "0           [{'iso_639_1': 'en', 'name': 'English'}]  Released   \n",
              "1  [{'iso_639_1': 'en', 'name': 'English'}, {'iso...  Released   \n",
              "\n",
              "                                     tagline      title  video vote_average  \\\n",
              "0                                        NaN  Toy Story  False          7.7   \n",
              "1  Roll the dice and unleash the excitement!    Jumanji  False          6.9   \n",
              "\n",
              "  vote_count  \n",
              "0     5415.0  \n",
              "1     2413.0  \n",
              "\n",
              "[2 rows x 24 columns]"
            ],
            "text/html": [
              "\n",
              "  <div id=\"df-7b59f0bf-b5bd-4709-b4c2-e00cd66a029e\" class=\"colab-df-container\">\n",
              "    <div>\n",
              "<style scoped>\n",
              "    .dataframe tbody tr th:only-of-type {\n",
              "        vertical-align: middle;\n",
              "    }\n",
              "\n",
              "    .dataframe tbody tr th {\n",
              "        vertical-align: top;\n",
              "    }\n",
              "\n",
              "    .dataframe thead th {\n",
              "        text-align: right;\n",
              "    }\n",
              "</style>\n",
              "<table border=\"1\" class=\"dataframe\">\n",
              "  <thead>\n",
              "    <tr style=\"text-align: right;\">\n",
              "      <th></th>\n",
              "      <th>adult</th>\n",
              "      <th>belongs_to_collection</th>\n",
              "      <th>budget</th>\n",
              "      <th>genres</th>\n",
              "      <th>homepage</th>\n",
              "      <th>id</th>\n",
              "      <th>imdb_id</th>\n",
              "      <th>original_language</th>\n",
              "      <th>original_title</th>\n",
              "      <th>overview</th>\n",
              "      <th>...</th>\n",
              "      <th>release_date</th>\n",
              "      <th>revenue</th>\n",
              "      <th>runtime</th>\n",
              "      <th>spoken_languages</th>\n",
              "      <th>status</th>\n",
              "      <th>tagline</th>\n",
              "      <th>title</th>\n",
              "      <th>video</th>\n",
              "      <th>vote_average</th>\n",
              "      <th>vote_count</th>\n",
              "    </tr>\n",
              "  </thead>\n",
              "  <tbody>\n",
              "    <tr>\n",
              "      <th>0</th>\n",
              "      <td>False</td>\n",
              "      <td>{'id': 10194, 'name': 'Toy Story Collection', ...</td>\n",
              "      <td>30000000</td>\n",
              "      <td>[{'id': 16, 'name': 'Animation'}, {'id': 35, '...</td>\n",
              "      <td>http://toystory.disney.com/toy-story</td>\n",
              "      <td>862</td>\n",
              "      <td>tt0114709</td>\n",
              "      <td>en</td>\n",
              "      <td>Toy Story</td>\n",
              "      <td>Led by Woody, Andy's toys live happily in his ...</td>\n",
              "      <td>...</td>\n",
              "      <td>1995-10-30</td>\n",
              "      <td>373554033.0</td>\n",
              "      <td>81.0</td>\n",
              "      <td>[{'iso_639_1': 'en', 'name': 'English'}]</td>\n",
              "      <td>Released</td>\n",
              "      <td>NaN</td>\n",
              "      <td>Toy Story</td>\n",
              "      <td>False</td>\n",
              "      <td>7.7</td>\n",
              "      <td>5415.0</td>\n",
              "    </tr>\n",
              "    <tr>\n",
              "      <th>1</th>\n",
              "      <td>False</td>\n",
              "      <td>NaN</td>\n",
              "      <td>65000000</td>\n",
              "      <td>[{'id': 12, 'name': 'Adventure'}, {'id': 14, '...</td>\n",
              "      <td>NaN</td>\n",
              "      <td>8844</td>\n",
              "      <td>tt0113497</td>\n",
              "      <td>en</td>\n",
              "      <td>Jumanji</td>\n",
              "      <td>When siblings Judy and Peter discover an encha...</td>\n",
              "      <td>...</td>\n",
              "      <td>1995-12-15</td>\n",
              "      <td>262797249.0</td>\n",
              "      <td>104.0</td>\n",
              "      <td>[{'iso_639_1': 'en', 'name': 'English'}, {'iso...</td>\n",
              "      <td>Released</td>\n",
              "      <td>Roll the dice and unleash the excitement!</td>\n",
              "      <td>Jumanji</td>\n",
              "      <td>False</td>\n",
              "      <td>6.9</td>\n",
              "      <td>2413.0</td>\n",
              "    </tr>\n",
              "  </tbody>\n",
              "</table>\n",
              "<p>2 rows × 24 columns</p>\n",
              "</div>\n",
              "    <div class=\"colab-df-buttons\">\n",
              "\n",
              "  <div class=\"colab-df-container\">\n",
              "    <button class=\"colab-df-convert\" onclick=\"convertToInteractive('df-7b59f0bf-b5bd-4709-b4c2-e00cd66a029e')\"\n",
              "            title=\"Convert this dataframe to an interactive table.\"\n",
              "            style=\"display:none;\">\n",
              "\n",
              "  <svg xmlns=\"http://www.w3.org/2000/svg\" height=\"24px\" viewBox=\"0 -960 960 960\">\n",
              "    <path d=\"M120-120v-720h720v720H120Zm60-500h600v-160H180v160Zm220 220h160v-160H400v160Zm0 220h160v-160H400v160ZM180-400h160v-160H180v160Zm440 0h160v-160H620v160ZM180-180h160v-160H180v160Zm440 0h160v-160H620v160Z\"/>\n",
              "  </svg>\n",
              "    </button>\n",
              "\n",
              "  <style>\n",
              "    .colab-df-container {\n",
              "      display:flex;\n",
              "      gap: 12px;\n",
              "    }\n",
              "\n",
              "    .colab-df-convert {\n",
              "      background-color: #E8F0FE;\n",
              "      border: none;\n",
              "      border-radius: 50%;\n",
              "      cursor: pointer;\n",
              "      display: none;\n",
              "      fill: #1967D2;\n",
              "      height: 32px;\n",
              "      padding: 0 0 0 0;\n",
              "      width: 32px;\n",
              "    }\n",
              "\n",
              "    .colab-df-convert:hover {\n",
              "      background-color: #E2EBFA;\n",
              "      box-shadow: 0px 1px 2px rgba(60, 64, 67, 0.3), 0px 1px 3px 1px rgba(60, 64, 67, 0.15);\n",
              "      fill: #174EA6;\n",
              "    }\n",
              "\n",
              "    .colab-df-buttons div {\n",
              "      margin-bottom: 4px;\n",
              "    }\n",
              "\n",
              "    [theme=dark] .colab-df-convert {\n",
              "      background-color: #3B4455;\n",
              "      fill: #D2E3FC;\n",
              "    }\n",
              "\n",
              "    [theme=dark] .colab-df-convert:hover {\n",
              "      background-color: #434B5C;\n",
              "      box-shadow: 0px 1px 3px 1px rgba(0, 0, 0, 0.15);\n",
              "      filter: drop-shadow(0px 1px 2px rgba(0, 0, 0, 0.3));\n",
              "      fill: #FFFFFF;\n",
              "    }\n",
              "  </style>\n",
              "\n",
              "    <script>\n",
              "      const buttonEl =\n",
              "        document.querySelector('#df-7b59f0bf-b5bd-4709-b4c2-e00cd66a029e button.colab-df-convert');\n",
              "      buttonEl.style.display =\n",
              "        google.colab.kernel.accessAllowed ? 'block' : 'none';\n",
              "\n",
              "      async function convertToInteractive(key) {\n",
              "        const element = document.querySelector('#df-7b59f0bf-b5bd-4709-b4c2-e00cd66a029e');\n",
              "        const dataTable =\n",
              "          await google.colab.kernel.invokeFunction('convertToInteractive',\n",
              "                                                    [key], {});\n",
              "        if (!dataTable) return;\n",
              "\n",
              "        const docLinkHtml = 'Like what you see? Visit the ' +\n",
              "          '<a target=\"_blank\" href=https://colab.research.google.com/notebooks/data_table.ipynb>data table notebook</a>'\n",
              "          + ' to learn more about interactive tables.';\n",
              "        element.innerHTML = '';\n",
              "        dataTable['output_type'] = 'display_data';\n",
              "        await google.colab.output.renderOutput(dataTable, element);\n",
              "        const docLink = document.createElement('div');\n",
              "        docLink.innerHTML = docLinkHtml;\n",
              "        element.appendChild(docLink);\n",
              "      }\n",
              "    </script>\n",
              "  </div>\n",
              "\n",
              "\n",
              "<div id=\"df-c1e84e9b-dec9-4187-9d6b-27372ed8a1f5\">\n",
              "  <button class=\"colab-df-quickchart\" onclick=\"quickchart('df-c1e84e9b-dec9-4187-9d6b-27372ed8a1f5')\"\n",
              "            title=\"Suggest charts\"\n",
              "            style=\"display:none;\">\n",
              "\n",
              "<svg xmlns=\"http://www.w3.org/2000/svg\" height=\"24px\"viewBox=\"0 0 24 24\"\n",
              "     width=\"24px\">\n",
              "    <g>\n",
              "        <path d=\"M19 3H5c-1.1 0-2 .9-2 2v14c0 1.1.9 2 2 2h14c1.1 0 2-.9 2-2V5c0-1.1-.9-2-2-2zM9 17H7v-7h2v7zm4 0h-2V7h2v10zm4 0h-2v-4h2v4z\"/>\n",
              "    </g>\n",
              "</svg>\n",
              "  </button>\n",
              "\n",
              "<style>\n",
              "  .colab-df-quickchart {\n",
              "      --bg-color: #E8F0FE;\n",
              "      --fill-color: #1967D2;\n",
              "      --hover-bg-color: #E2EBFA;\n",
              "      --hover-fill-color: #174EA6;\n",
              "      --disabled-fill-color: #AAA;\n",
              "      --disabled-bg-color: #DDD;\n",
              "  }\n",
              "\n",
              "  [theme=dark] .colab-df-quickchart {\n",
              "      --bg-color: #3B4455;\n",
              "      --fill-color: #D2E3FC;\n",
              "      --hover-bg-color: #434B5C;\n",
              "      --hover-fill-color: #FFFFFF;\n",
              "      --disabled-bg-color: #3B4455;\n",
              "      --disabled-fill-color: #666;\n",
              "  }\n",
              "\n",
              "  .colab-df-quickchart {\n",
              "    background-color: var(--bg-color);\n",
              "    border: none;\n",
              "    border-radius: 50%;\n",
              "    cursor: pointer;\n",
              "    display: none;\n",
              "    fill: var(--fill-color);\n",
              "    height: 32px;\n",
              "    padding: 0;\n",
              "    width: 32px;\n",
              "  }\n",
              "\n",
              "  .colab-df-quickchart:hover {\n",
              "    background-color: var(--hover-bg-color);\n",
              "    box-shadow: 0 1px 2px rgba(60, 64, 67, 0.3), 0 1px 3px 1px rgba(60, 64, 67, 0.15);\n",
              "    fill: var(--button-hover-fill-color);\n",
              "  }\n",
              "\n",
              "  .colab-df-quickchart-complete:disabled,\n",
              "  .colab-df-quickchart-complete:disabled:hover {\n",
              "    background-color: var(--disabled-bg-color);\n",
              "    fill: var(--disabled-fill-color);\n",
              "    box-shadow: none;\n",
              "  }\n",
              "\n",
              "  .colab-df-spinner {\n",
              "    border: 2px solid var(--fill-color);\n",
              "    border-color: transparent;\n",
              "    border-bottom-color: var(--fill-color);\n",
              "    animation:\n",
              "      spin 1s steps(1) infinite;\n",
              "  }\n",
              "\n",
              "  @keyframes spin {\n",
              "    0% {\n",
              "      border-color: transparent;\n",
              "      border-bottom-color: var(--fill-color);\n",
              "      border-left-color: var(--fill-color);\n",
              "    }\n",
              "    20% {\n",
              "      border-color: transparent;\n",
              "      border-left-color: var(--fill-color);\n",
              "      border-top-color: var(--fill-color);\n",
              "    }\n",
              "    30% {\n",
              "      border-color: transparent;\n",
              "      border-left-color: var(--fill-color);\n",
              "      border-top-color: var(--fill-color);\n",
              "      border-right-color: var(--fill-color);\n",
              "    }\n",
              "    40% {\n",
              "      border-color: transparent;\n",
              "      border-right-color: var(--fill-color);\n",
              "      border-top-color: var(--fill-color);\n",
              "    }\n",
              "    60% {\n",
              "      border-color: transparent;\n",
              "      border-right-color: var(--fill-color);\n",
              "    }\n",
              "    80% {\n",
              "      border-color: transparent;\n",
              "      border-right-color: var(--fill-color);\n",
              "      border-bottom-color: var(--fill-color);\n",
              "    }\n",
              "    90% {\n",
              "      border-color: transparent;\n",
              "      border-bottom-color: var(--fill-color);\n",
              "    }\n",
              "  }\n",
              "</style>\n",
              "\n",
              "  <script>\n",
              "    async function quickchart(key) {\n",
              "      const quickchartButtonEl =\n",
              "        document.querySelector('#' + key + ' button');\n",
              "      quickchartButtonEl.disabled = true;  // To prevent multiple clicks.\n",
              "      quickchartButtonEl.classList.add('colab-df-spinner');\n",
              "      try {\n",
              "        const charts = await google.colab.kernel.invokeFunction(\n",
              "            'suggestCharts', [key], {});\n",
              "      } catch (error) {\n",
              "        console.error('Error during call to suggestCharts:', error);\n",
              "      }\n",
              "      quickchartButtonEl.classList.remove('colab-df-spinner');\n",
              "      quickchartButtonEl.classList.add('colab-df-quickchart-complete');\n",
              "    }\n",
              "    (() => {\n",
              "      let quickchartButtonEl =\n",
              "        document.querySelector('#df-c1e84e9b-dec9-4187-9d6b-27372ed8a1f5 button');\n",
              "      quickchartButtonEl.style.display =\n",
              "        google.colab.kernel.accessAllowed ? 'block' : 'none';\n",
              "    })();\n",
              "  </script>\n",
              "</div>\n",
              "    </div>\n",
              "  </div>\n"
            ],
            "application/vnd.google.colaboratory.intrinsic+json": {
              "type": "dataframe",
              "variable_name": "movies"
            }
          },
          "metadata": {},
          "execution_count": 65
        }
      ]
    },
    {
      "cell_type": "code",
      "source": [
        "movies.info()"
      ],
      "metadata": {
        "colab": {
          "base_uri": "https://localhost:8080/"
        },
        "id": "r7gNqnkbLVr9",
        "outputId": "54a4c9ec-30bc-4852-d3cb-ef481dc12985"
      },
      "execution_count": 66,
      "outputs": [
        {
          "output_type": "stream",
          "name": "stdout",
          "text": [
            "<class 'pandas.core.frame.DataFrame'>\n",
            "RangeIndex: 45466 entries, 0 to 45465\n",
            "Data columns (total 24 columns):\n",
            " #   Column                 Non-Null Count  Dtype  \n",
            "---  ------                 --------------  -----  \n",
            " 0   adult                  45466 non-null  object \n",
            " 1   belongs_to_collection  4494 non-null   object \n",
            " 2   budget                 45466 non-null  object \n",
            " 3   genres                 45466 non-null  object \n",
            " 4   homepage               7782 non-null   object \n",
            " 5   id                     45466 non-null  object \n",
            " 6   imdb_id                45449 non-null  object \n",
            " 7   original_language      45455 non-null  object \n",
            " 8   original_title         45466 non-null  object \n",
            " 9   overview               44512 non-null  object \n",
            " 10  popularity             45461 non-null  object \n",
            " 11  poster_path            45080 non-null  object \n",
            " 12  production_companies   45463 non-null  object \n",
            " 13  production_countries   45463 non-null  object \n",
            " 14  release_date           45379 non-null  object \n",
            " 15  revenue                45460 non-null  float64\n",
            " 16  runtime                45203 non-null  float64\n",
            " 17  spoken_languages       45460 non-null  object \n",
            " 18  status                 45379 non-null  object \n",
            " 19  tagline                20412 non-null  object \n",
            " 20  title                  45460 non-null  object \n",
            " 21  video                  45460 non-null  object \n",
            " 22  vote_average           45460 non-null  float64\n",
            " 23  vote_count             45460 non-null  float64\n",
            "dtypes: float64(4), object(20)\n",
            "memory usage: 8.3+ MB\n"
          ]
        }
      ]
    },
    {
      "cell_type": "code",
      "source": [
        "movies = movies[:5000]"
      ],
      "metadata": {
        "id": "R6oKkbR3f_Xv"
      },
      "execution_count": 67,
      "outputs": []
    },
    {
      "cell_type": "code",
      "source": [
        "movies = movies.dropna(subset=['overview', 'genres', 'vote_average', 'popularity', 'revenue'])"
      ],
      "metadata": {
        "id": "vSzsnV6H9uBW"
      },
      "execution_count": 68,
      "outputs": []
    },
    {
      "cell_type": "markdown",
      "source": [
        "---\n",
        "## TfidfVectorizer (Алгоритм) + Cosine Similarity (Метрика)\n",
        "\n"
      ],
      "metadata": {
        "id": "az8Jj-5GBT4n"
      }
    },
    {
      "cell_type": "markdown",
      "source": [
        "1. TfidfVectorizer (Алгоритм) + Cosine Similarity (Метрика)\n",
        "\n",
        "**TfidfVectorizer**:\n",
        "\n",
        "    Что это? Это алгоритм для преобразования текста в числовые векторы, который учитывает частоту слов, а также их важность в контексте всей коллекции документов (фильмов).\n",
        "\n",
        "    Как работает? Алгоритм преобразует каждое описание фильма в вектор, где каждый элемент вектора — это вес (важность) конкретного слова в описании. Вес слова определяется на основе того, как часто оно встречается в конкретном описании и как редко оно встречается в других описаниях.\n",
        "\n",
        "Пример:\n",
        "\n",
        "Предположим, у нас есть два фильма:\n",
        "\n",
        "    Фильм 1: \"Action packed adventure with superheroes\"\n",
        "\n",
        "    Фильм 2: \"Superheroes fight in an action movie\"\n",
        "\n",
        "Оба фильма содержат слова \"action\" и \"superheroes\". Векторы, полученные с помощью TfidfVectorizer, будут отражать важность этих слов в контексте описаний фильмов.\n",
        "\n",
        "**Cosine Similarity**:\n",
        "\n",
        "    Что это? Cosine Similarity — это метрика для измерения схожести между двумя векторами. Она измеряет угол между векторами и выражается числом от 0 до 1. Чем меньше угол между векторами, тем более похожи объекты.\n",
        "\n",
        "    Как работает? Если два фильма имеют одинаковое описание или схожее описание, то угол между их векторами будет маленьким, а Cosine Similarity будет близким к 1.\n",
        "\n",
        "Пример:\n",
        "\n",
        "Если Cosine Similarity между векторами двух фильмов 0.9, это означает, что их описания очень похожи."
      ],
      "metadata": {
        "id": "vQd7zEBmBLqt"
      }
    },
    {
      "cell_type": "code",
      "source": [
        "from sklearn.feature_extraction.text import TfidfVectorizer\n",
        "from sklearn.metrics.pairwise import cosine_similarity\n",
        "\n",
        "def get_similar_movies(index, cosine_sim_matrix, n=10):\n",
        "    sim_scores = list(enumerate(cosine_sim_matrix[index]))\n",
        "    sim_scores = sorted(sim_scores, key=lambda x: x[1], reverse=True)\n",
        "    sim_scores = sim_scores[1:n+1]\n",
        "    print(sim_scores)\n",
        "    movie_indices = [i[0] for i in sim_scores]\n",
        "    return movies.iloc[movie_indices][['title', 'overview']]\n",
        "\n",
        "tfidf_vectorizer = TfidfVectorizer(stop_words='english')\n",
        "tfidf_matrix = tfidf_vectorizer.fit_transform(movies['overview'])\n",
        "\n",
        "cosine_sim_tfidf = cosine_similarity(tfidf_matrix, tfidf_matrix)\n",
        "\n",
        "print(\"Рекомендации по Tfidf Cosine Similarity:\")\n",
        "print(get_similar_movies(0, cosine_sim_tfidf))"
      ],
      "metadata": {
        "colab": {
          "base_uri": "https://localhost:8080/"
        },
        "id": "gikQbIgQ9xmE",
        "outputId": "82cbf298-275e-41f2-f748-3f0af3a81ed6"
      },
      "execution_count": 69,
      "outputs": [
        {
          "output_type": "stream",
          "name": "stdout",
          "text": [
            "Рекомендации по Tfidf Cosine Similarity:\n",
            "[(2979, np.float64(0.4493581746876607)), (1058, np.float64(0.17075242813904823)), (3039, np.float64(0.15128155188396905)), (483, np.float64(0.14788996558083908)), (1916, np.float64(0.13613759049791974)), (446, np.float64(0.12618573061064553)), (1019, np.float64(0.1081381335956564)), (2140, np.float64(0.10758736044491302)), (3234, np.float64(0.1049902559851536)), (4060, np.float64(0.10450805489090641))]\n",
            "                      title                                           overview\n",
            "2997            Toy Story 2  Andy heads off to Cowboy Camp, leaving his toy...\n",
            "1071  Rebel Without a Cause  After moving to a new town, troublemaking teen...\n",
            "3057        Man on the Moon  A film about the life and career of the eccent...\n",
            "485                  Malice  A tale about a happily married couple who woul...\n",
            "1932              Condorman  Comic artist and writer Woody performs a simpl...\n",
            "448       For Love or Money  New York concierge Doug Ireland wants to go in...\n",
            "1032          The Sunchaser  A young half-Navajo convict (Jon Seda) dying o...\n",
            "2157      Indecent Proposal  Robert Redford stars as billionaire John Gage,...\n",
            "3252        Bound for Glory  A biography of Woody Guthrie, one of America's...\n",
            "4078              Losin' It  Set in 1965, four Los Angeles school friends -...\n"
          ]
        }
      ]
    },
    {
      "cell_type": "markdown",
      "source": [
        "---\n",
        "## CountVectorizer (Алгоритм) + Cosine Similarity (Метрика)"
      ],
      "metadata": {
        "id": "tIjBvVRuDVcl"
      }
    },
    {
      "cell_type": "markdown",
      "source": [
        "2. CountVectorizer (Алгоритм) + Cosine Similarity (Метрика)\n",
        "\n",
        "**CountVectorizer**:\n",
        "\n",
        "Что это?\n",
        "\n",
        "CountVectorizer — это алгоритм, который превращает текст в векторы, просто считая количество вхождений каждого слова в описание фильма. В отличие от TfidfVectorizer, он не учитывает частоту слов в других фильмах.\n",
        "\n",
        "Как работает?\n",
        "\n",
        "Например, если слово \"action\" появляется 3 раза в одном описании и 5 раз в другом, векторы будут содержать эти числа.\n",
        "\n",
        "Пример:\n",
        "\n",
        "    Фильм 1: \"Action movie with a lot of action\"\n",
        "\n",
        "    Фильм 2: \"Action packed adventure movie\"\n",
        "\n",
        "С помощью CountVectorizer создадутся два вектора, которые будут представлять, сколько раз встречаются слова \"action\", \"movie\" и т. д.\n",
        "\n",
        "**Cosine Similarity**:\n",
        "\n",
        "Что это?\n",
        "\n",
        "Так как мы уже рассмотрели Cosine Similarity выше, это метрика, которая также используется для оценки сходства между векторами, полученными с помощью CountVectorizer.\n",
        "\n",
        "Пример:\n",
        "\n",
        "Если два фильма содержат схожие слова с похожими частотами, то Cosine Similarity будет высоким."
      ],
      "metadata": {
        "id": "2A3gRClcDQsr"
      }
    },
    {
      "cell_type": "code",
      "source": [
        "from sklearn.feature_extraction.text import CountVectorizer\n",
        "from sklearn.metrics.pairwise import cosine_similarity\n",
        "\n",
        "def get_similar_movies(index, cosine_sim_matrix, n=10):\n",
        "    sim_scores = list(enumerate(cosine_sim_matrix[index]))\n",
        "    sim_scores = sorted(sim_scores, key=lambda x: x[1], reverse=True)\n",
        "    sim_scores = sim_scores[1:n+1]\n",
        "    print(sim_scores)\n",
        "    movie_indices = [i[0] for i in sim_scores]\n",
        "    return movies.iloc[movie_indices][['title', 'overview']]\n",
        "\n",
        "count_vectorizer = CountVectorizer(stop_words='english')\n",
        "count_matrix = count_vectorizer.fit_transform(movies['overview'])\n",
        "\n",
        "cosine_sim_count = cosine_similarity(count_matrix, count_matrix)\n",
        "\n",
        "print(\"\\nРекомендации по CountVectorizer Cosine Similarity:\")\n",
        "print(get_similar_movies(0, cosine_sim_count))"
      ],
      "metadata": {
        "colab": {
          "base_uri": "https://localhost:8080/"
        },
        "id": "ARcBAcpbDc5H",
        "outputId": "e184a43a-ef5a-4418-d2f5-0b3caa30ccd9"
      },
      "execution_count": 70,
      "outputs": [
        {
          "output_type": "stream",
          "name": "stdout",
          "text": [
            "\n",
            "Рекомендации по CountVectorizer Cosine Similarity:\n",
            "[(2979, np.float64(0.4123930494211613)), (3039, np.float64(0.14285714285714285)), (483, np.float64(0.13109470506889243)), (1916, np.float64(0.12777531299998798)), (1058, np.float64(0.1270001270001905)), (446, np.float64(0.1188643277625491)), (589, np.float64(0.10631548679075012)), (1019, np.float64(0.10394383930128555)), (2140, np.float64(0.09583148474999098)), (4060, np.float64(0.09352195295828244))]\n",
            "                      title                                           overview\n",
            "2997            Toy Story 2  Andy heads off to Cowboy Camp, leaving his toy...\n",
            "3057        Man on the Moon  A film about the life and career of the eccent...\n",
            "485                  Malice  A tale about a happily married couple who woul...\n",
            "1932              Condorman  Comic artist and writer Woody performs a simpl...\n",
            "1071  Rebel Without a Cause  After moving to a new town, troublemaking teen...\n",
            "448       For Love or Money  New York concierge Doug Ireland wants to go in...\n",
            "591         Window to Paris  Nikolai (played by Sergei Dontsov) has been fi...\n",
            "1032          The Sunchaser  A young half-Navajo convict (Jon Seda) dying o...\n",
            "2157      Indecent Proposal  Robert Redford stars as billionaire John Gage,...\n",
            "4078              Losin' It  Set in 1965, four Los Angeles school friends -...\n"
          ]
        }
      ]
    },
    {
      "cell_type": "markdown",
      "source": [
        "---\n",
        "## Jaccard Similarity (Метрика)"
      ],
      "metadata": {
        "id": "8yNuhsg7E4uL"
      }
    },
    {
      "cell_type": "markdown",
      "source": [
        "3. Jaccard Similarity (Метрика)\n",
        "\n",
        "Что это?\n",
        "\n",
        "Jaccard Similarity — это метрика, которая измеряет схожесть между двумя множествами, рассчитывая отношение размера пересечения множеств к размеру их объединения.\n",
        "Как работает?\n",
        "\n",
        "Для жанров фильмов мы можем рассматривать жанры как множества, например:\n",
        "\n",
        "    Фильм 1: ['Action', 'Adventure']\n",
        "\n",
        "    Фильм 2: ['Action', 'Sci-Fi']\n",
        "\n",
        "Пересечение жанров: ['Action'], объединение жанров: ['Action', 'Adventure', 'Sci-Fi'].\n",
        "\n",
        "![2025-04-10.png](data:image/png;base64,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)\n",
        "\n",
        "Пример:\n",
        "\n",
        "Если два фильма имеют схожие жанры, их Jaccard Similarity будет выше. Например, если два фильма имеют один и тот же жанр, схожесть будет 1 (максимальная)."
      ],
      "metadata": {
        "id": "hCNPInosDomm"
      }
    },
    {
      "cell_type": "code",
      "source": [
        "from sklearn.preprocessing import MultiLabelBinarizer\n",
        "from sklearn.metrics import pairwise_distances\n",
        "\n",
        "def jaccard_similarity(matrix):\n",
        "    return 1 - pairwise_distances(matrix, metric='jaccard')\n",
        "\n",
        "jaccard_sim = jaccard_similarity(genres_bin)\n",
        "\n",
        "mlb = MultiLabelBinarizer()\n",
        "genres_bin = mlb.fit_transform(movies['genres'].str.split('|'))\n",
        "\n",
        "print(\"\\nJaccard Similarity между фильмами:\")\n",
        "print(jaccard_sim[:20, :20])"
      ],
      "metadata": {
        "colab": {
          "base_uri": "https://localhost:8080/"
        },
        "id": "CuOjQKCSFg-n",
        "outputId": "14ed3690-0159-4607-adb3-25f9d18c783c"
      },
      "execution_count": 71,
      "outputs": [
        {
          "output_type": "stream",
          "name": "stderr",
          "text": [
            "/usr/local/lib/python3.11/dist-packages/sklearn/metrics/pairwise.py:2466: DataConversionWarning: Data was converted to boolean for metric jaccard\n",
            "  warnings.warn(msg, DataConversionWarning)\n"
          ]
        },
        {
          "output_type": "stream",
          "name": "stdout",
          "text": [
            "\n",
            "Jaccard Similarity между фильмами:\n",
            "[[1. 0. 0. 0. 0. 0. 0. 0. 0. 0. 0. 0. 0. 0. 0. 0. 0. 0. 0. 0.]\n",
            " [0. 1. 0. 0. 0. 0. 0. 0. 0. 0. 0. 0. 0. 0. 0. 0. 0. 0. 0. 0.]\n",
            " [0. 0. 1. 0. 0. 0. 0. 0. 0. 0. 0. 0. 0. 0. 0. 0. 0. 0. 0. 0.]\n",
            " [0. 0. 0. 1. 0. 0. 0. 0. 0. 0. 1. 0. 0. 0. 0. 0. 0. 0. 0. 0.]\n",
            " [0. 0. 0. 0. 1. 0. 0. 0. 0. 0. 0. 0. 0. 0. 0. 0. 0. 0. 0. 0.]\n",
            " [0. 0. 0. 0. 0. 1. 0. 0. 0. 0. 0. 0. 0. 0. 0. 0. 0. 0. 0. 0.]\n",
            " [0. 0. 0. 0. 0. 0. 1. 0. 0. 0. 0. 0. 0. 0. 0. 0. 0. 0. 0. 0.]\n",
            " [0. 0. 0. 0. 0. 0. 0. 1. 0. 0. 0. 0. 0. 0. 0. 0. 0. 0. 0. 0.]\n",
            " [0. 0. 0. 0. 0. 0. 0. 0. 1. 0. 0. 0. 0. 0. 0. 0. 0. 0. 0. 0.]\n",
            " [0. 0. 0. 0. 0. 0. 0. 0. 0. 1. 0. 0. 0. 0. 0. 0. 0. 0. 0. 0.]\n",
            " [0. 0. 0. 1. 0. 0. 0. 0. 0. 0. 1. 0. 0. 0. 0. 0. 0. 0. 0. 0.]\n",
            " [0. 0. 0. 0. 0. 0. 0. 0. 0. 0. 0. 1. 0. 0. 0. 0. 0. 0. 0. 0.]\n",
            " [0. 0. 0. 0. 0. 0. 0. 0. 0. 0. 0. 0. 1. 0. 0. 0. 0. 0. 0. 0.]\n",
            " [0. 0. 0. 0. 0. 0. 0. 0. 0. 0. 0. 0. 0. 1. 0. 0. 0. 0. 0. 0.]\n",
            " [0. 0. 0. 0. 0. 0. 0. 0. 0. 0. 0. 0. 0. 0. 1. 0. 0. 0. 0. 0.]\n",
            " [0. 0. 0. 0. 0. 0. 0. 0. 0. 0. 0. 0. 0. 0. 0. 1. 0. 0. 0. 0.]\n",
            " [0. 0. 0. 0. 0. 0. 0. 0. 0. 0. 0. 0. 0. 0. 0. 0. 1. 0. 0. 0.]\n",
            " [0. 0. 0. 0. 0. 0. 0. 0. 0. 0. 0. 0. 0. 0. 0. 0. 0. 1. 0. 0.]\n",
            " [0. 0. 0. 0. 0. 0. 0. 0. 0. 0. 0. 0. 0. 0. 0. 0. 0. 0. 1. 0.]\n",
            " [0. 0. 0. 0. 0. 0. 0. 0. 0. 0. 0. 0. 0. 0. 0. 0. 0. 0. 0. 1.]]\n"
          ]
        }
      ]
    },
    {
      "cell_type": "markdown",
      "source": [
        "---\n",
        "## Euclidean Distance (Метрика)"
      ],
      "metadata": {
        "id": "5QA3IGmCGPy3"
      }
    },
    {
      "cell_type": "markdown",
      "source": [
        "4. Euclidean Distance (Метрика)\n",
        "\n",
        "Что это?\n",
        "\n",
        "Euclidean Distance — это стандартная метрика, измеряющая прямое расстояние между двумя точками в пространстве. В контексте фильмов, точки — это векторы признаков фильмов.\n",
        "Как работает?\n",
        "\n",
        "Предположим, у нас есть два фильма с такими признаками, как рейтинг, количество голосов, и доход. Для двух фильмов их векторы могут быть:\n",
        "\n",
        "    Фильм 1: [7.5, 1200, 1000000]\n",
        "\n",
        "    Фильм 2: [8.0, 1300, 1500000]\n",
        "\n",
        "Euclidean Distance между этими точками будет рассчитываться как:\n",
        "\n",
        "![2025-04-10 (1).png](data:image/png;base64,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)\n",
        "\n",
        "Пример:\n",
        "\n",
        "Если два фильма имеют схожие числовые значения для этих признаков, то Euclidean Distance будет маленьким, и это будет означать, что фильмы схожи."
      ],
      "metadata": {
        "id": "empVXVOCGAmt"
      }
    },
    {
      "cell_type": "code",
      "source": [
        "from scipy.spatial.distance import euclidean\n",
        "\n",
        "euclidean_sim = pairwise_distances(genres_bin, metric='euclidean')\n",
        "\n",
        "print(\"\\nEuclidean Distance между фильмами:\")\n",
        "print(euclidean_sim[:5, :5])"
      ],
      "metadata": {
        "colab": {
          "base_uri": "https://localhost:8080/"
        },
        "id": "rgttMjF7GnK1",
        "outputId": "0ffaa5e0-f838-4645-f78f-f09fe43fdf99"
      },
      "execution_count": 72,
      "outputs": [
        {
          "output_type": "stream",
          "name": "stdout",
          "text": [
            "\n",
            "Euclidean Distance между фильмами:\n",
            "[[0.         1.41421356 1.41421356 1.41421356 1.41421356]\n",
            " [1.41421356 0.         1.41421356 1.41421356 1.41421356]\n",
            " [1.41421356 1.41421356 0.         1.41421356 1.41421356]\n",
            " [1.41421356 1.41421356 1.41421356 0.         1.41421356]\n",
            " [1.41421356 1.41421356 1.41421356 1.41421356 0.        ]]\n"
          ]
        }
      ]
    },
    {
      "cell_type": "markdown",
      "source": [
        "---\n",
        "## Pearson Correlation (Метрика)"
      ],
      "metadata": {
        "id": "xqdGHwhpG7PY"
      }
    },
    {
      "cell_type": "markdown",
      "source": [
        "5. Pearson Correlation (Метрика)\n",
        "\n",
        "Что это?\n",
        "\n",
        "Pearson Correlation — это метрика, измеряющая линейную зависимость между двумя переменными. Значение коэффициента корреляции может быть от -1 до 1, где 1 — полная положительная корреляция, -1 — полная отрицательная корреляция, а 0 — отсутствие корреляции.\n",
        "\n",
        "Как работает?\n",
        "\n",
        "Если два фильма имеют похожие оценки по меткам (например, рейтинг, количество голосов), то их корреляция будет высокой.\n",
        "\n",
        "Пример:\n",
        "\n",
        "Если фильмы с высоким рейтингом также имеют высокий доход, то Pearson Correlation между их рейтингами и доходами будет близким к 1."
      ],
      "metadata": {
        "id": "i7uYNiXoG3cx"
      }
    },
    {
      "cell_type": "code",
      "source": [
        "from scipy.stats import pearsonr\n",
        "\n",
        "def pearson_correlation(matrix):\n",
        "    corr = np.corrcoef(matrix.T)\n",
        "    return corr\n",
        "\n",
        "movies['vote_average'] = pd.to_numeric(movies['vote_average'], errors='coerce')\n",
        "movies['vote_count'] = pd.to_numeric(movies['vote_count'], errors='coerce')\n",
        "movies['popularity'] = pd.to_numeric(movies['popularity'], errors='coerce')\n",
        "movies['revenue'] = pd.to_numeric(movies['revenue'], errors='coerce')\n",
        "\n",
        "quantitative_features = movies[['vote_average', 'vote_count', 'popularity', 'revenue']].values\n",
        "pearson_corr = pearson_correlation(quantitative_features)\n",
        "\n",
        "print(\"\\nPearson Correlation между фильмами:\")\n",
        "print(pearson_corr[:10, :10])"
      ],
      "metadata": {
        "colab": {
          "base_uri": "https://localhost:8080/"
        },
        "id": "fIjkvOoWHdqY",
        "outputId": "6e976123-f163-4463-89ed-2b5320552aa0"
      },
      "execution_count": 73,
      "outputs": [
        {
          "output_type": "stream",
          "name": "stdout",
          "text": [
            "\n",
            "Pearson Correlation между фильмами:\n",
            "[[1.         0.24425402 0.31584589 0.14361411]\n",
            " [0.24425402 1.         0.65583849 0.71286252]\n",
            " [0.31584589 0.65583849 1.         0.4698977 ]\n",
            " [0.14361411 0.71286252 0.4698977  1.        ]]\n"
          ]
        }
      ]
    },
    {
      "cell_type": "markdown",
      "source": [
        "---\n",
        "## Manhattan Distance (Метрика)"
      ],
      "metadata": {
        "id": "fCq1AcNxH002"
      }
    },
    {
      "cell_type": "markdown",
      "source": [
        "6. Manhattan Distance (Метрика)\n",
        "\n",
        "Что это?\n",
        "\n",
        "Manhattan Distance измеряет расстояние между двумя точками, используя сумму абсолютных разностей их признаков.\n",
        "Как работает?\n",
        "\n",
        "Если два фильма имеют следующие числовые признаки:\n",
        "\n",
        "    Фильм 1: [7.5, 1200, 1000000]\n",
        "    Фильм 2: [8.0, 1300, 1500000]\n",
        "\n",
        "Манхэттенское расстояние будет равно:\n",
        "\n",
        "![2025-04-10 (2).png](data:image/png;base64,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)\n",
        "\n",
        "Пример:\n",
        "\n",
        "Если два фильма очень различаются по значению признаков (например, рейтинг и доход), Manhattan Distance будет высоким, что укажет на большую разницу."
      ],
      "metadata": {
        "id": "sLxWH2j4HsWB"
      }
    },
    {
      "cell_type": "code",
      "source": [
        "from sklearn.metrics import pairwise_distances\n",
        "\n",
        "manhattan_sim = pairwise_distances(quantitative_features, metric='cityblock')\n",
        "\n",
        "print(\"\\nManhattan Distance между фильмами:\")\n",
        "print(manhattan_sim[:4, :4])"
      ],
      "metadata": {
        "colab": {
          "base_uri": "https://localhost:8080/"
        },
        "id": "LqNhEsU_IGoe",
        "outputId": "64c22811-ebbd-44ef-c8ba-801dbd9db5f2"
      },
      "execution_count": 74,
      "outputs": [
        {
          "output_type": "stream",
          "name": "stdout",
          "text": [
            "\n",
            "Manhattan Distance между фильмами:\n",
            "[[0.00000000e+00 1.10759792e+08 3.73559367e+08 2.92107278e+08]\n",
            " [1.10759792e+08 0.00000000e+00 2.62799576e+08 1.81347486e+08]\n",
            " [3.73559367e+08 2.62799576e+08 0.00000000e+00 8.14522223e+07]\n",
            " [2.92107278e+08 1.81347486e+08 8.14522223e+07 0.00000000e+00]]\n"
          ]
        }
      ]
    },
    {
      "cell_type": "markdown",
      "source": [
        "---\n",
        "## Когда и зачем применять эти методы?\n",
        "\n",
        "**TfidfVectorizer** и **Cosine Similarity**: Используются, когда нужно сравнивать фильмы по их описаниям. Это помогает рекомендательным системам предложить фильмы с похожим содержанием.\n",
        "\n",
        "**CountVectorizer** и **Cosine Similarity**: Подходит для текстов, где важно просто количество вхождений слов, без учёта их важности в контексте.\n",
        "\n",
        "**Jaccard Similarity**: Используется для категориальных данных, таких как жанры, где важно наличие или отсутствие определённых характеристик.\n",
        "\n",
        "**Euclidean Distance**: Хорошо работает с количественными признаками (например, рейтинг, количество голосов) и позволяет измерять «физическое» расстояние между фильмами.\n",
        "\n",
        "**Pearson Correlation**: Подходит для поиска взаимосвязи между переменными, например, между рейтингом и количеством голосов, доходом и популярностью.\n",
        "\n",
        "**Manhattan Distance**: Также используется для количественных признаков и даёт представление о разнице между объектами по множеству признаков."
      ],
      "metadata": {
        "id": "tY-bWv7jJAyP"
      }
    }
  ]
}