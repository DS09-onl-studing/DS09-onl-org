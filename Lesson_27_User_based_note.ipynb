{
  "nbformat": 4,
  "nbformat_minor": 0,
  "metadata": {
    "colab": {
      "provenance": [],
      "toc_visible": true
    },
    "kernelspec": {
      "name": "python3",
      "display_name": "Python 3"
    },
    "language_info": {
      "name": "python"
    }
  },
  "cells": [
    {
      "cell_type": "code",
      "source": [
        "import numpy as np\n",
        "import pandas as pd\n",
        "from google.colab import drive"
      ],
      "metadata": {
        "id": "tIlLadzwba6-"
      },
      "execution_count": 1,
      "outputs": []
    },
    {
      "cell_type": "code",
      "source": [
        "# @title Функции\n",
        "\n",
        "def top_to_user(k: int, n=10) -> pd.DataFrame:\n",
        "    user_id = k\n",
        "    correlations_for_user = correlation_matrix[user_id]\n",
        "    top_10_users = correlations_for_user.sort_values(ascending=False)[1:n+1]\n",
        "    return top_10_users\n",
        "\n",
        "def create_tables(n=999999, k=999999) -> pd.DataFrame:\n",
        "\n",
        "    drive.mount('/content/drive')\n",
        "\n",
        "    movie_tags = pd.read_csv('/content/drive/MyDrive/ml-latest/genome-scores.csv', low_memory=False)\n",
        "    movie_tags = movie_tags[movie_tags['movieId'] < n]\n",
        "\n",
        "    tags = pd.read_csv('/content/drive/MyDrive/ml-latest/genome-tags.csv', low_memory=False)\n",
        "    movie_tags = pd.merge(movie_tags, tags, on='tagId', how='left')\n",
        "\n",
        "    movies = pd.read_csv('/content/drive/MyDrive/ml-latest/links.csv', low_memory=False)\n",
        "    movies = movies[movies['movieId'] < n]\n",
        "\n",
        "    movie_details = pd.read_csv('/content/drive/MyDrive/ml-latest/movies.csv', low_memory=False)\n",
        "    movie_details = movie_details[movie_details['movieId'] < n]\n",
        "    movie_details['genres'] = movie_details['genres'].str.replace('|', ' ', regex=False)\n",
        "    movie_details['first_genre'] = movie_details['genres'].str.split().str[0]\n",
        "    movie_details = movie_details[['movieId', 'title', 'genres', 'first_genre']]\n",
        "\n",
        "    ratings = pd.read_csv('/content/drive/MyDrive/ml-latest/ratings.csv', low_memory=False)\n",
        "    ratings['date'] = pd.to_datetime(ratings['timestamp'], unit='s').dt.strftime('%Y-%m-%d')\n",
        "    ratings = ratings[ratings['movieId'] < n]\n",
        "    ratings = ratings[ratings['userId'] < k]\n",
        "    ratings = pd.merge(movie_details[['movieId', 'title']], ratings, on='movieId', how='inner')\n",
        "    ratings = ratings[['userId', 'movieId', 'title', 'rating', 'timestamp', 'date']]\n",
        "\n",
        "    ratings_matrix = ratings.pivot_table(index='title', columns='userId', values='rating').fillna(0)\n",
        "    correlation_matrix = ratings_matrix.corr()\n",
        "\n",
        "    movie_ratings = ratings.groupby('movieId').agg(\n",
        "        average_rating=('rating', 'mean'),\n",
        "        vote_count=('rating', 'count')\n",
        "    ).reset_index()\n",
        "    movie_ratings = pd.merge(movie_details[['movieId', 'title']], movie_ratings, on='movieId', how='inner')\n",
        "\n",
        "    user_tags = pd.read_csv('/content/drive/MyDrive/ml-latest/tags.csv', low_memory=False)\n",
        "    user_tags['date'] = pd.to_datetime(user_tags['timestamp'], unit='s').dt.strftime('%Y-%m-%d')\n",
        "    user_tags = user_tags[user_tags['movieId'] < n]\n",
        "    user_tags = user_tags[user_tags['userId'] < k]\n",
        "\n",
        "    return ratings_matrix, correlation_matrix, tags, movie_tags, movies, movie_details, ratings, movie_ratings, user_tags"
      ],
      "metadata": {
        "id": "8xdCNNGeJhj1",
        "cellView": "form"
      },
      "execution_count": 2,
      "outputs": []
    },
    {
      "cell_type": "code",
      "source": [
        "ratings_matrix, correlation_matrix, tags, movie_tags, movies, movie_details, ratings, movie_ratings, user_tags = create_tables(n=5000, k=5000)"
      ],
      "metadata": {
        "colab": {
          "base_uri": "https://localhost:8080/"
        },
        "id": "unp9XM18iRro",
        "outputId": "2086869d-e167-4eda-d379-067a48fedbf7"
      },
      "execution_count": 3,
      "outputs": [
        {
          "metadata": {
            "tags": null
          },
          "name": "stdout",
          "output_type": "stream",
          "text": [
            "Drive already mounted at /content/drive; to attempt to forcibly remount, call drive.mount(\"/content/drive\", force_remount=True).\n"
          ]
        }
      ]
    },
    {
      "cell_type": "markdown",
      "source": [
        "### 1. **Pearson Correlation + User Ratings** (метрики)\n",
        "\n",
        "**Что это?**\n",
        "- **Pearson Correlation** измеряет степень линейной зависимости между двумя переменными. В контексте рекомендательных систем, это может быть использовано для сравнения сходства в рейтингах пользователей.\n",
        "\n",
        "**Как работает?**\n",
        "- Сравниваем, насколько схожи рейтинги пользователей для фильмов, чтобы понять, как сильно они похожи в предпочтениях.\n",
        "- Предполагает линейную зависимость и нормальное распределение переменных.\n",
        "- Подходит для непрерывных данных.\n",
        "\n",
        "Пример:"
      ],
      "metadata": {
        "id": "3WZFC5pMaCsD"
      }
    },
    {
      "cell_type": "code",
      "source": [
        "from scipy.stats import pearsonr\n",
        "\n",
        "# Создаем матрицу оценок пользователей\n",
        "ratings_matrix = ratings.pivot_table(index='userId', columns='title', values='rating').fillna(0)\n",
        "\n",
        "# Функция для вычисления коэффициента корреляции между пользователями\n",
        "def pearson_similarity(user1, user2, ratings_matrix):\n",
        "    return pearsonr(ratings_matrix.loc[user1], ratings_matrix.loc[user2])[0]\n",
        "\n",
        "# Пример расчета сходства между двумя пользователями\n",
        "similarity = pearson_similarity(1, 2, ratings_matrix)\n",
        "print(f\"Pearson similarity between user 1 and user 2: {similarity}\")"
      ],
      "metadata": {
        "colab": {
          "base_uri": "https://localhost:8080/"
        },
        "id": "421ML5f_aSWo",
        "outputId": "448dabb6-519b-4d8f-fd2e-f2156639378a"
      },
      "execution_count": 4,
      "outputs": [
        {
          "output_type": "stream",
          "name": "stdout",
          "text": [
            "Pearson similarity between user 1 and user 2: 0.0754199922570331\n"
          ]
        }
      ]
    },
    {
      "cell_type": "markdown",
      "source": [
        "---\n",
        "\n",
        "### 2. **Spearman Rank Correlation** (метрика)\n",
        "\n",
        "**Что это?**\n",
        "- **Spearman Rank Correlation** — это статистическая мера зависимости между двумя переменными, которая оценивает их ранговые корреляции (не линейные). Это подходит для рекомендательных систем, когда рейтинги не обязательно являются линейными, но важно, как пользователь оценивает фильмы относительно других.\n",
        "\n",
        "\n",
        "**Как работает?**\n",
        "- Ранжируем фильмы по оценкам каждого пользователя и сравниваем эти ранги между пользователями.\n",
        "- Менее чувствителен к выбросам, так как он ранжирует данные, прежде чем вычислять корреляцию.\n",
        "- Подходит для обычных данных или когда данные ранжируются.\n",
        "\n",
        "Пример:\n"
      ],
      "metadata": {
        "id": "OkjR8yDyaXLQ"
      }
    },
    {
      "cell_type": "code",
      "source": [
        "from scipy.stats import spearmanr\n",
        "\n",
        "# Функция для вычисления Spearman similarity между двумя пользователями\n",
        "def spearman_similarity(user1, user2, ratings_matrix):\n",
        "    return spearmanr(ratings_matrix.loc[user1], ratings_matrix.loc[user2])[0]\n",
        "\n",
        "# Пример расчета сходства между двумя пользователями\n",
        "similarity = spearman_similarity(1, 2, ratings_matrix)\n",
        "print(f\"Spearman similarity between user 1 and user 2: {similarity}\")"
      ],
      "metadata": {
        "colab": {
          "base_uri": "https://localhost:8080/"
        },
        "id": "3Vf-KQGPaYCC",
        "outputId": "275700e7-20b4-41c4-d4cc-cd98691ea837"
      },
      "execution_count": 5,
      "outputs": [
        {
          "metadata": {
            "tags": null
          },
          "name": "stdout",
          "output_type": "stream",
          "text": [
            "Spearman similarity between user 1 and user 2: 0.05439154533542441\n"
          ]
        }
      ]
    },
    {
      "cell_type": "markdown",
      "source": [
        "---\n",
        "\n",
        "### 3. **K-Nearest Neighbors (KNN) для Пользовательских Оценок** (алгоритм)\n",
        "\n",
        "**Что это?**\n",
        "- **K-Nearest Neighbors (KNN)** — алгоритм поиска ближайших соседей. В рекомендательных системах это можно использовать для нахождения пользователей, которые имеют похожие предпочтения.\n",
        "\n",
        "**Как работает?**\n",
        "- С помощью KNN находим пользователей, которые ставят похожие оценки тем же фильмам, что и целевой пользователь. Эти пользователи могут быть использованы для рекомендации фильмов.\n",
        "\n",
        "Пример:"
      ],
      "metadata": {
        "id": "XIFXS0xGaTND"
      }
    },
    {
      "cell_type": "code",
      "execution_count": 6,
      "metadata": {
        "colab": {
          "base_uri": "https://localhost:8080/"
        },
        "collapsed": true,
        "id": "l-hMWdbKZ7mv",
        "outputId": "9b924f57-aef7-4682-a629-4f99a699a4dc"
      },
      "outputs": [
        {
          "output_type": "stream",
          "name": "stdout",
          "text": [
            "title   'Til There Was You (1997)  'burbs, The (1989)  'night Mother (1986)  \\\n",
            "userId                                                                        \n",
            "1                             0.0                 0.0                   0.0   \n",
            "182                           0.0                 0.0                   0.0   \n",
            "2277                          0.0                 0.0                   0.0   \n",
            "3136                          0.0                 0.0                   0.0   \n",
            "2527                          0.0                 0.0                   0.0   \n",
            "\n",
            "title   ...And Justice for All (1979)  1-900 (06) (1994)  \\\n",
            "userId                                                     \n",
            "1                                 0.0                0.0   \n",
            "182                               0.0                0.0   \n",
            "2277                              0.0                0.0   \n",
            "3136                              0.0                0.0   \n",
            "2527                              0.0                0.0   \n",
            "\n",
            "title   10 Things I Hate About You (1999)  101 Dalmatians (1996)  \\\n",
            "userId                                                             \n",
            "1                                     0.0                    0.0   \n",
            "182                                   0.0                    0.0   \n",
            "2277                                  0.0                    0.0   \n",
            "3136                                  0.0                    0.0   \n",
            "2527                                  0.0                    0.0   \n",
            "\n",
            "title   101 Dalmatians (One Hundred and One Dalmatians) (1961)  \\\n",
            "userId                                                           \n",
            "1                                                     3.5        \n",
            "182                                                   0.0        \n",
            "2277                                                  0.0        \n",
            "3136                                                  0.0        \n",
            "2527                                                  0.0        \n",
            "\n",
            "title   102 Dalmatians (2000)  10th Victim, The (La decima vittima) (1965)  \\\n",
            "userId                                                                       \n",
            "1                         0.0                                          0.0   \n",
            "182                       0.0                                          0.0   \n",
            "2277                      0.0                                          0.0   \n",
            "3136                      0.0                                          0.0   \n",
            "2527                      0.0                                          0.0   \n",
            "\n",
            "title   ...  Your Friends and Neighbors (1998)  Zed & Two Noughts, A (1985)  \\\n",
            "userId  ...                                                                   \n",
            "1       ...                                0.0                          0.0   \n",
            "182     ...                                0.0                          0.0   \n",
            "2277    ...                                0.0                          0.0   \n",
            "3136    ...                                0.0                          0.0   \n",
            "2527    ...                                0.0                          0.0   \n",
            "\n",
            "title   Zero Effect (1998)  Zero Kelvin (Kjærlighetens kjøtere) (1995)  \\\n",
            "userId                                                                   \n",
            "1                      0.0                                         0.0   \n",
            "182                    0.0                                         0.0   \n",
            "2277                   0.0                                         0.0   \n",
            "3136                   0.0                                         0.0   \n",
            "2527                   0.0                                         0.0   \n",
            "\n",
            "title   Zeus and Roxanne (1997)  Zone 39 (1997)  Zoolander (2001)  \\\n",
            "userId                                                              \n",
            "1                           0.0             0.0               0.0   \n",
            "182                         0.0             0.0               0.0   \n",
            "2277                        0.0             0.0               0.0   \n",
            "3136                        0.0             0.0               0.0   \n",
            "2527                        0.0             0.0               0.0   \n",
            "\n",
            "title   Zorro, the Gay Blade (1981)  eXistenZ (1999)  ¡Three Amigos! (1986)  \n",
            "userId                                                                       \n",
            "1                               0.0              0.0                    0.0  \n",
            "182                             0.0              0.0                    0.0  \n",
            "2277                            0.0              0.0                    0.0  \n",
            "3136                            0.0              0.0                    0.0  \n",
            "2527                            0.0              0.0                    0.0  \n",
            "\n",
            "[5 rows x 4456 columns]\n"
          ]
        },
        {
          "output_type": "stream",
          "name": "stderr",
          "text": [
            "/usr/local/lib/python3.11/dist-packages/sklearn/utils/validation.py:2739: UserWarning: X does not have valid feature names, but NearestNeighbors was fitted with feature names\n",
            "  warnings.warn(\n"
          ]
        }
      ],
      "source": [
        "from sklearn.neighbors import NearestNeighbors\n",
        "\n",
        "knn = NearestNeighbors(n_neighbors=5, algorithm='auto').fit(ratings_matrix)\n",
        "\n",
        "distances, indices = knn.kneighbors([ratings_matrix.iloc[0]])\n",
        "\n",
        "recommended_users = ratings_matrix.iloc[indices[0]]\n",
        "print(recommended_users)"
      ]
    },
    {
      "cell_type": "code",
      "source": [
        "import pandas as pd\n",
        "from sklearn.neighbors import NearestNeighbors\n",
        "\n",
        "knn = NearestNeighbors(n_neighbors=5, algorithm='auto', metric='cosine')\n",
        "knn.fit(ratings_matrix)\n",
        "\n",
        "def recommend_movies(user_index, ratings_matrix, knn, n_recommendations=10):\n",
        "    distances, indices = knn.kneighbors([ratings_matrix.iloc[user_index]])\n",
        "\n",
        "    recommended_movies = set()\n",
        "\n",
        "    for idx in indices[0]:\n",
        "        similar_user_ratings = ratings_matrix.iloc[idx]\n",
        "\n",
        "        movies_not_rated_by_user = similar_user_ratings[similar_user_ratings > 0].index\n",
        "        for movie in movies_not_rated_by_user:\n",
        "            if ratings_matrix.iloc[user_index][movie] == 0:\n",
        "                recommended_movies.add(movie)\n",
        "\n",
        "    recommended_movies = list(recommended_movies)[:n_recommendations]\n",
        "\n",
        "    return recommended_movies\n",
        "\n",
        "recommended_movies = recommend_movies(1, ratings_matrix, knn, n_recommendations=10)\n",
        "\n",
        "print(f\"Recommended movie titles for user: {recommended_movies}\")"
      ],
      "metadata": {
        "colab": {
          "base_uri": "https://localhost:8080/"
        },
        "id": "J5y8pgXODSN_",
        "outputId": "4902973f-ff7f-4d36-e91e-e0b2095469ae"
      },
      "execution_count": 7,
      "outputs": [
        {
          "output_type": "stream",
          "name": "stdout",
          "text": [
            "Recommended movie titles for user: [\"Mary Shelley's Frankenstein (Frankenstein) (1994)\", 'Rock, The (1996)', 'Crow, The (1994)', 'Remains of the Day, The (1993)', 'Shallow Grave (1994)', 'Desperado (1995)', 'Much Ado About Nothing (1993)', 'Kalifornia (1993)', 'Bad Boys (1995)', 'Species (1995)']\n"
          ]
        },
        {
          "output_type": "stream",
          "name": "stderr",
          "text": [
            "/usr/local/lib/python3.11/dist-packages/sklearn/utils/validation.py:2739: UserWarning: X does not have valid feature names, but NearestNeighbors was fitted with feature names\n",
            "  warnings.warn(\n"
          ]
        }
      ]
    },
    {
      "cell_type": "markdown",
      "source": [
        "---\n",
        "\n",
        "### 4. **Matrix Factorization (SVD)** (алгоритм)\n",
        "\n",
        "**Что это?**\n",
        "- **Matrix Factorization** — это метод разложения матрицы на две матрицы меньшего размера. В контексте рекомендательных систем, матрица оценок (пользователь-фильм) разлагается на матрицы пользовательских и фильмовских латентных факторов. Одним из популярных методов является **SVD (Singular Value Decomposition)**.\n",
        "\n",
        "**Как работает?**\n",
        "- Метод разложения помогает найти скрытые паттерны в оценках, и на основе этих паттернов делать рекомендации.\n",
        "\n",
        "Пример:\n"
      ],
      "metadata": {
        "id": "5sLhe5kLaoo7"
      }
    },
    {
      "cell_type": "code",
      "source": [
        "from sklearn.decomposition import TruncatedSVD\n",
        "\n",
        "svd = TruncatedSVD(n_components=10, random_state=42)\n",
        "svd_matrix = svd.fit_transform(ratings_matrix)\n",
        "\n",
        "print(svd_matrix)"
      ],
      "metadata": {
        "colab": {
          "base_uri": "https://localhost:8080/"
        },
        "id": "o3eVtXyNawSK",
        "outputId": "eadb85e3-f2fd-4502-970f-e3e5c3827d23"
      },
      "execution_count": 8,
      "outputs": [
        {
          "output_type": "stream",
          "name": "stdout",
          "text": [
            "[[  8.05770179   3.40754628   4.4055451  ...  -1.08442843   0.84903703\n",
            "    2.98539411]\n",
            " [ 14.71436578  17.42964487 -12.9466904  ...  -2.72418992  -2.792869\n",
            "    0.68305739]\n",
            " [  2.91985034   2.00005617   3.1109815  ...  -1.25099935   0.75140823\n",
            "   -0.15799019]\n",
            " ...\n",
            " [  9.14406836   3.50094521   0.7759104  ...  -1.12463476   2.17763761\n",
            "   -2.6132143 ]\n",
            " [ 34.26086739  -1.89959333  -8.2110074  ...  16.98149945  -1.75307071\n",
            "   13.98565232]\n",
            " [ 15.25832329   0.75333363  11.59464095 ...   0.92310374   2.39655512\n",
            "   -1.58490659]]\n"
          ]
        }
      ]
    },
    {
      "cell_type": "markdown",
      "source": [
        "---\n",
        "\n",
        "### 5. **User-User Collaborative Filtering** (алгоритм)\n",
        "\n",
        "**Что это?**\n",
        "- **User-User Collaborative Filtering** основан на предположении, что пользователи, которые ставят похожие оценки на одни и те же фильмы, будут иметь схожие предпочтения и в будущем.\n",
        "\n",
        "**Как работает?**\n",
        "- Мы находим схожих пользователей и рекомендуем фильмы, которые эти пользователи оценили высоко.\n",
        "\n",
        "Пример:"
      ],
      "metadata": {
        "id": "YEZYsbHSakDq"
      }
    },
    {
      "cell_type": "code",
      "source": [
        "from sklearn.metrics.pairwise import cosine_similarity\n",
        "\n",
        "def compute_user_similarity(ratings_matrix):\n",
        "    return cosine_similarity(ratings_matrix)\n",
        "\n",
        "def recommend_movies_combined(userId, ratings_matrix, user_similarity, n_recommendations=10):\n",
        "    similar_users = np.argsort(user_similarity[userId])[-11:-1]\n",
        "\n",
        "    recommended_movies = {}\n",
        "\n",
        "    for user in similar_users:\n",
        "        rated_movies = ratings_matrix.iloc[user][ratings_matrix.iloc[user] > 0].index\n",
        "        for movie in rated_movies:\n",
        "            if ratings_matrix.loc[userId, movie] == 0:\n",
        "                similarity_weight = user_similarity[userId, user]\n",
        "                if movie not in recommended_movies:\n",
        "                    recommended_movies[movie] = similarity_weight\n",
        "                else:\n",
        "                    recommended_movies[movie] += similarity_weight\n",
        "\n",
        "    if recommended_movies:\n",
        "        recommended_movies = sorted(recommended_movies.items(), key=lambda x: x[1], reverse=True)\n",
        "        recommended_movies = [movie[0] for movie in recommended_movies[:n_recommendations]]\n",
        "    else:\n",
        "        recommended_movies = []\n",
        "\n",
        "    return recommended_movies\n",
        "\n",
        "\n",
        "user_similarity = compute_user_similarity(ratings_matrix)\n",
        "recommended_movies = recommend_movies_combined(1, ratings_matrix, user_similarity, n_recommendations=10)\n",
        "print(f\"Recommended movies for user 1: {recommended_movies}\")"
      ],
      "metadata": {
        "colab": {
          "base_uri": "https://localhost:8080/"
        },
        "id": "IZiNlN9qM3yo",
        "outputId": "d1a5d77a-e47b-4d26-c8c7-5cbd1e495f86"
      },
      "execution_count": 9,
      "outputs": [
        {
          "output_type": "stream",
          "name": "stdout",
          "text": [
            "Recommended movies for user 1: ['Aladdin (1992)', 'Batman (1989)', 'Batman Forever (1995)', 'Clear and Present Danger (1994)', 'Die Hard: With a Vengeance (1995)', 'Dumb & Dumber (Dumb and Dumber) (1994)', 'Fugitive, The (1993)', 'Ghost (1990)', 'Interview with the Vampire: The Vampire Chronicles (1994)', 'Jurassic Park (1993)']\n"
          ]
        }
      ]
    },
    {
      "cell_type": "markdown",
      "source": [
        "---\n",
        "\n",
        "### 6. **Clustering (K-Means)** (алгоритм)\n",
        "\n",
        "**Что это?**\n",
        "- **Clustering** — метод группировки пользователей или фильмов в кластеры на основе схожести их оценок или других характеристик.\n",
        "\n",
        "**Как работает?**\n",
        "- Используя **K-Means**, можно разделить пользователей или фильмы на группы. Пользователи в одной группе будут иметь схожие предпочтения, и можно рекомендовать фильмы из той же группы.\n",
        "\n",
        "Пример:\n"
      ],
      "metadata": {
        "id": "XNE2RlsGbEL6"
      }
    },
    {
      "cell_type": "code",
      "source": [
        "import numpy as np\n",
        "from sklearn.cluster import KMeans\n",
        "\n",
        "kmeans = KMeans(n_clusters=5, random_state=42)\n",
        "user_clusters = kmeans.fit_predict(ratings_matrix)\n",
        "\n",
        "def recommend_from_cluster(user_index, user_clusters, ratings_matrix, n=10):\n",
        "    user_cluster = user_clusters[user_index]\n",
        "    cluster_users = [i for i, cluster in enumerate(user_clusters) if cluster == user_cluster]\n",
        "    rated_movies = ratings_matrix.iloc[user_index].loc[ratings_matrix.iloc[user_index] > 0].index.tolist()\n",
        "\n",
        "    recommended_movies = []\n",
        "    movie_ratings = {}\n",
        "\n",
        "    for idx in cluster_users:\n",
        "        if idx == user_index:\n",
        "            continue\n",
        "        user_ratings = ratings_matrix.iloc[idx].loc[ratings_matrix.iloc[idx] > 0]\n",
        "        for movie_id, rating in user_ratings.items():\n",
        "            if movie_id not in rated_movies:\n",
        "                if movie_id not in movie_ratings:\n",
        "                    movie_ratings[movie_id] = []\n",
        "                movie_ratings[movie_id].append(rating)\n",
        "\n",
        "    movie_avg_ratings = {movie_id: np.mean(ratings) for movie_id, ratings in movie_ratings.items()}\n",
        "    recommended_movies = sorted(movie_avg_ratings.items(), key=lambda x: x[1], reverse=True)\n",
        "    recommended_movie_ids = [movie_id for movie_id, rating in recommended_movies[:n]]\n",
        "    print(f\"Top {n} recommended movies: {recommended_movie_ids}\")\n",
        "    return recommended_movie_ids\n",
        "\n",
        "\n",
        "recommended_movies = recommend_from_cluster(0, user_clusters, ratings_matrix, n=10)"
      ],
      "metadata": {
        "colab": {
          "base_uri": "https://localhost:8080/"
        },
        "id": "q88QdKkcbD6o",
        "outputId": "82bb9277-0cea-4957-a3a9-bedd2d7923ec"
      },
      "execution_count": 14,
      "outputs": [
        {
          "output_type": "stream",
          "name": "stdout",
          "text": [
            "Top 10 recommended movies: ['24 7: Twenty Four Seven (1997)', \"Kelly's Heroes (1970)\", 'Scandal (1989)', 'Steam: The Turkish Bath (Hamam) (1997)', 'Live Flesh (Carne trémula) (1997)', 'Children of Paradise (Les enfants du paradis) (1945)', 'Lovers on the Bridge, The (Amants du Pont-Neuf, Les) (1991)', \"2 ou 3 choses que je sais d'elle (2 or 3 Things I Know About Her) (1967)\", 'La Cérémonie (1995)', 'Alamo, The (1960)']\n"
          ]
        }
      ]
    },
    {
      "cell_type": "markdown",
      "source": [
        "---\n",
        "\n",
        "### 7. **Latent Factor Models (ALS)** (алгоритм)\n",
        "\n",
        "**Что это?**\n",
        "- **Alternating Least Squares (ALS)** — это метод оптимизации, используемый для матричной факторизации. Он особенно эффективен для работы с разреженными матрицами, как в случае с оценками пользователей.\n",
        "\n",
        "**Как работает?**\n",
        "- Модель находит скрытые факторы как для пользователей, так и для фильмов, и использует эти скрытые параметры для рекомендации.\n",
        "\n",
        "Пример:"
      ],
      "metadata": {
        "id": "3PXdPUyCbIOM"
      }
    },
    {
      "cell_type": "code",
      "source": [
        "from pyspark.ml.recommendation import ALS\n",
        "from pyspark.sql import SparkSession\n",
        "\n",
        "# Создаем сессию Spark\n",
        "spark = SparkSession.builder.master(\"local\").appName(\"Recommender\").getOrCreate()\n",
        "\n",
        "# Преобразуем pandas DataFrame в Spark DataFrame\n",
        "ratings_df = spark.createDataFrame(ratings)\n",
        "\n",
        "# Применяем ALS для обучения модели\n",
        "als = ALS(userCol=\"userId\", itemCol=\"movieId\", ratingCol=\"rating\", coldStartStrategy=\"drop\")\n",
        "model = als.fit(ratings_df)\n",
        "\n",
        "# Рекомендации для пользователя\n",
        "user_recommendations = model.recommendForUserSubset(ratings_df, 10)\n",
        "user_recommendations.show()"
      ],
      "metadata": {
        "colab": {
          "base_uri": "https://localhost:8080/"
        },
        "id": "KHlIdWC0bL16",
        "outputId": "19204557-7555-4630-c335-45b549d2a1da"
      },
      "execution_count": 11,
      "outputs": [
        {
          "output_type": "stream",
          "name": "stdout",
          "text": [
            "+------+--------------------+\n",
            "|userId|     recommendations|\n",
            "+------+--------------------+\n",
            "|     1|[{3808, 4.6654525...|\n",
            "|     2|[{4840, 4.914429}...|\n",
            "|     3|[{4289, 5.7098885...|\n",
            "|     4|[{3855, 5.2088447...|\n",
            "|     5|[{4289, 4.6407514...|\n",
            "|     6|[{4289, 4.8466644...|\n",
            "|     7|[{3855, 4.1463895...|\n",
            "|     8|[{3913, 5.816461}...|\n",
            "|     9|[{3855, 4.5367155...|\n",
            "|    10|[{4434, 4.205812}...|\n",
            "|    11|[{4289, 5.110259}...|\n",
            "|    12|[{4789, 5.254818}...|\n",
            "|    13|[{3456, 5.921985}...|\n",
            "|    14|[{2573, 5.2405515...|\n",
            "|    15|[{4459, 4.474174}...|\n",
            "|    17|[{3855, 5.62134},...|\n",
            "|    18|[{4289, 1.8536396...|\n",
            "|    19|[{4175, 4.344439}...|\n",
            "|    20|[{4672, 4.1933208...|\n",
            "|    21|[{4289, 4.695143}...|\n",
            "+------+--------------------+\n",
            "only showing top 20 rows\n",
            "\n"
          ]
        }
      ]
    }
  ]
}