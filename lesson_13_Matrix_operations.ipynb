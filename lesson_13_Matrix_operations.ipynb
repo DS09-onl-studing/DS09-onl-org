{
  "nbformat": 4,
  "nbformat_minor": 0,
  "metadata": {
    "colab": {
      "provenance": []
    },
    "kernelspec": {
      "name": "python3",
      "display_name": "Python 3"
    },
    "language_info": {
      "name": "python"
    }
  },
  "cells": [
    {
      "cell_type": "code",
      "execution_count": 1,
      "metadata": {
        "id": "NW8MRDYdD0Zv"
      },
      "outputs": [],
      "source": [
        "import numpy as np"
      ]
    },
    {
      "cell_type": "code",
      "source": [
        "matrix_1 = np.array([\n",
        "    [0, 3, 4],\n",
        "    [-7, 1, -2],\n",
        "    [2, -1, 3]\n",
        "])\n",
        "\n",
        "matrix_2 = np.array([\n",
        "    [1, 2, 4],\n",
        "    [7, 0, -2],\n",
        "    [-3, -2, 5]\n",
        "])\n",
        "\n",
        "matrix_3 = np.array([\n",
        "    [-3, 2],\n",
        "    [0, 4],\n",
        "    [-1, 7]\n",
        "])"
      ],
      "metadata": {
        "id": "FvhnDu0vEAFo"
      },
      "execution_count": 2,
      "outputs": []
    },
    {
      "cell_type": "code",
      "source": [
        "matrix_12 = matrix_1 @ matrix_2\n",
        "print(matrix_12)"
      ],
      "metadata": {
        "colab": {
          "base_uri": "https://localhost:8080/"
        },
        "id": "sqK5v-1JE6Ta",
        "outputId": "07814d7a-1d16-4064-aea5-ce065ecaa9da"
      },
      "execution_count": 3,
      "outputs": [
        {
          "output_type": "stream",
          "name": "stdout",
          "text": [
            "[[  9  -8  14]\n",
            " [  6 -10 -40]\n",
            " [-14  -2  25]]\n"
          ]
        }
      ]
    },
    {
      "cell_type": "code",
      "source": [
        "matrix_123 = matrix_12 @ matrix_3\n",
        "print(matrix_123)"
      ],
      "metadata": {
        "colab": {
          "base_uri": "https://localhost:8080/"
        },
        "id": "BNSVW9lfF0DF",
        "outputId": "ecae1845-1f7d-41f0-85d7-13b4823057f7"
      },
      "execution_count": 4,
      "outputs": [
        {
          "output_type": "stream",
          "name": "stdout",
          "text": [
            "[[ -41   84]\n",
            " [  22 -308]\n",
            " [  17  139]]\n"
          ]
        }
      ]
    },
    {
      "cell_type": "code",
      "source": [
        "matrix_231 = matrix_1 @ (matrix_2 @ matrix_3)\n",
        "print(matrix_231)"
      ],
      "metadata": {
        "colab": {
          "base_uri": "https://localhost:8080/"
        },
        "id": "2fVB7cJPG83C",
        "outputId": "8a67076d-e4ea-4762-bcdd-b2f961234d85"
      },
      "execution_count": 5,
      "outputs": [
        {
          "output_type": "stream",
          "name": "stdout",
          "text": [
            "[[ -41   84]\n",
            " [  22 -308]\n",
            " [  17  139]]\n"
          ]
        }
      ]
    }
  ]
}