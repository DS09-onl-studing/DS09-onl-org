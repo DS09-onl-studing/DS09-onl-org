{
  "nbformat": 4,
  "nbformat_minor": 0,
  "metadata": {
    "colab": {
      "provenance": []
    },
    "kernelspec": {
      "name": "python3",
      "display_name": "Python 3"
    },
    "language_info": {
      "name": "python"
    }
  },
  "cells": [
    {
      "cell_type": "code",
      "source": [
        "# 1. Написать функцию, вычисляющее значение функции при х = 1.79"
      ],
      "metadata": {
        "id": "Litebdy0RKaZ"
      },
      "execution_count": null,
      "outputs": []
    },
    {
      "cell_type": "code",
      "source": [
        "# (Сложное задание, спросил решение у GPT и проанализировал)"
      ],
      "metadata": {
        "id": "pBl0T7o9i7PJ"
      },
      "execution_count": null,
      "outputs": []
    },
    {
      "cell_type": "code",
      "source": [
        "import math\n",
        "\n",
        "def calculate_function(x: float, r: float) -> float:\n",
        "  part1 = (math.cos(math.exp(x)) + math.log(1 + r - x)) ** 2\n",
        "  inner_sqrt = math.sqrt(1 / x + math.cos(x) ** 2)\n",
        "  part2 = math.sqrt(math.exp(math.cos(x)) + math.sin(math.pi * x) ** 2 - inner_sqrt)\n",
        "  y = part1 + part2 * 2 * math.sin(x)\n",
        "  return y\n",
        "\n",
        "x = 1.79\n",
        "result = calculate_function(x, r)\n",
        "print(f\"Результат: {result}\")"
      ],
      "metadata": {
        "colab": {
          "base_uri": "https://localhost:8080/"
        },
        "id": "R9ajo8gTRKRL",
        "outputId": "c316aaf2-0688-470f-e7ee-f55916e1fcc4"
      },
      "execution_count": null,
      "outputs": [
        {
          "output_type": "stream",
          "name": "stdout",
          "text": [
            "Результат: 1.6015978354566096\n"
          ]
        }
      ]
    },
    {
      "cell_type": "code",
      "execution_count": null,
      "metadata": {
        "id": "v2bKDGhEYGsy"
      },
      "outputs": [],
      "source": [
        "# 2. Напишите функцию search_substr(subst, st), которая принимает 2 строки и определяет, имеется ли подстрока subst в строке st. В случае нахождения подстроки, возвращается фраза «Есть контакт!», а иначе «Мимо!». Должно быть найдено совпадение независимо от регистра обеих строк."
      ]
    },
    {
      "cell_type": "code",
      "source": [
        "def search_substr(substr: str, st: str) -> str:\n",
        "  substr, st = substr.casefold(), st.casefold()\n",
        "  i = st.find(substr)\n",
        "  if i <0:\n",
        "    print('Мимо!')\n",
        "  else:\n",
        "    print('Есть контакт!')\n",
        "\n",
        "search_substr('1', 'Hello')\n",
        "search_substr('h', 'Hello')"
      ],
      "metadata": {
        "colab": {
          "base_uri": "https://localhost:8080/"
        },
        "id": "LJMqiPSXYU2L",
        "outputId": "51265516-c614-466e-c241-99be8dccc46d"
      },
      "execution_count": null,
      "outputs": [
        {
          "output_type": "stream",
          "name": "stdout",
          "text": [
            "Мимо!\n",
            "Есть контакт!\n"
          ]
        }
      ]
    },
    {
      "cell_type": "code",
      "source": [
        "# 3. На основании строки определить 3 наиболее часто встречаемых символа в ней. Пробелы нужно игнорировать (не учитывать при подсчете). Для простоты подсчета количества вхождений символов удобно использовать Counter из модуля collections"
      ],
      "metadata": {
        "id": "Y2JluXUaeMck"
      },
      "execution_count": null,
      "outputs": []
    },
    {
      "cell_type": "code",
      "source": [
        "from collections import Counter\n",
        "\n",
        "def symb_count(text: str) -> tuple[str, str, str]:\n",
        "  text = text.replace(\" \", \"\")\n",
        "  # text = ''.join(text.split())\n",
        "  counts = Counter(text)\n",
        "  sorted_counts = sorted(counts.items(), key=lambda x: (-x[1], text.index(x[0])))\n",
        "  top_three = tuple(x[0] for x in sorted_counts[:3])\n",
        "  return top_three + (\"\",) * (3 - len(top_three))\n",
        "\n",
        "symb_count('Hello Hello      ')\n"
      ],
      "metadata": {
        "colab": {
          "base_uri": "https://localhost:8080/"
        },
        "id": "FFMo1BS5e3ow",
        "outputId": "5304f40d-85b6-4e1a-b97e-e4d696202efb"
      },
      "execution_count": null,
      "outputs": [
        {
          "output_type": "execute_result",
          "data": {
            "text/plain": [
              "('l', 'H', 'e')"
            ]
          },
          "metadata": {},
          "execution_count": 5
        }
      ]
    },
    {
      "cell_type": "code",
      "source": [
        "# 4. Дана строка в виде случайной последовательности чисел от 0 до 9. Требуется создать словарь, который в качестве ключей будет принимать данные числа (т. е. ключи будут типом int), а в качестве значений – количество этих чисел в имеющейся последовательности. Для построения словаря создайте функцию count_it(sequence), принимающую строку из цифр. Функция должна возвратить словарь из 3-х самых часто встречаемых чисел."
      ],
      "metadata": {
        "id": "nBUy5ODEg5n1"
      },
      "execution_count": null,
      "outputs": []
    },
    {
      "cell_type": "code",
      "source": [
        "from collections import Counter\n",
        "\n",
        "def count_in(sequence: str) -> dict[{str: int, str: int, str: int}]:\n",
        "  counts = dict(Counter(sequence))\n",
        "  sorted_counts = sorted(counts.items(), key=lambda x: -x[1])\n",
        "  top_three = dict(sorted_counts[:3])\n",
        "  print(top_three)\n",
        "\n",
        "count_in('56021353156015604912560487320598432756071070516')"
      ],
      "metadata": {
        "colab": {
          "base_uri": "https://localhost:8080/"
        },
        "id": "lyOW7wsOhMS_",
        "outputId": "bbe333c7-6238-4ebd-d130-6860d0f05f15"
      },
      "execution_count": null,
      "outputs": [
        {
          "output_type": "stream",
          "name": "stdout",
          "text": [
            "{'5': 8, '0': 8, '6': 6}\n"
          ]
        }
      ]
    },
    {
      "cell_type": "code",
      "source": [
        "# 5. Шахматы. у вас есть стандартное поле 8*8, после введения координат (a, b) нахождения вашей фигуры и фигуры соперника (с, d), необходимо получить ответ, угрожает ли вражеская фигура вам: 1) вражеская фигура ферзь; 2) вражеская фигура конь."
      ],
      "metadata": {
        "id": "w8qaSYs6Pr4l"
      },
      "execution_count": null,
      "outputs": []
    },
    {
      "cell_type": "code",
      "source": [
        "# (Сложное задание, спросил у GPT и проанализировал)"
      ],
      "metadata": {
        "id": "YPaZCT88iwRB"
      },
      "execution_count": null,
      "outputs": []
    },
    {
      "cell_type": "code",
      "source": [
        "def is_threatened(a, b, c, d: int, enemy: str) -> bool\n",
        "    if enemy == \"queen\":  # Проверка для ферзя\n",
        "        if a == c or b == d or abs(a - c) == abs(b - d):\n",
        "            return True\n",
        "    elif enemy == \"knight\":  # Проверка для коня\n",
        "        knight_moves = [\n",
        "            (a + 2, b + 1), (a + 2, b - 1), (a - 2, b + 1), (a - 2, b - 1),\n",
        "            (a + 1, b + 2), (a + 1, b - 2), (a - 1, b + 2), (a - 1, b - 2)\n",
        "        ]\n",
        "        if (c, d) in knight_moves:\n",
        "            return True\n",
        "    return False\n",
        "\n",
        "# Ввод данных\n",
        "print(\"Выберите фигуру соперника для проверки:\")\n",
        "print(\"1 - Ферзь\\n2 - Конь\")\n",
        "figure_choice = int(input(\"Введите 1 или 2: \"))\n",
        "\n",
        "# Определение типа фигуры\n",
        "enemy_figure = \"queen\" if figure_choice == 1 else \"knight\"\n",
        "\n",
        "# Ввод координат своей и вражеской фигуры\n",
        "a, b = map(int, input(\"Введите координаты вашей фигуры (a, b) через пробел: \").split())\n",
        "c, d = map(int, input(\"Введите координаты фигуры соперника (c, d) через пробел: \").split())\n",
        "\n",
        "# Проверка и вывод результата\n",
        "if is_threatened(a, b, c, d, enemy_figure):\n",
        "    print(\"Ваша фигура под угрозой!\")\n",
        "else:\n",
        "    print(\"Ваша фигура не под угрозой.\")"
      ],
      "metadata": {
        "id": "2VpEyoe9iZhb"
      },
      "execution_count": null,
      "outputs": []
    }
  ]
}