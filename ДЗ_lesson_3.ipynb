{
  "nbformat": 4,
  "nbformat_minor": 0,
  "metadata": {
    "colab": {
      "provenance": []
    },
    "kernelspec": {
      "name": "python3",
      "display_name": "Python 3"
    },
    "language_info": {
      "name": "python"
    }
  },
  "cells": [
    {
      "cell_type": "code",
      "execution_count": null,
      "metadata": {
        "id": "Rn2mQx_N6WRQ"
      },
      "outputs": [],
      "source": [
        "# 1. Написать программу для решения квадратных уравнений."
      ]
    },
    {
      "cell_type": "code",
      "source": [
        "a, b, c = map(int, input('Для уравнения ax2 + bx + c = 0 введите через запятую a, b, c:').split(','))\n",
        "discriminant = b**2 - 4*a*c\n",
        "if discriminant > 0:\n",
        "  x1 = (-b + discriminant ** (0.5)) / (2*a)\n",
        "  x2 = (-b - discriminant ** (0.5)) / (2*a)\n",
        "  print('Уравнение имеет 2 корня:')\n",
        "  print('Корень 1: ', x1)\n",
        "  print('Корень 2: ', x2)\n",
        "elif discriminant == 0:\n",
        "  x1 = -b / (2*a)\n",
        "  print('Уравнение имеет 1 корень:')\n",
        "  print('Корень: ', x1)\n",
        "else:\n",
        "  print('Уравнение не имеет корней')"
      ],
      "metadata": {
        "id": "YexD6LTj6jZS"
      },
      "execution_count": null,
      "outputs": []
    },
    {
      "cell_type": "code",
      "source": [
        "# 2. Дан произвольный список. Представьте его в обратном порядке."
      ],
      "metadata": {
        "id": "JBhutBhE60DV"
      },
      "execution_count": null,
      "outputs": []
    },
    {
      "cell_type": "code",
      "source": [
        "a = [1,2,3,4,5]\n",
        "for i in range(len(a), 0, -1):\n",
        "  print(i)\n",
        "# Также можно перезаписать переменную \"а\", а не инициировать \"b\" во всех решениях"
      ],
      "metadata": {
        "id": "VkYUx-8G7zS5"
      },
      "execution_count": null,
      "outputs": []
    },
    {
      "cell_type": "code",
      "source": [
        "for i in reversed(a):\n",
        "  print(i)"
      ],
      "metadata": {
        "id": "cO2gVSv37sta"
      },
      "execution_count": null,
      "outputs": []
    },
    {
      "cell_type": "code",
      "source": [
        "i = a[::-1]\n",
        "print(b)"
      ],
      "metadata": {
        "id": "cTuHzuTD7uRX"
      },
      "execution_count": null,
      "outputs": []
    },
    {
      "cell_type": "code",
      "source": [
        "# 3. Напишите функцию change(lst), которая принимает список и меняет местами его первый и последний элемент. В исходном списке минимум 2 элемента."
      ],
      "metadata": {
        "id": "HOrmlUv49uoH"
      },
      "execution_count": null,
      "outputs": []
    },
    {
      "cell_type": "code",
      "source": [
        "def change(lst):\n",
        "  if len(lst) >= 2:\n",
        "    lst[-1], lst[0] = lst[0], lst[-1]\n",
        "\n",
        "lst = [1, 2, 3, 4, 5]\n",
        "change(lst)\n",
        "print(lst)"
      ],
      "metadata": {
        "colab": {
          "base_uri": "https://localhost:8080/"
        },
        "id": "kKngyttX99sS",
        "outputId": "a23425cb-0fe4-4ec4-d69f-966021af0488"
      },
      "execution_count": 28,
      "outputs": [
        {
          "output_type": "stream",
          "name": "stdout",
          "text": [
            "[5, 2, 3, 4, 1]\n"
          ]
        }
      ]
    },
    {
      "cell_type": "code",
      "source": [
        "# 4. Николай задумался о поиске «бесполезного» числа на основании списка. Суть оного в следующем: он берет произвольный список чисел, находит самое большое из них, а затем делит его на длину списка. Студент пока не придумал, где может пригодиться подобное значение, но ищет у вас помощи в реализации такой функции useless(s)."
      ],
      "metadata": {
        "id": "dXR-klhW_iI-"
      },
      "execution_count": null,
      "outputs": []
    },
    {
      "cell_type": "code",
      "source": [
        "def useless(s):\n",
        "  lst.sort(reverse=True)\n",
        "  s = lst[0] / len(lst)\n",
        "\n",
        "lst = [1, 2, 4, 10, 5, 6]\n",
        "useless(s)\n",
        "print(s)"
      ],
      "metadata": {
        "colab": {
          "base_uri": "https://localhost:8080/"
        },
        "id": "S-zDjKVSCNmc",
        "outputId": "d337c0ef-08ed-4e9b-8f1e-6d25a0026ddc"
      },
      "execution_count": 42,
      "outputs": [
        {
          "output_type": "stream",
          "name": "stdout",
          "text": [
            "1.6666666666666667\n"
          ]
        }
      ]
    },
    {
      "cell_type": "code",
      "source": [
        "# 5. На входе имеем список строк разной длины. Необходимо написать функцию all_eq(lst), которая вернет новый список из строк одинаковой длины. Длину итоговой строки определяем исходя из самой большой из них. Если конкретная строка короче самой длинной, дополнить ее нижними подчеркиваниями с правого края до требуемго количества символов. Расположение элементов начального списка не менять."
      ],
      "metadata": {
        "id": "0UJSLBPWF8qo"
      },
      "execution_count": null,
      "outputs": []
    },
    {
      "cell_type": "code",
      "source": [
        "def all_eq(lst):\n",
        "  max_len = max(len(s) for s in lst)\n",
        "  return [s.ljust(max_len, '_') for s in lst]\n",
        "\n",
        "lst = ['кот', 'собака', 'медведь']\n",
        "lst = all_eq(lst)\n",
        "print(lst)"
      ],
      "metadata": {
        "colab": {
          "base_uri": "https://localhost:8080/"
        },
        "id": "KiEvU2iRJCyk",
        "outputId": "02ec897b-607f-4703-9911-a7730a5e3dab"
      },
      "execution_count": 49,
      "outputs": [
        {
          "output_type": "stream",
          "name": "stdout",
          "text": [
            "['кот____', 'собака_', 'медведь']\n"
          ]
        }
      ]
    }
  ]
}