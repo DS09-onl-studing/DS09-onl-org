{
  "nbformat": 4,
  "nbformat_minor": 0,
  "metadata": {
    "colab": {
      "provenance": []
    },
    "kernelspec": {
      "name": "python3",
      "display_name": "Python 3"
    },
    "language_info": {
      "name": "python"
    }
  },
  "cells": [
    {
      "cell_type": "code",
      "execution_count": null,
      "metadata": {
        "id": "wHLThn98pFZm"
      },
      "outputs": [],
      "source": [
        "# 1. Напишите функцию для разделения строки и преобразования ее в список слов. Пример \"Robin Singh\" ==> [\"Robin\", \"Singh\"]"
      ]
    },
    {
      "cell_type": "code",
      "source": [
        "def devide(st: str) -> list[str, str]:\n",
        "  print(f\"{st.split()}\")\n",
        "\n",
        "devide('Robin Singh')"
      ],
      "metadata": {
        "colab": {
          "base_uri": "https://localhost:8080/"
        },
        "id": "g3BtzO-trh_w",
        "outputId": "ae3b28db-c4cd-4f74-cb0b-d2714d467754"
      },
      "execution_count": null,
      "outputs": [
        {
          "output_type": "stream",
          "name": "stdout",
          "text": [
            "['Robin', 'Singh']\n"
          ]
        }
      ]
    },
    {
      "cell_type": "code",
      "source": [
        "# 2. Натан любит кататься на велосипеде. Поскольку Натан знает, как важно избегать обезвоживания, он выпивает 0,5 литра воды за час езды на велосипеде. Вам дано время в часах, и вам нужно вернуть количество литров, которое выпьет Натан, округленное до наименьшего значения. Пример time = 3 ----> litres = 1"
      ],
      "metadata": {
        "id": "ytr_Fbm0tbDD"
      },
      "execution_count": null,
      "outputs": []
    },
    {
      "cell_type": "code",
      "source": [
        "time = input('Сколько часов ехал Натан? : ')\n",
        "time = int(time)\n",
        "\n",
        "def water_count(time: int) -> int:\n",
        "  water = int(time // 2)\n",
        "  if water == 0:\n",
        "    print('Натан выпил меньше литра воды.')\n",
        "  elif water == 1:\n",
        "    print('Натан выпил полный литр воды.')\n",
        "  elif 1 < water < 5:\n",
        "    print(f\"Натан выпил {water} полных литра воды.\")\n",
        "  else:\n",
        "    print(f\"Натан выпил {water} полных литров воды.\")\n",
        "\n",
        "water_count(time)"
      ],
      "metadata": {
        "colab": {
          "base_uri": "https://localhost:8080/"
        },
        "id": "y0WKzzBJtp6l",
        "outputId": "bda476c3-cc10-40b5-dcb7-f65c5afe5ba6"
      },
      "execution_count": null,
      "outputs": [
        {
          "output_type": "stream",
          "name": "stdout",
          "text": [
            "Сколько часов ехал Натан? : 2\n",
            "Натан выпил полный литр воды\n"
          ]
        }
      ]
    },
    {
      "cell_type": "code",
      "source": [
        "# 3. Создайте функцию, которая возвращает список целых чисел от n до 1, где n>0. Пример: n=5-->[5,4,3,2,1]"
      ],
      "metadata": {
        "id": "tm-oxxdBxY9A"
      },
      "execution_count": null,
      "outputs": []
    },
    {
      "cell_type": "code",
      "source": [
        "n = input('Введите начальное число: ')\n",
        "n = int(n)\n",
        "\n",
        "def factor_list(n: int) -> list[n-1>0]:\n",
        "  list1 = [n]\n",
        "  while n > 1:\n",
        "    n += -1\n",
        "    list1.append(n)\n",
        "  return list1\n",
        "\n",
        "factor_list(n)"
      ],
      "metadata": {
        "id": "cnER3DdwyEja"
      },
      "execution_count": null,
      "outputs": []
    },
    {
      "cell_type": "code",
      "source": [
        "# 4. Учитывая год, верните столетие, в котором он находится. Пример 1705 --> 18 1900 --> 19 1601 --> 17"
      ],
      "metadata": {
        "id": "s3zLs8ho3Nf7"
      },
      "execution_count": null,
      "outputs": []
    },
    {
      "cell_type": "code",
      "source": [
        "year = input('Введите год: ')\n",
        "year = int(year)\n",
        "\n",
        "def centery(year: int) -> int:\n",
        "  if year > 0:\n",
        "    print(f\"Дата пренадлежит {year // 100 + 1} веку н.э.\")\n",
        "  elif year == 0:\n",
        "    print(\"В стандартном летоисчислении не было 0 года, т.к. 0 ещё не изобрели:)\")\n",
        "  else: print(f\"Дата пренадлежит {abs(year // 100)} веку до н.э.\")\n",
        "\n",
        "centery(year)"
      ],
      "metadata": {
        "id": "IrjvECNq3SYx"
      },
      "execution_count": null,
      "outputs": []
    },
    {
      "cell_type": "code",
      "source": [
        "# 5. Учитывая случайное неотрицательное число, вам необходимо вернуть цифры этого числа в массиве в обратном порядке. 35231 => [1,3,2,5,3]"
      ],
      "metadata": {
        "id": "PC7xcw095Uu1"
      },
      "execution_count": null,
      "outputs": []
    },
    {
      "cell_type": "code",
      "source": [
        "def get_number():\n",
        "  while True:\n",
        "    print('Введите неотрицательное число: ')\n",
        "    x = input()\n",
        "    try:\n",
        "      x = int(x)\n",
        "      if x < 0:\n",
        "        print('Это значит без знака \"-\"..')\n",
        "      else:\n",
        "        return x\n",
        "    except ValueError:\n",
        "      print('Так тут не число. По-новой)')\n",
        "\n",
        "\n",
        "x = get_number()\n",
        "x = str(x)\n",
        "\n",
        "def reverse(x: str) -> list:\n",
        "  x = x[::-1]\n",
        "  x = list(x)\n",
        "  print(x)\n",
        "\n",
        "reverse(x)"
      ],
      "metadata": {
        "id": "bPhERTsr5b38"
      },
      "execution_count": null,
      "outputs": []
    },
    {
      "cell_type": "code",
      "source": [
        "# 6. Получить квадратные матрицы порядка n (через список как на занятии), элементами которых являются заданные действительные числа 1, 2, ..., n*n, расположенные в ней по схемам, которые приведены на рисунках"
      ],
      "metadata": {
        "id": "I-v7RSeVNP-t"
      },
      "execution_count": null,
      "outputs": []
    },
    {
      "cell_type": "code",
      "source": [
        "def vertical_snake_matrix(n):\n",
        "    matrix = [[0] * n for _ in range(n)]\n",
        "    num = 1\n",
        "    for col in range(n):\n",
        "        if col % 2 == 0:  # Четный столбец (идем сверху вниз)\n",
        "            for row in range(n):\n",
        "                matrix[row][col] = num\n",
        "                num += 1\n",
        "        else:  # Нечетный столбец (идем снизу вверх)\n",
        "            for row in range(n-1, -1, -1):\n",
        "                matrix[row][col] = num\n",
        "                num += 1\n",
        "    return matrix\n",
        "\n",
        "# Пример использования\n",
        "n = 5\n",
        "matrix = vertical_snake_matrix(n)\n",
        "for row in matrix:\n",
        "    print(row)"
      ],
      "metadata": {
        "id": "3rS3CJiwNXJ0"
      },
      "execution_count": null,
      "outputs": []
    },
    {
      "cell_type": "code",
      "source": [
        "def horisontal_recursed_matrix(n: int) -> list:\n",
        "  num = 1\n",
        "  for row in range(n):\n",
        "    line = list(range(num, num + n))\n",
        "    num += n\n",
        "    if row % 2 != 0:\n",
        "      line.reverse()\n",
        "    print(line)\n",
        "\n",
        "horisontal_matrix(3)"
      ],
      "metadata": {
        "id": "2UOEkZ3fDIGs"
      },
      "execution_count": null,
      "outputs": []
    }
  ]
}