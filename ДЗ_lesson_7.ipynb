{
  "nbformat": 4,
  "nbformat_minor": 0,
  "metadata": {
    "colab": {
      "provenance": []
    },
    "kernelspec": {
      "name": "python3",
      "display_name": "Python 3"
    },
    "language_info": {
      "name": "python"
    }
  },
  "cells": [
    {
      "cell_type": "markdown",
      "source": [
        "1. Создать класс Money для работы с денежными суммами. Число должно\n",
        "быть представлено двумя полями: для рублей и для копеек. Копейки при\n",
        "выводе на экран должна быть отделена от целой части запятой.\n",
        "Реализовать сложение, вычитание, деление сумм, деление суммы на\n",
        "дробное число, умножение"
      ],
      "metadata": {
        "id": "kyrfz3KCiXkE"
      }
    },
    {
      "cell_type": "code",
      "source": [
        "from typing import Union\n",
        "\n",
        "class Money:\n",
        "\n",
        "  def __init__(self, integer: int, fractional: int) -> str:\n",
        "    self.integer = integer\n",
        "    self.fractional = fractional\n",
        "    if 0 <= fractional <= 99:\n",
        "      self._value = str(self.integer) + ',' + str(self.fractional)\n",
        "      print(f\"Ваш баланс кошелька составляет {self._value} рублей\")\n",
        "    else:\n",
        "      print('Копейки лежат в диапазоне от 0 до 99')\n",
        "\n",
        "  def add(self, money: int) -> str:\n",
        "    self._value = round((float(str(self.integer) + '.' + str(self.fractional))) + money, 2)\n",
        "    self._value = [str(self._value).split('.')[0], str(self._value).split('.')[1]]\n",
        "    self.integer, self.fractional = self._value[0], self._value[1]\n",
        "    self._value = str(self._value[0]) + ',' + str(self._value[1])\n",
        "    print(f\" Вы добавили {money} рублей\")\n",
        "    print(f\" Баланс: {self._value} рублей\")\n",
        "\n",
        "  def subtraction(self, money: int) -> str:\n",
        "    self._value = round((float(str(self.integer) + '.' + str(self.fractional))) - money, 2)\n",
        "    self._value = [str(self._value).split('.')[0], str(self._value).split('.')[1]]\n",
        "    self.integer, self.fractional = self._value[0], self._value[1]\n",
        "    self._value = str(self._value[0]) + ',' + str(self._value[1])\n",
        "    print(f\" Вы вычли {money} рублей\")\n",
        "    print(f\" Баланс: {self._value} рублей\")\n",
        "\n",
        "  def divide(self, parts: Union[int, Money]) -> str:\n",
        "    if isinstance(parts, Money):\n",
        "      parts = parts._value\n",
        "      parts = parts.replace(',','.')\n",
        "      parts = float(parts)\n",
        "      print(f\" Сейчас вы делите суммы {Money}, где аргумент преобразован в делитель\")\n",
        "    self._value = round(((int(str(self.integer) + str(self.fractional))) / parts / 100), 2)\n",
        "    self._value = [str(self._value).split('.')[0], str(self._value).split('.')[1]]\n",
        "    self.integer, self.fractional = self._value[0], self._value[1]\n",
        "    self._value = str(self._value[0]) + ',' + str(self._value[1])\n",
        "    print(f\" Вы разделили на {parts} частей\")\n",
        "    print(f\" Баланс: {self._value} рублей\")\n",
        "\n",
        "  def multiplication(self, multiplicator: int) -> str:\n",
        "    self._value = round((float(str(self.integer) + '.' + str(self.fractional))) * multiplicator, 2)\n",
        "    self._value = [str(self._value).split('.')[0], str(self._value).split('.')[1]]\n",
        "    self.integer, self.fractional = self._value[0], self._value[1]\n",
        "    self._value = str(self._value[0]) + ',' + str(self._value[1])\n",
        "    print(f\" Вы умножили на {multiplicator}\")\n",
        "    print(f\" Баланс: {self._value} рублей\")\n",
        "\n",
        "\n",
        "\n",
        "nmoney = Money(-10, 15)\n",
        "nmoney.add(25.54)\n",
        "nmoney.subtraction(11.63)\n",
        "nmoney.divide(5.5)\n",
        "nmoney.multiplication(3.7)\n",
        "nmoney2 = Money(15, 25)\n",
        "nmoney.divide(nmoney2)"
      ],
      "metadata": {
        "id": "nLAoubJiY9AY",
        "colab": {
          "base_uri": "https://localhost:8080/"
        },
        "outputId": "86b28f57-c402-4aba-a698-3308296fc0e2"
      },
      "execution_count": 18,
      "outputs": [
        {
          "output_type": "stream",
          "name": "stdout",
          "text": [
            "Ваш баланс кошелька составляет -10,15 рублей\n",
            " Вы добавили 25.54 рублей\n",
            " Баланс: 15,39 рублей\n",
            " Вы вычли 11.63 рублей\n",
            " Баланс: 3,76 рублей\n",
            " Вы разделили на 5.5 частей\n",
            " Баланс: 0,68 рублей\n",
            " Вы умножили на 3.7\n",
            " Баланс: 2,52 рублей\n",
            "Ваш баланс кошелька составляет 15,25 рублей\n",
            " Сейчас вы делите суммы <class '__main__.Money'>, где аргумент преобразован в делитель\n",
            " Вы разделили на 15.25 частей\n",
            " Баланс: 0,17 рублей\n"
          ]
        }
      ]
    },
    {
      "cell_type": "code",
      "source": [
        "# Попытка сделать геттер-сеттер для fractional, но не принтит текст из сеттера\n",
        "'''\n",
        "class Money:\n",
        "\n",
        "  def __init__(self, integer: int, fractional: int) -> str:\n",
        "    self.integer = integer\n",
        "    self.__fractional = fractional\n",
        "    self._value = str(self.integer) + ',' + str(self.__fractional)\n",
        "\n",
        "  @property\n",
        "  def fractional(self):\n",
        "    return self.__fractional\n",
        "\n",
        "  @fractional.setter\n",
        "  def fractional(self, fractional):\n",
        "    if 0 <= fractional <= 99:\n",
        "      self._value = str(self.integer) + ',' + str(self.__fractional)\n",
        "      print(f\"Ваш баланс кошелька составляет {self._value} рублей\")\n",
        "    else:\n",
        "      print('Копейки лежат в диапазоне от 0 до 99')\n",
        "\n",
        "\n",
        "\n",
        "  def add(self, money: int) -> str:\n",
        "    self._value = round((float(str(self.integer) + '.' + str(self.__fractional))) + money, 2)\n",
        "    self._value = [str(self._value).split('.')[0], str(self._value).split('.')[1]]\n",
        "    self.integer, self.__fractional = self._value[0], self._value[1]\n",
        "    self._value = str(self._value[0]) + ',' + str(self._value[1])\n",
        "    print(f\" Вы добавили {money} рублей\")\n",
        "    print(f\" Баланс: {self._value} рублей\")\n",
        "\n",
        "  def subtraction(self, money: int) -> str:\n",
        "    self._value = round((float(str(self.integer) + '.' + str(self.__fractional))) - money, 2)\n",
        "    self._value = [str(self._value).split('.')[0], str(self._value).split('.')[1]]\n",
        "    self.integer, self.__fractional = self._value[0], self._value[1]\n",
        "    self._value = str(self._value[0]) + ',' + str(self._value[1])\n",
        "    print(f\" Вы вычли {money} рублей\")\n",
        "    print(f\" Баланс: {self._value} рублей\")\n",
        "\n",
        "  def divide(self, parts: int | Money) -> str:\n",
        "    if isinstance(parts, Money):\n",
        "      parts = parts._value\n",
        "      parts = parts.replace(',','.')\n",
        "      parts = float(parts)\n",
        "      print(f\" Сейчас вы делите суммы {Money}, где аргумент преобразован в делитель\")\n",
        "    self._value = round(((int(str(self.integer) + str(self.__fractional))) / parts / 100), 2)\n",
        "    self._value = [str(self._value).split('.')[0], str(self._value).split('.')[1]]\n",
        "    self.integer, self.__fractional = self._value[0], self._value[1]\n",
        "    self._value = str(self._value[0]) + ',' + str(self._value[1])\n",
        "    print(f\" Вы разделили на {parts} частей\")\n",
        "    print(f\" Баланс: {self._value} рублей\")\n",
        "\n",
        "  def multiplication(self, multiplicator: int) -> str:\n",
        "    self._value = round((float(str(self.integer) + '.' + str(self.__fractional))) * multiplicator, 2)\n",
        "    self._value = [str(self._value).split('.')[0], str(self._value).split('.')[1]]\n",
        "    self.integer, self.__fractional = self._value[0], self._value[1]\n",
        "    self._value = str(self._value[0]) + ',' + str(self._value[1])\n",
        "    print(f\" Вы умножили на {multiplicator}\")\n",
        "    print(f\" Баланс: {self._value} рублей\")\n",
        "\n",
        "\n",
        "nmoney = Money(-10, 15)\n",
        "nmoney.add(25.54)\n",
        "nmoney.subtraction(11.63)\n",
        "nmoney.divide(5.5)\n",
        "nmoney.multiplication(3.7)\n",
        "nmoney2 = Money(15, 25)\n",
        "nmoney.divide(nmoney2)"
      ],
      "metadata": {
        "id": "3O6NHFZ5eHv_"
      },
      "execution_count": null,
      "outputs": []
    },
    {
      "cell_type": "markdown",
      "source": [
        "2. Создать класс матрица и реализовать алгоритмы математических\n",
        "операций над матрицами (сложение друг с другом, умножение на\n",
        "скалярну"
      ],
      "metadata": {
        "id": "TUS9_DV4iTEB"
      }
    },
    {
      "cell_type": "code",
      "source": [
        "class Matrix:\n",
        "\n",
        "  def __init__(self, data: list) -> list:\n",
        "    self.data = data\n",
        "    self.col = len(data[0])\n",
        "    self.row = len(data)\n",
        "\n",
        "  def add(self, value: list) -> list:\n",
        "    if isinstance(value, Matrix):\n",
        "      result = [[self.data[i][j] + value.data[i][j] for j in range(self.col)] for i in range(self.row)]\n",
        "      self.data = result\n",
        "      print(f\"Результат сложения матриц: {self.data}\")\n",
        "    else:\n",
        "      print('Для сложения нужна вторая матрица')\n",
        "\n",
        "  def multiplication(self, multiplicator):\n",
        "    if isinstance(multiplicator, (int, float)):\n",
        "      result = [[self.data[i][j] * multiplicator for j in range(self.col)] for i in range(self.row)]\n",
        "      self.data = result\n",
        "      print(f\"Результат умножения матрицы на число: {self.data}\")\n",
        "    else:\n",
        "      print('Для умножения нужнен скаляр')\n",
        "\n",
        "\n",
        "\n",
        "matrix1 = Matrix([[1,2],[3,4]])\n",
        "matrix2 = Matrix([[2,2],[2,2]])\n",
        "matrix1.add(3)\n",
        "matrix1.add(matrix2)\n",
        "matrix1.multiplication(matrix2)\n",
        "matrix1.multiplication(3)\n"
      ],
      "metadata": {
        "colab": {
          "base_uri": "https://localhost:8080/"
        },
        "id": "aHqYin5jHu4Q",
        "outputId": "1bb1fe9f-a153-4900-9e92-37d08ee47004"
      },
      "execution_count": 20,
      "outputs": [
        {
          "output_type": "stream",
          "name": "stdout",
          "text": [
            "Для сложения нужна вторая матрица\n",
            "Результат сложения матриц: [[3, 4], [5, 6]]\n",
            "Для умножения нужнен скаляр\n",
            "Результат умножения матрицы на число: [[9, 12], [15, 18]]\n"
          ]
        }
      ]
    }
  ]
}